{
 "cells": [
  {
   "cell_type": "code",
   "execution_count": 1,
   "metadata": {},
   "outputs": [
    {
     "name": "stderr",
     "output_type": "stream",
     "text": [
      "[nltk_data] Downloading package stopwords to /home/abose/nltk_data...\n",
      "[nltk_data]   Package stopwords is already up-to-date!\n",
      "<ipython-input-1-f22521b75d83>:41: DeprecationWarning: This package has been superseded by the `leidenalg` package and will no longer be maintained. Please upgrade to the `leidenalg` package.\n",
      "  import louvain\n"
     ]
    }
   ],
   "source": [
    "import sys\n",
    "import numpy as np\n",
    "import pandas as pd\n",
    "import pymongo\n",
    "import bson\n",
    "import json\n",
    "import time\n",
    "import datetime\n",
    "import os\n",
    "import collections\n",
    "import random\n",
    "import gensim\n",
    "from gensim.models.doc2vec import Doc2Vec, TaggedDocument\n",
    "from gensim.summarization import keywords\n",
    "import csv\n",
    "import string\n",
    "import re\n",
    "import io\n",
    "import itertools\n",
    "from sklearn.feature_extraction.text import TfidfVectorizer\n",
    "from sklearn.cluster import DBSCAN\n",
    "from sklearn.metrics import f1_score\n",
    "from sklearn.metrics import accuracy_score\n",
    "from sklearn.metrics.pairwise import cosine_similarity\n",
    "from sklearn.model_selection import train_test_split\n",
    "from ast import literal_eval\n",
    "import nltk\n",
    "from nltk.corpus import stopwords\n",
    "import gensim.downloader as api\n",
    "import networkx as nx\n",
    "import math\n",
    "from tqdm import trange, tqdm\n",
    "from symspellpy.symspellpy import SymSpell, Verbosity\n",
    "from nltk import word_tokenize\n",
    "nltk.download('stopwords')\n",
    "from networkx.algorithms import community\n",
    "import community as community_louvain\n",
    "import matplotlib.cm as cm\n",
    "import matplotlib.pyplot as plt\n",
    "import igraph as ig\n",
    "import louvain\n",
    "import leidenalg\n",
    "stopwords = nltk.corpus.stopwords.words('english')\n",
    "import hdbscan\n",
    "import torch\n",
    "from transformers import AutoTokenizer, BertTokenizer, BertModel\n",
    "from transformers import DistilBertModel, DistilBertConfig, DistilBertTokenizer"
   ]
  },
  {
   "cell_type": "code",
   "execution_count": 2,
   "metadata": {},
   "outputs": [],
   "source": [
    "# contractions_save = json.dumps(contractions)\n",
    "# file = open(\"/home/abose/Threat Intel/contractions_save.json\",\"w\")\n",
    "# file.write(contractions_save)\n",
    "# file.close()\n",
    "with open('/home/abose/Threat Intel/contractions_save.json') as file:\n",
    "    contractions = json.load(file)"
   ]
  },
  {
   "cell_type": "code",
   "execution_count": 3,
   "metadata": {},
   "outputs": [],
   "source": [
    "def extend_doc(doc):\n",
    "    tokens = doc.split()\n",
    "    for idx, token in enumerate(tokens):\n",
    "        if token in contractions:\n",
    "            tokens[idx]=contractions[token]\n",
    "    tokens = ' '.join(tokens)\n",
    "    return tokens"
   ]
  },
  {
   "cell_type": "code",
   "execution_count": 4,
   "metadata": {},
   "outputs": [],
   "source": [
    "def hook_compound(input_termList):\n",
    "#     if not input_termList or input_termList == None or input_termList == \"\":\n",
    "#         return input_termList\n",
    "    # maximum edit distance per dictionary precalculation\n",
    "    symSpell_1st_TotalTweetText=[]\n",
    "    max_edit_distance_dictionary = 2\n",
    "    prefix_length = 7\n",
    "    # create object\n",
    "    sym_spell = SymSpell(max_edit_distance_dictionary, prefix_length)\n",
    "    # load dictionary\n",
    "    dictionary_path = os.path.join(os.path.dirname(\"E:\\\\Threat_Intel_Research\\\\\"),\"frequency_dictionary_en_82_765.txt\")\n",
    "    term_index = 0  # column of the term in the dictionary text file\n",
    "    count_index = 1  # column of the term frequency in the dictionary text file\n",
    "    if not sym_spell.load_dictionary(dictionary_path, term_index, count_index):\n",
    "        print(\"Dictionary file not found\")\n",
    "        return\n",
    "\n",
    "    # max edit distance per lookup (per single word, not per whole input string)\n",
    "    max_edit_distance_lookup = 2\n",
    "    input_term2 = re.sub(r\"http\\S+\", \"\", input_termList)\n",
    "    suggestions = sym_spell.lookup_compound(input_term2, max_edit_distance_lookup)\n",
    "    for suggestion in suggestions:\n",
    "        symSpell_1st_TotalTweetText.append(suggestion.term)\n",
    " \n",
    "    return symSpell_1st_TotalTweetText"
   ]
  },
  {
   "cell_type": "code",
   "execution_count": 5,
   "metadata": {},
   "outputs": [],
   "source": [
    "def mainLookUp(input_termLookList):\n",
    "#     if not input_termLookList or input_termLookList == None or input_termLookList == \"\":\n",
    "#         return input_termLookList\n",
    "    symSpell_2nd_TotalTweetText=[]\n",
    "    # maximum edit distance per dictionary precalculation\n",
    "    max_edit_distance_dictionary = 0\n",
    "    prefix_length = 7\n",
    "    # create object\n",
    "    sym_spell = SymSpell(max_edit_distance_dictionary, prefix_length)\n",
    "    # load dictionary\n",
    "    dictionary_path = os.path.join(os.path.dirname(\"E:\\\\Threat_Intel_Research\\\\\"),\"frequency_dictionary_en_82_765.txt\")\n",
    "    term_index = 0  # column of the term in the dictionary text file\n",
    "    count_index = 1  # column of the term frequency in the dictionary text file\n",
    "    if not sym_spell.load_dictionary(dictionary_path, term_index, count_index):\n",
    "        print(\"Dictionary file not found\")\n",
    "        return\n",
    "\n",
    "    # a sentence without any spaces\n",
    "    if input_termLookList:\n",
    "        result = sym_spell.word_segmentation(input_termLookList)\n",
    "        symSpell_2nd_TotalTweetText.append(result.corrected_string)\n",
    "    return symSpell_2nd_TotalTweetText"
   ]
  },
  {
   "cell_type": "code",
   "execution_count": 6,
   "metadata": {},
   "outputs": [],
   "source": [
    "def clean_doc(doc):\n",
    "    # split into tokens by white space\n",
    "    #doc = re.sub(r\\\"http\\\\S+\\\", \\\"\\\", doc)\n",
    "    tokens = doc.split()\n",
    "    # remove punctuation from each token\n",
    "    table = str.maketrans('', '', string.punctuation)\n",
    "    tokens = [w.translate(table) for w in tokens]\n",
    "    #remove remaining tokens that are not alphabetic\n",
    "    tokens = [word for word in tokens if word.isalpha()]\n",
    "    # filter out stop words\n",
    "    stop_words = set(stopwords)\n",
    "    tokens = [w for w in tokens if not w in stop_words]\n",
    "    #tokens = [stemmer.stem(t) for t in tokens]\n",
    "    # filter out short tokens\n",
    "    tokens = [word for word in tokens if len(word) > 1]\n",
    "    tokens = ' '.join(tokens)\n",
    "    return tokens"
   ]
  },
  {
   "cell_type": "code",
   "execution_count": 7,
   "metadata": {},
   "outputs": [],
   "source": [
    "def process_text(text):\n",
    "    text = extend_doc(text)\n",
    "#     textSpell = hook_compound(text)\n",
    "#     if len(textSpell[0])>=5:\n",
    "#         textSpell = mainLookUp(textSpell[0])\n",
    "#         cleanedText = clean_doc(textSpell[0])\n",
    "    if len(text)>=5:\n",
    "        cleanedText = clean_doc(text)\n",
    "    else:\n",
    "        cleanedText=\"NAAAN\"\n",
    "    return cleanedText"
   ]
  },
  {
   "cell_type": "code",
   "execution_count": 8,
   "metadata": {},
   "outputs": [],
   "source": [
    "#define vectorizer parameters\n",
    "def apply_TFIDF(fname):\n",
    "    tfidf_vectorizer = TfidfVectorizer(max_df=0.99,lowercase=True, max_features=200000,min_df=0.001, stop_words='english', use_idf=True)\n",
    "    #check_mat=tfidf_vectorizer.fit(fname)\n",
    "    #print(\"check \", check_mat.vocabulary_)\n",
    "    tfidf_matrix = tfidf_vectorizer.fit_transform(fname) #fit the vectorizer to synopses\n",
    "    #print(tfidf_matrix.shape, tfidf_matrix[0,0], tfidf_matrix[0,1], tfidf_matrix[0,2], tfidf_matrix[0,3])\n",
    "    terms = tfidf_vectorizer.get_feature_names()\n",
    "    #print(tfidf_matrix.shape, \" + \",terms, tfidf_vectorizer.idf_)\n",
    "    print(\" + \", tfidf_matrix.shape, \" + \")\n",
    "    return tfidf_matrix"
   ]
  },
  {
   "cell_type": "code",
   "execution_count": 9,
   "metadata": {},
   "outputs": [],
   "source": [
    "def userObjectDictionaryFunction():\n",
    "    connection=pymongo.MongoClient()\n",
    "    srcUserDB=connection.user_src_identification\n",
    "    collection=srcUserDB.taggedData40k\n",
    "    cursor=collection.find({},{\"_id\":0}).limit(40761)\n",
    "    userObjectData=[]\n",
    "    userIdDict=dict()\n",
    "    for data in cursor:\n",
    "        userDataDict=dict()\n",
    "        for key, value in data.items():\n",
    "            if key==\"id\":\n",
    "                userID=value\n",
    "            if key==\"Description\":\n",
    "                userDataDict.update({\"Description\":value})\n",
    "            if key==\"DescTag\":\n",
    "                userDataDict.update({\"DescTag\":value})\n",
    "            if key==\"Followers\":\n",
    "                userDataDict.update({\"Followers\":value})\n",
    "            if key==\"Following\":\n",
    "                userDataDict.update({\"Following\":value})\n",
    "            if key==\"Tweets\":\n",
    "                userDataDict.update({\"Tweets\":value})\n",
    "            if key==\"TweetsTags\":\n",
    "                userDataDict.update({\"TweetsTags\":value})\n",
    "            if key==\"AllText\":\n",
    "                userDataDict.update({\"AllText\":value})\n",
    "            if key==\"AllTextTags\":\n",
    "                userDataDict.update({\"AllTextTags\":value})\n",
    "        userIdDict.update({int(userID):userDataDict})\n",
    "    return userIdDict\n",
    "userIdDict = userObjectDictionaryFunction()"
   ]
  },
  {
   "cell_type": "code",
   "execution_count": 10,
   "metadata": {},
   "outputs": [
    {
     "data": {
      "text/plain": [
       "40761"
      ]
     },
     "execution_count": 10,
     "metadata": {},
     "output_type": "execute_result"
    }
   ],
   "source": [
    "len(userIdDict)"
   ]
  },
  {
   "cell_type": "code",
   "execution_count": 11,
   "metadata": {},
   "outputs": [
    {
     "data": {
      "text/html": [
       "<div>\n",
       "<style scoped>\n",
       "    .dataframe tbody tr th:only-of-type {\n",
       "        vertical-align: middle;\n",
       "    }\n",
       "\n",
       "    .dataframe tbody tr th {\n",
       "        vertical-align: top;\n",
       "    }\n",
       "\n",
       "    .dataframe thead th {\n",
       "        text-align: right;\n",
       "    }\n",
       "</style>\n",
       "<table border=\"1\" class=\"dataframe\">\n",
       "  <thead>\n",
       "    <tr style=\"text-align: right;\">\n",
       "      <th></th>\n",
       "      <th>id</th>\n",
       "      <th>Description</th>\n",
       "      <th>DescTag</th>\n",
       "      <th>Tweets</th>\n",
       "      <th>TweetsTags</th>\n",
       "      <th>AllText</th>\n",
       "      <th>AllTextTags</th>\n",
       "      <th>Followers</th>\n",
       "      <th>Following</th>\n",
       "      <th>Annotation</th>\n",
       "    </tr>\n",
       "  </thead>\n",
       "  <tbody>\n",
       "    <tr>\n",
       "      <th>0</th>\n",
       "      <td>1161296115637084162</td>\n",
       "      <td>#Spider Overlord calling #darknet home. Talk #...</td>\n",
       "      <td>[/technology and computing/hardware/computer c...</td>\n",
       "      <td>[A wild sponsor appears!  Two more bundles hat...</td>\n",
       "      <td>[[/style and fashion/luxury goods, /pets/large...</td>\n",
       "      <td>A wild sponsor appears!  Two more bundles hath...</td>\n",
       "      <td>[/art and entertainment/movies and tv/movies, ...</td>\n",
       "      <td>[1112062964260110336, 985304744146202624, 1304...</td>\n",
       "      <td>[347191988, 1302055132822110209, 14727747, 330...</td>\n",
       "      <td>relevant</td>\n",
       "    </tr>\n",
       "    <tr>\n",
       "      <th>1</th>\n",
       "      <td>1112062964260110336</td>\n",
       "      <td>🍣 researcher 🦕 pentester 😈 web monkey 🙊 datteb...</td>\n",
       "      <td>[/technology and computing/internet technology...</td>\n",
       "      <td>[Perhaps currently I 'm going through the most...</td>\n",
       "      <td>[[/society/unrest and war, /art and entertainm...</td>\n",
       "      <td>@alicanact60 @Hacker0x01 👍👍👍👍👍@SecGoblin @root...</td>\n",
       "      <td>[/technology and computing/hardware, /technolo...</td>\n",
       "      <td>[1229142485823315968, 28482605, 773838475]</td>\n",
       "      <td>[1145546584752394241, 1235115096528936960, 220...</td>\n",
       "      <td>irrelevant</td>\n",
       "    </tr>\n",
       "    <tr>\n",
       "      <th>2</th>\n",
       "      <td>985304744146202624</td>\n",
       "      <td>bebe gay III 🏳️‍🌈 ه҈̿҈̿҈̿҈̿҈̿҈̿҈̿҈̿҈̿҈̿҈̿҈̿҈̿҈...</td>\n",
       "      <td>[/society/gay life]</td>\n",
       "      <td>[]</td>\n",
       "      <td>[]</td>\n",
       "      <td>bebe gay III 🏳️‍🌈 ه҈̿҈̿҈̿҈̿҈̿҈̿҈̿҈̿҈̿҈̿҈̿҈̿҈̿҈...</td>\n",
       "      <td>[/society/gay life]</td>\n",
       "      <td>[]</td>\n",
       "      <td>[]</td>\n",
       "      <td>irrelevant</td>\n",
       "    </tr>\n",
       "    <tr>\n",
       "      <th>3</th>\n",
       "      <td>861889353869557762</td>\n",
       "      <td>Hi, it's me // SEO Class of 2008 // Autodidact...</td>\n",
       "      <td>[/technology and computing/internet technology...</td>\n",
       "      <td>[Airbnb markets are crazy right now https://t....</td>\n",
       "      <td>[[/travel/vacation rentals, /finance/investing...</td>\n",
       "      <td>Airbnb markets are crazy right now https://t.c...</td>\n",
       "      <td>[/food and drink/vegetarian, /food and drink/v...</td>\n",
       "      <td>[1026799219716177920, 1134088559617630208, 117...</td>\n",
       "      <td>[22589449, 2707742660, 1099713672434335744]</td>\n",
       "      <td>irrelevant</td>\n",
       "    </tr>\n",
       "    <tr>\n",
       "      <th>4</th>\n",
       "      <td>733074959338213379</td>\n",
       "      <td>Cybersecurity is a ILLUSION</td>\n",
       "      <td>[/technology and computing/computer security, ...</td>\n",
       "      <td>[]</td>\n",
       "      <td>[]</td>\n",
       "      <td>Cybersecurity is a ILLUSION</td>\n",
       "      <td>[/technology and computing/computer crime, /te...</td>\n",
       "      <td>[]</td>\n",
       "      <td>[]</td>\n",
       "      <td>relevant</td>\n",
       "    </tr>\n",
       "  </tbody>\n",
       "</table>\n",
       "</div>"
      ],
      "text/plain": [
       "                    id                                        Description  \\\n",
       "0  1161296115637084162  #Spider Overlord calling #darknet home. Talk #...   \n",
       "1  1112062964260110336  🍣 researcher 🦕 pentester 😈 web monkey 🙊 datteb...   \n",
       "2   985304744146202624  bebe gay III 🏳️‍🌈 ه҈̿҈̿҈̿҈̿҈̿҈̿҈̿҈̿҈̿҈̿҈̿҈̿҈̿҈...   \n",
       "3   861889353869557762  Hi, it's me // SEO Class of 2008 // Autodidact...   \n",
       "4   733074959338213379                        Cybersecurity is a ILLUSION   \n",
       "\n",
       "                                             DescTag  \\\n",
       "0  [/technology and computing/hardware/computer c...   \n",
       "1  [/technology and computing/internet technology...   \n",
       "2                                [/society/gay life]   \n",
       "3  [/technology and computing/internet technology...   \n",
       "4  [/technology and computing/computer security, ...   \n",
       "\n",
       "                                              Tweets  \\\n",
       "0  [A wild sponsor appears!  Two more bundles hat...   \n",
       "1  [Perhaps currently I 'm going through the most...   \n",
       "2                                                 []   \n",
       "3  [Airbnb markets are crazy right now https://t....   \n",
       "4                                                 []   \n",
       "\n",
       "                                          TweetsTags  \\\n",
       "0  [[/style and fashion/luxury goods, /pets/large...   \n",
       "1  [[/society/unrest and war, /art and entertainm...   \n",
       "2                                                 []   \n",
       "3  [[/travel/vacation rentals, /finance/investing...   \n",
       "4                                                 []   \n",
       "\n",
       "                                             AllText  \\\n",
       "0  A wild sponsor appears!  Two more bundles hath...   \n",
       "1  @alicanact60 @Hacker0x01 👍👍👍👍👍@SecGoblin @root...   \n",
       "2  bebe gay III 🏳️‍🌈 ه҈̿҈̿҈̿҈̿҈̿҈̿҈̿҈̿҈̿҈̿҈̿҈̿҈̿҈...   \n",
       "3  Airbnb markets are crazy right now https://t.c...   \n",
       "4                        Cybersecurity is a ILLUSION   \n",
       "\n",
       "                                         AllTextTags  \\\n",
       "0  [/art and entertainment/movies and tv/movies, ...   \n",
       "1  [/technology and computing/hardware, /technolo...   \n",
       "2                                [/society/gay life]   \n",
       "3  [/food and drink/vegetarian, /food and drink/v...   \n",
       "4  [/technology and computing/computer crime, /te...   \n",
       "\n",
       "                                           Followers  \\\n",
       "0  [1112062964260110336, 985304744146202624, 1304...   \n",
       "1         [1229142485823315968, 28482605, 773838475]   \n",
       "2                                                 []   \n",
       "3  [1026799219716177920, 1134088559617630208, 117...   \n",
       "4                                                 []   \n",
       "\n",
       "                                           Following  Annotation  \n",
       "0  [347191988, 1302055132822110209, 14727747, 330...    relevant  \n",
       "1  [1145546584752394241, 1235115096528936960, 220...  irrelevant  \n",
       "2                                                 []  irrelevant  \n",
       "3        [22589449, 2707742660, 1099713672434335744]  irrelevant  \n",
       "4                                                 []    relevant  "
      ]
     },
     "execution_count": 11,
     "metadata": {},
     "output_type": "execute_result"
    }
   ],
   "source": [
    "######## Only For Validation #########\n",
    "avg_prop_preList = list()\n",
    "avg_prop_recList = list()\n",
    "avg_prop_f1List = list()\n",
    "avg_thirdB_preList = list()\n",
    "avg_thirdB_recList = list()\n",
    "avg_thirdB_f1List = list()\n",
    "validation_DF = pd.read_json(\"annotated_smallNetwork.json\", lines=True)\n",
    "validation_DF.head(5)"
   ]
  },
  {
   "cell_type": "code",
   "execution_count": 12,
   "metadata": {},
   "outputs": [
    {
     "name": "stdout",
     "output_type": "stream",
     "text": [
      "Name: \n",
      "Type: DiGraph\n",
      "Number of nodes: 938\n",
      "Number of edges: 964\n",
      "Average in degree:   1.0277\n",
      "Average out degree:   1.0277\n"
     ]
    },
    {
     "data": {
      "image/png": "[encoded data removed]",
      "text/plain": [
       "<Figure size 432x288 with 1 Axes>"
      ]
     },
     "metadata": {},
     "output_type": "display_data"
    }
   ],
   "source": [
    "######## Only For Validation #########\n",
    "val_FollowerNode = list()\n",
    "val_FollowingNode = list()\n",
    "val_follow_count_mapper = dict()\n",
    "nodeId_Set= set(validation_DF['id'])\n",
    "for index, DataRow in validation_DF.iterrows():\n",
    "    if 'Followers' in DataRow:\n",
    "        if DataRow['id'] in userIdDict:\n",
    "            val_follow_count_mapper[DataRow['id']] = len(userIdDict[DataRow['id']]['Followers'])\n",
    "        else:\n",
    "            val_follow_count_mapper[DataRow['id']] = len(DataRow['Followers'])\n",
    "#         for val_followerKey, val_follower in enumerate(literal_eval(DataRow['Followers'])):\n",
    "        for val_followerKey, val_follower in enumerate(DataRow['Followers']):\n",
    "            if val_follower in nodeId_Set:\n",
    "                val_FollowerNode.append((int(DataRow['id']), int(val_follower), 1))\n",
    "    if 'Following' in DataRow:\n",
    "        if DataRow['id'] in userIdDict:\n",
    "            val_follow_count_mapper[DataRow['id']] = val_follow_count_mapper[DataRow['id']] + len(userIdDict[DataRow['id']]['Following'])\n",
    "        else:\n",
    "            val_follow_count_mapper[DataRow['id']] =  val_follow_count_mapper[DataRow['id']] + len(DataRow['Following'])\n",
    "#         for val_followingKey, val_following in enumerate(literal_eval(DataRow['Following'])):\n",
    "        for val_followingKey, val_following in enumerate(DataRow['Following']):\n",
    "            if val_following in nodeId_Set:\n",
    "                val_FollowingNode.append((int(val_following), int(DataRow['id']), 1))\n",
    "            \n",
    "val_FollowerDF = pd.DataFrame(val_FollowerNode, columns =['Src', 'Des', 'Score'])\n",
    "val_FollowingDF= pd.DataFrame(val_FollowingNode, columns = ['Src', 'Des', 'Score'])\n",
    "val_FollowDF = pd.concat([val_FollowerDF,val_FollowingDF])\n",
    "val_FollowDF.to_csv(\"val_FollowDF.csv\", sep=',', index=False, header=False)\n",
    "val_nx_graph=nx.read_edgelist('val_FollowDF.csv', delimiter=',', data=(('weight',float),), nodetype=int, create_using=nx.DiGraph())\n",
    "print(nx.info(val_nx_graph))\n",
    "nx.draw(val_nx_graph)\n",
    "plt.show()"
   ]
  },
  {
   "cell_type": "markdown",
   "metadata": {},
   "source": [
    "### Only For Validation ####"
   ]
  },
  {
   "cell_type": "code",
   "execution_count": 13,
   "metadata": {},
   "outputs": [],
   "source": [
    "valid_userIdDict = {nodeID:userIdDict[nodeID] for nodeID in nodeId_Set if nodeID in userIdDict}\n",
    "userIdDict = valid_userIdDict"
   ]
  },
  {
   "cell_type": "markdown",
   "metadata": {},
   "source": [
    "### First Baseline method execution starts from here"
   ]
  },
  {
   "cell_type": "code",
   "execution_count": 14,
   "metadata": {},
   "outputs": [],
   "source": [
    "MPopular_baseLine = [{k: v} for k, v in sorted(val_follow_count_mapper.items(), key=lambda item: item[1])][-50:]"
   ]
  },
  {
   "cell_type": "markdown",
   "metadata": {},
   "source": [
    "### First Baseline method execution ends here"
   ]
  },
  {
   "cell_type": "code",
   "execution_count": 15,
   "metadata": {},
   "outputs": [
    {
     "data": {
      "text/plain": [
       "937"
      ]
     },
     "execution_count": 15,
     "metadata": {},
     "output_type": "execute_result"
    }
   ],
   "source": [
    "# print(len(userIdDict.keys()), len(nodeId_Set), userIdDict.keys())\n",
    "# print(val_follow_count_mapper)\n",
    "len(list(userIdDict.values()))"
   ]
  },
  {
   "cell_type": "code",
   "execution_count": 16,
   "metadata": {},
   "outputs": [],
   "source": [
    "def create_Json_Processed_Data_File():\n",
    "    for userID, entries in userIdDict.items():\n",
    "        processedTweetTextList = list()\n",
    "        if \"Tweets\" in entries:\n",
    "            if len(entries[\"Tweets\"]) != 0:\n",
    "                for tweetText in entries[\"Tweets\"]:\n",
    "                    if len(tweetText) <= 5:\n",
    "                        continue\n",
    "                    else:\n",
    "                        processedTweetTextList.append(process_text(tweetText))\n",
    "                entries.update({\"Tweets\":processedTweetTextList})\n",
    "            else:\n",
    "                del entries[\"Tweets\"]\n",
    "        if \"AllText\" in entries:\n",
    "            if len(entries[\"AllText\"]) >= 5:\n",
    "                entries.update({\"AllText\":process_text(entries[\"AllText\"])})\n",
    "            elif \"Tweets\" in entries and len(entries[\"AllText\"]) < 5 and len(entries[\"Tweets\"]) >= 2:\n",
    "                entries.update({\"AllText\":' '.join(processedTweetTextList)})\n",
    "            else:\n",
    "                del entries[\"AllText\"]\n",
    "        if \"Description\" in entries:\n",
    "            if len(entries[\"Description\"]) >= 5:\n",
    "                entries.update({\"Description\":process_text(entries[\"Description\"])})\n",
    "            else:\n",
    "                del entries[\"Description\"]\n",
    "        if 'DescTag' in entries:\n",
    "            if len(entries['DescTag']) == 0:\n",
    "                del entries['DescTag']\n",
    "    with open('userIdDict.json', 'w') as fp:\n",
    "        json.dump(userIdDict, fp)\n",
    "create_Json_Processed_Data_File()"
   ]
  },
  {
   "cell_type": "markdown",
   "metadata": {},
   "source": [
    "### The following code block assigns score to a twitter account based on the IBM watson tagging and helps removing twitter account from the analysis if the account is not relevant ###"
   ]
  },
  {
   "cell_type": "code",
   "execution_count": 17,
   "metadata": {},
   "outputs": [],
   "source": [
    "def categoryAnalyzer(tweetID, Type):\n",
    "    userScoreDict=dict()\n",
    "    score=0\n",
    "    keepOrDiscard=True\n",
    "    if tweetID not in userIdDict:\n",
    "        userScoreDict[tweetID] = 0\n",
    "        keepOrDiscard = False\n",
    "        return keepOrDiscard, userScoreDict\n",
    "    if \"TweetsTags\" not in userIdDict[tweetID] and \"DescTag\" not in userIdDict[tweetID]:\n",
    "        userScoreDict[tweetID] = 0\n",
    "        keepOrDiscard = False\n",
    "        return keepOrDiscard, userScoreDict\n",
    "    if \"TweetsTags\" in userIdDict[tweetID] and Type==True:\n",
    "        countTech=0\n",
    "        countSci=0\n",
    "        for per_TextID, categoryList in enumerate(userIdDict[tweetID][\"TweetsTags\"]):\n",
    "            for tagID, category in enumerate(categoryList):\n",
    "                if \"antivirus and malware\" in category:\n",
    "                    score=score+1\n",
    "                    break\n",
    "                if \"technology and computing\" in category:\n",
    "                    if (countTech%5)==0:\n",
    "                        score=score+0.5\n",
    "                    countTech=countTech+1\n",
    "                    break\n",
    "                if \"computer science\" in category:\n",
    "                    if (countSci%5)==0:\n",
    "                        score=score+0.1\n",
    "                    countSci=countSci+1\n",
    "        if countTech<=2:\n",
    "            userScoreDict[tweetID] = 0\n",
    "            keepOrDiscard = False\n",
    "    if \"DescTag\" in userIdDict[tweetID] and Type==True:\n",
    "        for tagID, category in enumerate(userIdDict[tweetID][\"DescTag\"]):\n",
    "            if \"technology and computing\" in category:\n",
    "                score=score+2\n",
    "                break\n",
    "            if \"computer science\" in category:\n",
    "                score=score+0.5\n",
    "    if keepOrDiscard==True:\n",
    "        userScoreDict[tweetID] = score\n",
    "#     else:\n",
    "#         print(\"Assign 0\")\n",
    "    return keepOrDiscard, userScoreDict"
   ]
  },
  {
   "cell_type": "code",
   "execution_count": 18,
   "metadata": {},
   "outputs": [],
   "source": [
    "# categoryAnalyzer(1006326206579511296, True)\n",
    "# userIdDict[222405719]"
   ]
  },
  {
   "cell_type": "markdown",
   "metadata": {},
   "source": [
    "### Only need for main data execution"
   ]
  },
  {
   "cell_type": "code",
   "execution_count": null,
   "metadata": {},
   "outputs": [],
   "source": [
    "followerNode=list()\n",
    "followingNode=list()\n",
    "for key, item in userIdDict.items():\n",
    "    if 'Followers' in item:\n",
    "        for follrKey, followerVal in enumerate(item['Followers']):\n",
    "            followerNode.append((int(key), int(followerVal), 1.00))\n",
    "    if 'Following' in item:\n",
    "        for follngKey, followingVal in enumerate(item['Following']):\n",
    "            followingNode.append((int(followingVal), int(key), 1.00))"
   ]
  },
  {
   "cell_type": "markdown",
   "metadata": {},
   "source": [
    "### Only need for main data execution"
   ]
  },
  {
   "cell_type": "code",
   "execution_count": null,
   "metadata": {},
   "outputs": [],
   "source": [
    "followerDF = pd.DataFrame(followerNode, columns =['Src', 'Des', 'Score'])\n",
    "followingDF= pd.DataFrame(followingNode, columns = ['Src', 'Des', 'Score'])\n",
    "followRelnDF = pd.concat([followerDF,followingDF])\n",
    "followerDF.to_csv(\"followerDF.csv\", sep=',', index=False, header=False)\n",
    "followingDF.to_csv(\"followingDF.csv\", sep=',', index=False, header=False)\n",
    "followRelnDF.to_csv(\"followRelnDF.csv\", sep=',', index=False, header=False)"
   ]
  },
  {
   "cell_type": "markdown",
   "metadata": {},
   "source": [
    "### Only need for main data execution"
   ]
  },
  {
   "cell_type": "code",
   "execution_count": null,
   "metadata": {},
   "outputs": [],
   "source": [
    "def graph_reader():\n",
    "    \"\"\"\n",
    "    Function to read the graph from the path.\n",
    "    :param path: Path to the edge list.\n",
    "    :return graph: NetworkX object returned.\n",
    "    \"\"\"\n",
    "    graph=nx.read_edgelist('followRelnDF.csv', delimiter=',', data=(('weight',float),), nodetype=int, create_using=nx.DiGraph())\n",
    "    graph1=nx.read_edgelist('followerDF.csv', delimiter=',', data=(('weight',float),), nodetype=int, create_using=nx.DiGraph())\n",
    "    graph2=nx.read_edgelist('followingDF.csv', delimiter=',', data=(('weight',float),), nodetype=int, create_using=nx.DiGraph())\n",
    "    return graph, graph1, graph2"
   ]
  },
  {
   "cell_type": "markdown",
   "metadata": {},
   "source": [
    "### Only need for main data execution"
   ]
  },
  {
   "cell_type": "code",
   "execution_count": null,
   "metadata": {},
   "outputs": [],
   "source": [
    "nx_graph, graph1, graph2 = graph_reader()\n",
    "# nx_graph.edges()"
   ]
  },
  {
   "cell_type": "code",
   "execution_count": null,
   "metadata": {},
   "outputs": [],
   "source": [
    "# nx_graph.nodes()\n",
    "# print(nx.info(nx_graph))\n",
    "# nx.draw(nx_graph)\n",
    "# plt.show()"
   ]
  },
  {
   "cell_type": "markdown",
   "metadata": {},
   "source": [
    "### Only For Validation ###"
   ]
  },
  {
   "cell_type": "code",
   "execution_count": 19,
   "metadata": {},
   "outputs": [],
   "source": [
    "nx_graph = val_nx_graph"
   ]
  },
  {
   "cell_type": "markdown",
   "metadata": {},
   "source": [
    "## Community Detection using Girvan-Newman Algorithm "
   ]
  },
  {
   "cell_type": "code",
   "execution_count": null,
   "metadata": {},
   "outputs": [],
   "source": [
    "communities_generator = community.girvan_newman(nx_graph)\n",
    "top_level_communities = next(communities_generator)\n",
    "next_level_communities = next(communities_generator)\n",
    "sorted(map(sorted, next_level_communities))"
   ]
  },
  {
   "cell_type": "code",
   "execution_count": null,
   "metadata": {},
   "outputs": [],
   "source": [
    "testList = sorted(map(sorted, next_level_communities))\n",
    "len(testList)"
   ]
  },
  {
   "cell_type": "code",
   "execution_count": null,
   "metadata": {},
   "outputs": [],
   "source": [
    "girvan_PartitionDict=dict()\n",
    "for idx, subGrList in enumerate(testList):\n",
    "    for ind, node in enumerate(subGrList):\n",
    "        girvan_PartitionDict.update({node:idx})\n",
    "# pos = nx.spring_layout(nx_graph)\n",
    "# cmap = cm.get_cmap('viridis', max(girvan_PartitionDict.values()) + 1)\n",
    "# nx.draw_networkx_nodes(nx_graph, pos, girvan_PartitionDict.keys(), node_size=40, cmap=cmap, node_color=list(girvan_PartitionDict.values()))\n",
    "# nx.draw_networkx_edges(nx_graph, pos, alpha=0.5)\n",
    "# plt.show()"
   ]
  },
  {
   "cell_type": "markdown",
   "metadata": {},
   "source": [
    "## Community Detection on Leiden Algorithm (Networkx+igraph)"
   ]
  },
  {
   "cell_type": "code",
   "execution_count": 20,
   "metadata": {},
   "outputs": [],
   "source": [
    "nxNode_to_Index_Mapping = {node:ind for ind, node in enumerate(list(nx_graph.nodes()))}\n",
    "index_to_nxNode_Mapping = {ind:node for ind, node in enumerate(list(nx_graph.nodes()))}\n",
    "nxNodeList = list(index_to_nxNode_Mapping.keys())\n",
    "mapped_Edgelist = [(nxNode_to_Index_Mapping[nodeTouple[0]], nxNode_to_Index_Mapping[nodeTouple[1]]) for nodeTouple in nx_graph.edges()]\n",
    "ig_graph = ig.Graph(len(nx_graph), mapped_Edgelist)\n",
    "# ig_graph = ig.Graph.Adjacency((nx.to_scipy_sparse_matrix(nx_graph) > 0).tolist())\n",
    "louvain_partition = louvain.find_partition(ig_graph, louvain.ModularityVertexPartition)\n",
    "leiden_partition = leidenalg.find_partition(ig_graph, leidenalg.ModularityVertexPartition)"
   ]
  },
  {
   "cell_type": "code",
   "execution_count": 21,
   "metadata": {},
   "outputs": [],
   "source": [
    "edgeList=ig_graph.get_edgelist()\n",
    "nx_conv_graph = nx.DiGraph(edgeList)"
   ]
  },
  {
   "cell_type": "code",
   "execution_count": 22,
   "metadata": {},
   "outputs": [],
   "source": [
    "leiden_partitionDict= dict()\n",
    "for ind, nodeList in enumerate(list(leiden_partition)):\n",
    "    for node in nodeList:\n",
    "        leiden_partitionDict.update({node:ind})"
   ]
  },
  {
   "cell_type": "code",
   "execution_count": 23,
   "metadata": {},
   "outputs": [],
   "source": [
    "# pos = nx.spring_layout(nx_conv_graph)\n",
    "# cmap = cm.get_cmap('viridis', max(leiden_partitionDict.values()) + 1)\n",
    "# nx.draw_networkx_nodes(nx_conv_graph, pos, leiden_partitionDict.keys(), node_size=10, cmap=cmap, node_color=list(leiden_partitionDict.values()))\n",
    "# nx.draw_networkx_edges(nx_conv_graph, pos, alpha=0.5)\n",
    "# plt.show()"
   ]
  },
  {
   "cell_type": "code",
   "execution_count": 24,
   "metadata": {},
   "outputs": [],
   "source": [
    "# print(leiden_partition)"
   ]
  },
  {
   "cell_type": "code",
   "execution_count": 25,
   "metadata": {},
   "outputs": [],
   "source": [
    "#Undirected Grpah\n",
    "# print(louvain_partition)"
   ]
  },
  {
   "cell_type": "code",
   "execution_count": 26,
   "metadata": {},
   "outputs": [],
   "source": [
    "def community_user_membership_function():\n",
    "    communityScoreDict=dict()\n",
    "    allUserScoreDict = dict()\n",
    "    communityTextDict=dict()\n",
    "    igraph_nx_mapper = dict()\n",
    "    valid_UserNodes_in_Community = dict()\n",
    "    userNode_Community_map = dict()\n",
    "    for commID, community in enumerate(leiden_partition):\n",
    "#         nxNodeList = list(nx_graph.nodes())\n",
    "        communityTotalScore=0\n",
    "        communityText = \"\"\n",
    "        CTI_userList=list()\n",
    "        for index, memberNode in enumerate(community):\n",
    "            igraph_nx_mapper.update({memberNode:index_to_nxNode_Mapping[nxNodeList[memberNode]]})\n",
    "            \n",
    "            status, id_with_Score = categoryAnalyzer(index_to_nxNode_Mapping[nxNodeList[memberNode]], True)\n",
    "            \n",
    "#             status, id_with_Score = categoryAnalyzer(nxNodeList[memberNode], True)\n",
    "            \n",
    "            communityTotalScore = communityTotalScore + list(id_with_Score.values())[0]\n",
    "            allUserScoreDict.update(id_with_Score)\n",
    "            if status == True:\n",
    "                if userIdDict[index_to_nxNode_Mapping[nxNodeList[memberNode]]]['Tweets'] and userIdDict[index_to_nxNode_Mapping[nxNodeList[memberNode]]]['Tweets'] != None:\n",
    "                    Tweets=' '.join(userIdDict[index_to_nxNode_Mapping[nxNodeList[memberNode]]]['Tweets'])\n",
    "                    communityText = communityText + \" \" + Tweets\n",
    "                    CTI_userList.append(index_to_nxNode_Mapping[nxNodeList[memberNode]])\n",
    "                    userNode_Community_map.update({index_to_nxNode_Mapping[nxNodeList[memberNode]]:commID})\n",
    "        communityScoreDict[commID] = communityTotalScore/(len(community))\n",
    "        valid_UserNodes_in_Community[commID] = CTI_userList\n",
    "    #     print(\"communityScoreDict-> \", communityScoreDict[commID], communityText)\n",
    "        if communityText or communityText != \"\":\n",
    "            communityTextDict.update({commID:communityText})\n",
    "    return communityScoreDict, allUserScoreDict, communityTextDict, igraph_nx_mapper, valid_UserNodes_in_Community, userNode_Community_map\n",
    "communityScoreDict, allUserScoreDict, communityTextDict, igraph_nx_mapper, valid_UserNodes_in_Community, userNode_Community_map = community_user_membership_function()"
   ]
  },
  {
   "cell_type": "code",
   "execution_count": 27,
   "metadata": {},
   "outputs": [],
   "source": [
    "# communityTextDict"
   ]
  },
  {
   "cell_type": "code",
   "execution_count": 28,
   "metadata": {},
   "outputs": [],
   "source": [
    "community_to_Index_Mapper = {node: i for i, node in enumerate(list(communityTextDict.keys()))}\n",
    "index_to_Community_Mapper = {i: node for i, node in enumerate(list(community_to_Index_Mapper.keys()))}\n",
    "# igraph_nx_mapper"
   ]
  },
  {
   "cell_type": "code",
   "execution_count": 29,
   "metadata": {},
   "outputs": [],
   "source": [
    "def seedInput(seedList):\n",
    "    seedNode_CleanedTextList =  list()\n",
    "    for idx, nodeID in enumerate(seedList):\n",
    "        userObject = userIdDict[seedList[idx]]\n",
    "        if 'AllText' in userObject and userObject['AllText'] != None and len(userObject['AllText'])>= 0:\n",
    "            seedNode_CleanedTextList.append(userObject['AllText'])\n",
    "    return seedNode_CleanedTextList"
   ]
  },
  {
   "cell_type": "code",
   "execution_count": 30,
   "metadata": {},
   "outputs": [],
   "source": [
    "#seed node input\n",
    "def text_tfIdf_Vectorization(commOrUser_TextDict_or_TextList, seed_TextList):\n",
    "    if isinstance(commOrUser_TextDict_or_TextList, dict):\n",
    "        sparse_tfIdfVector = apply_TFIDF(list(commOrUser_TextDict_or_TextList.values()) + seed_TextList)\n",
    "    if isinstance(commOrUser_TextDict_or_TextList, list):\n",
    "        sparse_tfIdfVector = apply_TFIDF(commOrUser_TextDict_or_TextList + seed_TextList)\n",
    "    return sparse_tfIdfVector"
   ]
  },
  {
   "cell_type": "code",
   "execution_count": 82,
   "metadata": {},
   "outputs": [],
   "source": [
    "seedList = [835035547, 1102643178,1927923236]\n",
    "# seedList = [97721735,398400323, 459375780]\n",
    "# seedList = [609536134, 37771774, 42920448]\n",
    "# seedList = [1089055000427298816, 1310985002356813824]\n",
    "seedNode_CleanedTextList = seedInput(seedList)"
   ]
  },
  {
   "cell_type": "code",
   "execution_count": 83,
   "metadata": {},
   "outputs": [],
   "source": [
    "def similarty_Calculation_and_MaxSimilar_Community_or_Node_retrieval(seed_sparse_tfIdfVector, index_to_entity_Mapper, seedList, val):\n",
    "    if val == True:\n",
    "        selection = 100\n",
    "    else:\n",
    "        selection = 3\n",
    "    seed_sparse_tfIdfVector = seed_sparse_tfIdfVector.toarray()\n",
    "    similarityMatrix = cosine_similarity(seed_sparse_tfIdfVector[-len(seedList):],seed_sparse_tfIdfVector[0:(seed_sparse_tfIdfVector.shape[0]-len(seedList))])\n",
    "    MaxSimilartyList = [list(similarityMatrix[i].argsort()[-selection:][::-1]) for i in range(similarityMatrix.shape[0])]\n",
    "    print(MaxSimilartyList)\n",
    "    entitySimScore = np.array([np.take(similarityMatrix[i], indices, axis=0) for i, indices in enumerate(MaxSimilartyList)])\n",
    "    entityID = set([index_to_entity_Mapper[y] for x in MaxSimilartyList for y in x])\n",
    "    return similarityMatrix, MaxSimilartyList, entityID, entitySimScore"
   ]
  },
  {
   "cell_type": "markdown",
   "metadata": {},
   "source": [
    "##### Second baseline Code Starts here"
   ]
  },
  {
   "cell_type": "code",
   "execution_count": 33,
   "metadata": {},
   "outputs": [],
   "source": [
    "FoF_baseline = seedList.copy()\n",
    "def friend_of_friend_generator(FoF_baseline):\n",
    "    FoF_baseline = list(FoF_baseline)\n",
    "    feed_List_Set = FoF_baseline.copy()\n",
    "    print(feed_List_Set)\n",
    "    for feedNode in feed_List_Set:\n",
    "        if feedNode in userIdDict:\n",
    "            if 'Followers' in userIdDict[feedNode]:\n",
    "                FoF_baseline.extend(set(userIdDict[feedNode]['Followers']))\n",
    "    return FoF_baseline"
   ]
  },
  {
   "cell_type": "code",
   "execution_count": 34,
   "metadata": {},
   "outputs": [
    {
     "name": "stdout",
     "output_type": "stream",
     "text": [
      "Number of Iteration2\n",
      "[609536134, 37771774, 42920448]\n",
      "[42920448, 957952372579487745, 1091408530152845312, 709829599669194752, 868224767802978304, 1235623628126826497, 609536134, 35686150, 1113237559939936256, 1161296115637084162, 1225890456212508672, 46903822, 7773582, 59090320, 977112482, 113770018, 3156577578, 2436389418, 86424236, 3181970364, 14707266, 2369252168, 977202254, 33099864, 14836587, 37771774]\n",
      "149\n"
     ]
    }
   ],
   "source": [
    "rangeValue = int(input(\"Number of Iteration\"))\n",
    "for i in range(rangeValue):\n",
    "    FoF_baseline = friend_of_friend_generator(FoF_baseline)\n",
    "    FoF_baseline = {fol_1 for fol_1 in FoF_baseline if fol_1 in set(validation_DF['id'])}\n",
    "print(len(FoF_baseline))"
   ]
  },
  {
   "cell_type": "markdown",
   "metadata": {},
   "source": [
    "##### Second baseline Code Ends"
   ]
  },
  {
   "cell_type": "markdown",
   "metadata": {},
   "source": [
    "#### Third baseline Code Starts here"
   ]
  },
  {
   "cell_type": "code",
   "execution_count": 84,
   "metadata": {},
   "outputs": [
    {
     "name": "stdout",
     "output_type": "stream",
     "text": [
      " +  (899, 61061)  + \n"
     ]
    }
   ],
   "source": [
    "id_AllText_mapper = {tID: tVal['AllText'] for tID, tVal in userIdDict.items() if 'AllText' in tVal}\n",
    "thirdBase_userID_to_Index_Mapper = {node: i for i, node in enumerate(list(id_AllText_mapper.keys()))}\n",
    "index_to_thirdBase_userID_Mapper = {i: node for i, node in enumerate(list(thirdBase_userID_to_Index_Mapper.keys()))}\n",
    "CplusL_tfIdfVector = text_tfIdf_Vectorization(id_AllText_mapper, seedNode_CleanedTextList)"
   ]
  },
  {
   "cell_type": "code",
   "execution_count": 85,
   "metadata": {},
   "outputs": [
    {
     "name": "stdout",
     "output_type": "stream",
     "text": [
      "[[178, 65, 420, 76, 636, 197, 216, 214, 746, 432, 595, 732, 568, 784, 802, 588, 114, 604, 120, 855, 285, 258, 382, 44, 84, 662, 225, 735, 813, 383, 748, 616, 631, 272, 206, 336, 790, 687, 244, 384, 860, 472, 698, 846, 486, 118, 791, 680, 155, 601, 335, 548, 263, 854, 280, 730, 409, 833, 633, 255, 411, 657, 7, 622, 15, 623, 686, 12, 42, 362, 315, 337, 480, 45, 437, 369, 33, 311, 204, 306, 287, 745, 339, 242, 351, 539, 252, 516, 199, 130, 20, 672, 457, 600, 428, 570, 175, 220, 890, 278], [887, 643, 350, 747, 363, 455, 315, 800, 794, 876, 316, 124, 49, 46, 472, 748, 640, 195, 533, 681, 633, 622, 275, 786, 626, 341, 7, 854, 846, 588, 635, 77, 379, 357, 255, 66, 2, 459, 540, 112, 308, 828, 712, 130, 385, 62, 892, 215, 767, 536, 707, 616, 202, 762, 872, 863, 862, 809, 690, 535, 738, 287, 383, 105, 297, 889, 190, 216, 285, 262, 581, 200, 507, 138, 359, 72, 236, 20, 702, 474, 704, 258, 428, 335, 860, 389, 320, 266, 206, 442, 211, 768, 542, 790, 249, 278, 229, 710, 396, 289], [698, 508, 289, 285, 770, 808, 694, 517, 594, 732, 39, 248, 784, 853, 258, 45, 92, 778, 836, 214, 65, 25, 497, 587, 855, 409, 807, 262, 588, 194, 460, 420, 9, 196, 687, 178, 114, 61, 832, 738, 541, 372, 618, 573, 383, 112, 838, 818, 201, 363, 802, 150, 535, 813, 854, 455, 595, 746, 351, 419, 253, 81, 0, 242, 62, 58, 474, 703, 60, 160, 263, 94, 622, 132, 133, 211, 650, 806, 672, 815, 48, 763, 557, 735, 13, 344, 533, 617, 449, 799, 336, 216, 245, 833, 15, 335, 528, 299, 389, 636]]\n"
     ]
    }
   ],
   "source": [
    "val_similarityMatrix, val_MaxSimilartyList, val_userID, val_userSimScore = similarty_Calculation_and_MaxSimilar_Community_or_Node_retrieval(CplusL_tfIdfVector, index_to_thirdBase_userID_Mapper, seedList, True)\n",
    "CplusL_baseline = set(FoF_baseline).intersection(set(val_userID))"
   ]
  },
  {
   "cell_type": "markdown",
   "metadata": {},
   "source": [
    "#### Third baseline Code Ends here"
   ]
  },
  {
   "cell_type": "code",
   "execution_count": 86,
   "metadata": {},
   "outputs": [
    {
     "name": "stdout",
     "output_type": "stream",
     "text": [
      " +  (116, 51062)  + \n",
      "[[103, 92, 7], [109, 1, 83], [57, 88, 73]]\n"
     ]
    }
   ],
   "source": [
    "community_seed_sparse_tfIdfVector = text_tfIdf_Vectorization(communityTextDict, seedNode_CleanedTextList)\n",
    "similarityMatrix, MaxSimilartyList, communityID, communitySimScore = similarty_Calculation_and_MaxSimilar_Community_or_Node_retrieval(community_seed_sparse_tfIdfVector, index_to_Community_Mapper, seedList, False)"
   ]
  },
  {
   "cell_type": "code",
   "execution_count": 87,
   "metadata": {},
   "outputs": [
    {
     "name": "stdout",
     "output_type": "stream",
     "text": [
      "Seperate or AllSep\n",
      "[[103, 92, 7], [109, 1, 83], [57, 88, 73]] [[0.4678282  0.0686247  0.06353778]\n",
      " [0.27405529 0.11509823 0.09755909]\n",
      " [0.36488751 0.1515228  0.10452445]]\n"
     ]
    }
   ],
   "source": [
    "# MinSimilartyList = [list(similarityMatrix[i].argsort()[:-1]) for i in range(similarityMatrix.shape[0])]\n",
    "# outlierCommunityID = set([index_to_Community_Mapper[y] for x in MinSimilartyList for y in x])\n",
    "# outlierCommunityID = outlierCommunityID - communityID\n",
    "alpha = 1\n",
    "method = str(input(\"Seperate or All\"))\n",
    "if method ==\"Sep\":\n",
    "    print(MaxSimilartyList,communitySimScore)\n",
    "    communityWeight = np.array([np.array([communityScoreDict[index_to_Community_Mapper[y]] for y in x]) for x in MaxSimilartyList])\n",
    "    value = np.add(communitySimScore*alpha, communityWeight)\n",
    "#     print(value, communityWeight)\n",
    "if method == \"All\":\n",
    "    #     MaxSimilartyArray = set(itertools.chain.from_iterable(MaxSimilartyList))\n",
    "    communitySimScoreFlat = communitySimScore.flatten('C')\n",
    "    print(MaxSimilartyList,communitySimScore, communitySimScoreFlat)\n",
    "    communityWeightFlat = np.array([communityScoreDict[index_to_Community_Mapper[y]] for x in MaxSimilartyList for y in x])\n",
    "    value = np.add(communitySimScoreFlat, communityWeightFlat)\n",
    "#     print(value, communityWeight)"
   ]
  },
  {
   "cell_type": "code",
   "execution_count": 88,
   "metadata": {},
   "outputs": [
    {
     "name": "stdout",
     "output_type": "stream",
     "text": [
      " +  (23, 4278)  + \n",
      " +  (15, 2802)  + \n",
      " +  (8, 1562)  + \n",
      " +  (8, 1776)  + \n",
      " +  (9, 1852)  + \n",
      " +  (10, 1943)  + \n",
      " +  (10, 2099)  + \n",
      " +  (9, 1932)  + \n",
      " +  (6, 1417)  + \n",
      "{1: {2564083316: 3.072646439884527, 20812392: 4.569744365347786, 956177218140504065: 4.123147165896971, 15713079: 4.613386092474298, 1192262627000377344: 3.084044005648459}, 7: {814705163273469952: 2.7891189309165467, 2577596593: 2.66894786168995, 1624748894: 2.5416875126778526, 14595797: 3.6091239492202, 368613958: 1.601217220742996}, 103: {835035547: 6.099999999999999, 50860169: 4.2209924657758195}, 73: {126388704: 4.1614618348413615, 2815061384: 1.6922240579771786, 347191988: 4.300364532061378}, 109: {1102643178: 4.999999999999999, 7320782: 3.074440331391167, 214565239: 0.5533446404441729, 15615663: 1.5498009756999964}, 83: {545328728: 0.5517609719596523, 1922369282: 5.137475776873589, 819186227912052736: 1.1023228269579253, 1030965817561759744: 0.5533002751142245}, 88: {14707266: 3.576755086567074, 720372631892029440: 3.5676393802903363, 23089614: 5.6478925872737555, 737534308563324929: 2.391134661644857, 439500090: 3.0773781619519918}, 57: {19389668: 1.0638551991896756, 1927923236: 5.999999999999998, 582572869: 1.6435741268493667, 16965947: 0.5323766608863462, 817386408163819520: 0.5333733929723653}, 92: {7773582: 4.7343422522987755, 42920448: 3.200842299211028}}\n"
     ]
    }
   ],
   "source": [
    "def user_Search_in_Community(valid_UserNodes, seed_TextList):\n",
    "    user_Score_in_CommunityDict = dict()\n",
    "    for commKey in communityID:\n",
    "        usrID_score_dict = dict()\n",
    "        if commKey in valid_UserNodes:\n",
    "            community_Member_TextList = [userIdDict[userID]['AllText'] for userID in valid_UserNodes[commKey]]\n",
    "            userNode_seed_sparse_tfIdfVector = text_tfIdf_Vectorization(community_Member_TextList, seed_TextList)\n",
    "            userNode_seed_sparse_tfIdfVector = userNode_seed_sparse_tfIdfVector.toarray()\n",
    "#             print(\"userNode_seed_sparse_tfIdfVector-> \", userNode_seed_sparse_tfIdfVector.shape)\n",
    "            user_Seed_SimilarityMatrix = cosine_similarity(userNode_seed_sparse_tfIdfVector[-len(seedList):],userNode_seed_sparse_tfIdfVector[0:(userNode_seed_sparse_tfIdfVector.shape[0]-len(seedList))])\n",
    "#             print(\"#########\", user_Seed_SimilarityMatrix)\n",
    "            if user_Seed_SimilarityMatrix.shape[1] <= 1:\n",
    "                user_Seed_MaxSimilartyArr = np.array([np.zeros(len(user_Seed_SimilarityMatrix.flatten()))])\n",
    "                userNode_SimScore = np.array(user_Seed_SimilarityMatrix).flatten()\n",
    "            else:\n",
    "                user_Seed_MaxSimilartyArr = np.array([user_Seed_SimilarityMatrix[i].argsort()[-2:][::-1] for i in range(user_Seed_SimilarityMatrix.shape[0])])\n",
    "                ### Problem\n",
    "                userNode_SimScore = np.array([np.take(user_Seed_SimilarityMatrix[i], list(user_Seed_MaxSimilartyArr[i,:]), axis=0) for i in range(user_Seed_MaxSimilartyArr.shape[0])])\n",
    "            user_Seed_MaxSimilartyArrFlat = user_Seed_MaxSimilartyArr.flatten('C')\n",
    "            userNode_SimScoreFlat = userNode_SimScore.flatten('C')\n",
    "            userNodeID = [valid_UserNodes[commKey][int(x)] for x in np.nditer(user_Seed_MaxSimilartyArrFlat)]\n",
    "            userNode_Weight = np.array([allUserScoreDict[y] for y in userNodeID])\n",
    "            userNode_Score_Array = np.add(userNode_SimScoreFlat*alpha, userNode_Weight)\n",
    "#             print(\"user_Seed_MaxSimilartyArr-> \", user_Seed_MaxSimilartyArr,\" userNode_SimScoreFlat-> \",userNode_SimScoreFlat,\" userNode_Weight-> \", userNode_Weight)\n",
    "            for idx, nodeID in enumerate(userNodeID):\n",
    "                if nodeID in usrID_score_dict:\n",
    "                    if usrID_score_dict[nodeID]> userNode_Score_Array[idx]:\n",
    "                        continue\n",
    "                    else:\n",
    "                        usrID_score_dict[nodeID] = userNode_Score_Array[idx]\n",
    "                else:\n",
    "                    usrID_score_dict[nodeID] = userNode_Score_Array[idx]\n",
    "            user_Score_in_CommunityDict[commKey] = usrID_score_dict\n",
    "    return user_Score_in_CommunityDict\n",
    "recommended_UserIDwith_Score = user_Search_in_Community(valid_UserNodes_in_Community, seedNode_CleanedTextList)\n",
    "print(recommended_UserIDwith_Score)"
   ]
  },
  {
   "cell_type": "code",
   "execution_count": 89,
   "metadata": {},
   "outputs": [],
   "source": [
    "# recommended_UserIDwith_Score = sorted(list(recommended_UserIDwith_Score.values()), key = lambda i: list(i.values())[0], reverse=True)[:20]\n",
    "userID_Score_tempList=list()\n",
    "for community_ID_Score_val_dict in recommended_UserIDwith_Score.values():\n",
    "    for key, val in community_ID_Score_val_dict.items():\n",
    "        userID_Score_tempList.append({key:val})\n",
    "recommended_UserIDwith_Score = sorted(userID_Score_tempList, key = lambda i: list(i.values()), reverse=True)[:20]\n",
    "# outlierCommunityID = sorted(outlierCommunityID, key = lambda i: communityScoreDict[i])\n",
    "# [userID for commKey in communityID for userID in valid_UserNodes[commKey] if commKey in valid_UserNodes]"
   ]
  },
  {
   "cell_type": "code",
   "execution_count": 90,
   "metadata": {},
   "outputs": [
    {
     "name": "stdout",
     "output_type": "stream",
     "text": [
      "20 [{835035547: 6.099999999999999}, {1927923236: 5.999999999999998}, {23089614: 5.6478925872737555}, {1922369282: 5.137475776873589}, {1102643178: 4.999999999999999}, {7773582: 4.7343422522987755}, {15713079: 4.613386092474298}, {20812392: 4.569744365347786}, {347191988: 4.300364532061378}, {50860169: 4.2209924657758195}, {126388704: 4.1614618348413615}, {956177218140504065: 4.123147165896971}, {14595797: 3.6091239492202}, {14707266: 3.576755086567074}, {720372631892029440: 3.5676393802903363}, {42920448: 3.200842299211028}, {1192262627000377344: 3.084044005648459}, {439500090: 3.0773781619519918}, {7320782: 3.074440331391167}, {2564083316: 3.072646439884527}]\n"
     ]
    }
   ],
   "source": [
    "print(len(recommended_UserIDwith_Score),recommended_UserIDwith_Score)"
   ]
  },
  {
   "cell_type": "code",
   "execution_count": 91,
   "metadata": {},
   "outputs": [],
   "source": [
    "# The following two lines Can be added\n",
    "highRank_Comm_User_map_list = [{(userNode_Community_map[list(id_value_map.keys())[0]]):(list(id_value_map.keys())[0])} for id_value_map in recommended_UserIDwith_Score]\n",
    "community_flag = set()\n",
    "for commID_usr_map in highRank_Comm_User_map_list:\n",
    "    if list(commID_usr_map.keys())[0] in community_flag:\n",
    "        continue\n",
    "    else:\n",
    "        community_flag.add(list(commID_usr_map.keys())[0])\n",
    "        \n",
    "        for usrID in valid_UserNodes_in_Community[list(commID_usr_map.keys())[0]]:\n",
    "            if usrID == list(commID_usr_map.values())[0]:\n",
    "                continue\n",
    "            if usrID in recommended_UserIDwith_Score and usrID != list(commID_usr_map.values())[0]:\n",
    "                recommended_UserIDwith_Score[usrID] = recommended_UserIDwith_Score[usrID] + recommended_UserIDwith_Score[list(commID_usr_map.values())[0]]*0.2"
   ]
  },
  {
   "cell_type": "code",
   "execution_count": 92,
   "metadata": {},
   "outputs": [
    {
     "data": {
      "text/plain": [
       "[{835035547: 6.099999999999999},\n",
       " {1927923236: 5.999999999999998},\n",
       " {23089614: 5.6478925872737555},\n",
       " {1922369282: 5.137475776873589},\n",
       " {1102643178: 4.999999999999999},\n",
       " {7773582: 4.7343422522987755},\n",
       " {15713079: 4.613386092474298},\n",
       " {20812392: 4.569744365347786},\n",
       " {347191988: 4.300364532061378},\n",
       " {50860169: 4.2209924657758195},\n",
       " {126388704: 4.1614618348413615},\n",
       " {956177218140504065: 4.123147165896971},\n",
       " {14595797: 3.6091239492202},\n",
       " {14707266: 3.576755086567074},\n",
       " {720372631892029440: 3.5676393802903363},\n",
       " {42920448: 3.200842299211028},\n",
       " {1192262627000377344: 3.084044005648459},\n",
       " {439500090: 3.0773781619519918},\n",
       " {7320782: 3.074440331391167},\n",
       " {2564083316: 3.072646439884527}]"
      ]
     },
     "execution_count": 92,
     "metadata": {},
     "output_type": "execute_result"
    }
   ],
   "source": [
    "recommended_UserIDwith_Score"
   ]
  },
  {
   "cell_type": "markdown",
   "metadata": {},
   "source": [
    "# Model Validation Part #"
   ]
  },
  {
   "cell_type": "code",
   "execution_count": 93,
   "metadata": {},
   "outputs": [],
   "source": [
    "def model_performance_exhibition(recommended_UserIDwith_Score, withScore):\n",
    "    resultList = list()\n",
    "    if withScore:\n",
    "        userID = [list(id_score.keys())[0] for id_score in recommended_UserIDwith_Score]\n",
    "    if not withScore:\n",
    "        userID = recommended_UserIDwith_Score\n",
    "    for valID in userID:\n",
    "        resultList.append(validation_DF.iloc[validation_DF[validation_DF['id'] == valID].index.tolist()[0]]['Annotation'])\n",
    "#         print(validation_DF.iloc[validation_DF[validation_DF['id'] == valID].index.tolist()[0]]['Annotation'])\n",
    "    return resultList"
   ]
  },
  {
   "cell_type": "code",
   "execution_count": 94,
   "metadata": {},
   "outputs": [],
   "source": [
    "from collections import Counter\n",
    "def adaptive_precision(resultList):\n",
    "    countDict = Counter(resultList) \n",
    "    precision = countDict['relevant']/len(resultList)\n",
    "    return precision"
   ]
  },
  {
   "cell_type": "code",
   "execution_count": 95,
   "metadata": {},
   "outputs": [],
   "source": [
    "def adaptive_recall(validList):\n",
    "    print(type(validList), set(validList))\n",
    "    recall = len(set(seedList).intersection(set(validList)))/len(set(seedList))\n",
    "    return recall"
   ]
  },
  {
   "cell_type": "code",
   "execution_count": 96,
   "metadata": {},
   "outputs": [],
   "source": [
    "def adaptive_F1score(precision, recall):\n",
    "    f1_Score = (precision*recall)/(precision + recall)\n",
    "    return f1_Score"
   ]
  },
  {
   "cell_type": "code",
   "execution_count": 97,
   "metadata": {},
   "outputs": [],
   "source": [
    "def model_comparison_result(threshold):\n",
    "    ### Proposed Model\n",
    "    prposed_resultList = model_performance_exhibition(recommended_UserIDwith_Score[0:math.ceil(len(recommended_UserIDwith_Score)*threshold)], True) ## Proposed model\n",
    "    proposed_precision = adaptive_precision(prposed_resultList)\n",
    "    proposed_recall = adaptive_recall([list(id_score.keys())[0] for id_score in recommended_UserIDwith_Score])\n",
    "    proposed_f1_Score = adaptive_F1score(proposed_precision, proposed_recall)\n",
    "    print(\"f1_Score-> \", adaptive_F1score(proposed_precision, proposed_recall), \"precision-> \", proposed_precision, \"recall-> \", proposed_recall)\n",
    "    \n",
    "    ### First Baseline\n",
    "    first_baseline_resultList = model_performance_exhibition(MPopular_baseLine[0:math.ceil(len(MPopular_baseLine)*threshold)], True)\n",
    "    first_baseline_precision = adaptive_precision(first_baseline_resultList)\n",
    "    first_baseline_recall = adaptive_recall([list(id_score.keys())[0] for id_score in MPopular_baseLine])\n",
    "    first_baseline_f1_Score = adaptive_F1score(first_baseline_precision, first_baseline_recall)\n",
    "    print(\"f1_Score-> \", adaptive_F1score(first_baseline_precision, first_baseline_recall), \"precision-> \", first_baseline_precision, \"recall-> \", first_baseline_recall)\n",
    "    \n",
    "    ### Second Baseline\n",
    "    second_baseline_resultList = model_performance_exhibition(list(FoF_baseline)[0:math.ceil(len(FoF_baseline)*threshold)], False)\n",
    "    second_baseline_precision = adaptive_precision(second_baseline_resultList)\n",
    "    second_baseline_recall = adaptive_recall(FoF_baseline)\n",
    "    second_baseline_f1_Score = adaptive_F1score(second_baseline_precision, second_baseline_recall)\n",
    "    print(\"f1_Score-> \", adaptive_F1score(second_baseline_precision, second_baseline_recall), \"precision-> \", second_baseline_precision, \"recall-> \", second_baseline_recall)\n",
    "    \n",
    "    ### Third Baseline\n",
    "    third_baseline_resultList = model_performance_exhibition(list(CplusL_baseline)[0:math.ceil(len(CplusL_baseline)*threshold)], False)\n",
    "    third_baseline_precision = adaptive_precision(third_baseline_resultList)\n",
    "    third_baseline_recall = adaptive_recall(CplusL_baseline)\n",
    "    third_baseline_f1_Score = adaptive_F1score(third_baseline_precision, third_baseline_recall)\n",
    "    print(\"f1_Score-> \", adaptive_F1score(third_baseline_precision, third_baseline_recall), \"precision-> \", third_baseline_precision, \"recall-> \", third_baseline_recall)\n",
    "    \n",
    "    return proposed_precision, proposed_recall, proposed_f1_Score, first_baseline_precision, first_baseline_recall, first_baseline_f1_Score, second_baseline_precision, second_baseline_recall, second_baseline_f1_Score, third_baseline_precision, third_baseline_recall, third_baseline_f1_Score"
   ]
  },
  {
   "cell_type": "code",
   "execution_count": 98,
   "metadata": {},
   "outputs": [
    {
     "name": "stdout",
     "output_type": "stream",
     "text": [
      "<class 'list'> {720372631892029440, 956177218140504065, 1922369282, 42920448, 1192262627000377344, 50860169, 7773582, 835035547, 1927923236, 347191988, 15713079, 439500090, 14707266, 23089614, 7320782, 14595797, 126388704, 20812392, 1102643178, 2564083316}\n",
      "f1_Score->  0.0 precision->  0.0 recall->  1.0\n",
      "<class 'list'> {826610423025778688, 42920448, 956177218140504065, 1233903147220905985, 1922369282, 46998400, 1172163079548723200, 1401135751, 770781940341288960, 269046025, 875471430217027584, 23543947, 861889353869557762, 419854605, 1072944174448685063, 788041253405331456, 1292116872, 1043484575329144834, 43645717, 2411238810, 2465145890, 1061474405270712320, 1927923236, 29031844, 18576042, 37433900, 3277682995, 347191988, 2415593269, 1119452513537802240, 14666934, 11348282, 820761991199518720, 1200437827, 517077573, 42149321, 4398626122, 1222375896658608128, 14945996, 347999567, 177363408, 16073554, 33099864, 58545637, 1102643178, 146569971, 79923701, 18473212, 949677571784040448, 2575538047}\n",
      "f1_Score->  0.3157894736842105 precision->  0.6 recall->  0.6666666666666666\n",
      "<class 'set'> {42920448, 957952372579487745, 1091408530152845312, 709829599669194752, 868224767802978304, 1235623628126826497, 1113237559939936256, 1161296115637084162, 1225890456212508672, 1296940906302537730, 869595885377867782, 1263908877092995073, 1256068439824756748, 1255450909540220930, 46903822, 861889353869557762, 868367376, 718531395098906624, 617654802, 887738301561679889, 764654979831308288, 1060694041, 816030746, 1207329318369542149, 3307674653, 113770018, 2465145890, 2436389418, 319159357, 14707266, 1200437827, 819186227912052736, 92766283, 977202254, 22683217, 222405719, 33099864, 15831150, 135337085, 927280432600748032, 1014278890775285760, 1138622123834953728, 1005315463872745472, 1252630205988048896, 609536134, 890044032369512449, 1278268614962040832, 1285155284906921984, 1304859910270668801, 968756605184593922, 1227460814266912770, 329995400, 1116543543684796417, 59230864, 733074959338213379, 1128047272745472003, 656533, 36568217, 557853341, 1167179635852865536, 1119585087257866240, 459375780, 86424236, 14220471, 426363584, 985486861672968192, 790112676827410433, 3818980053, 17726678, 21861599, 856674181353807872, 55909620, 19241206, 18473212, 1158232598285393920, 1287082383284428800, 1272071265461952512, 766315129013166080, 1291572576318349312, 35686150, 1297752051519168512, 1190430447274205184, 1017737508950499328, 916122964189437953, 1138313704829739009, 1274702196995694595, 3301961096, 836403992, 20131609, 55460634, 2715681537, 98210594, 720372631892029440, 3156577578, 2500703018, 950499905415589888, 360930099, 2415593269, 1293949202314084352, 357947703, 439500090, 398400323, 2369252168, 1019254304681668609, 16073554, 1010038845633527809, 110434146, 14836587, 1234250230893146112, 928185503488323584, 1171617863506915328, 985304744146202624, 1165200258567008256, 1222375896658608128, 1270344917483761665, 1292116872, 97721735, 852690245061574656, 3687025035, 1225608001811181569, 788041253405331456, 7773582, 1118528000721551360, 59090320, 1108177522397720579, 103679380, 308308886, 2411238810, 1290651428646793221, 739264134596808704, 1726433694, 1302055132822110209, 977112482, 1072944174448685063, 1182206912315703296, 1059719143484735488, 1119452513537802240, 3181970364, 1164134642372493313, 2440990166, 2326084578, 1112062964260110336, 1245163058173018112, 4851912682, 147266027, 517937137, 13275122, 625790452, 37771774}\n",
      "f1_Score->  0.0 precision->  0.4666666666666667 recall->  0.0\n",
      "<class 'set'> {42920448, 1091408530152845312, 709829599669194752, 1161296115637084162, 1296940906302537730, 1263908877092995073, 1255450909540220930, 718531395098906624, 819186227912052736, 609536134, 890044032369512449, 1116543543684796417, 790112676827410433, 35686150, 1158232598285393920, 3301961096, 59230864, 887738301561679889, 97721735, 788041253405331456, 7773582, 1108177522397720579, 103679380, 816030746, 1290651428646793221, 2715681537, 2465145890, 1119585087257866240, 98210594, 720372631892029440, 1165200258567008256, 3156577578, 2500703018, 950499905415589888, 928185503488323584, 2415593269, 1293949202314084352, 14220471, 357947703, 1119452513537802240, 439500090, 319159357, 14707266, 398400323, 1292116872, 2369252168, 92766283, 1222375896658608128, 1118528000721551360, 17726678, 33099864, 1225608001811181569, 1291572576318349312, 110434146, 1112062964260110336, 14836587, 147266027}\n",
      "f1_Score->  0.0 precision->  0.5 recall->  0.0\n",
      "<class 'list'> {720372631892029440, 956177218140504065, 1922369282, 42920448, 1192262627000377344, 50860169, 7773582, 835035547, 1927923236, 347191988, 15713079, 439500090, 14707266, 23089614, 7320782, 14595797, 126388704, 20812392, 1102643178, 2564083316}\n",
      "f1_Score->  0.0 precision->  0.0 recall->  1.0\n",
      "<class 'list'> {826610423025778688, 42920448, 956177218140504065, 1233903147220905985, 1922369282, 46998400, 1172163079548723200, 1401135751, 770781940341288960, 269046025, 875471430217027584, 23543947, 861889353869557762, 419854605, 1072944174448685063, 788041253405331456, 1292116872, 1043484575329144834, 43645717, 2411238810, 2465145890, 1061474405270712320, 1927923236, 29031844, 18576042, 37433900, 3277682995, 347191988, 2415593269, 1119452513537802240, 14666934, 11348282, 820761991199518720, 1200437827, 517077573, 42149321, 4398626122, 1222375896658608128, 14945996, 347999567, 177363408, 16073554, 33099864, 58545637, 1102643178, 146569971, 79923701, 18473212, 949677571784040448, 2575538047}\n",
      "f1_Score->  0.20689655172413793 precision->  0.3 recall->  0.6666666666666666\n",
      "<class 'set'> {42920448, 957952372579487745, 1091408530152845312, 709829599669194752, 868224767802978304, 1235623628126826497, 1113237559939936256, 1161296115637084162, 1225890456212508672, 1296940906302537730, 869595885377867782, 1263908877092995073, 1256068439824756748, 1255450909540220930, 46903822, 861889353869557762, 868367376, 718531395098906624, 617654802, 887738301561679889, 764654979831308288, 1060694041, 816030746, 1207329318369542149, 3307674653, 113770018, 2465145890, 2436389418, 319159357, 14707266, 1200437827, 819186227912052736, 92766283, 977202254, 22683217, 222405719, 33099864, 15831150, 135337085, 927280432600748032, 1014278890775285760, 1138622123834953728, 1005315463872745472, 1252630205988048896, 609536134, 890044032369512449, 1278268614962040832, 1285155284906921984, 1304859910270668801, 968756605184593922, 1227460814266912770, 329995400, 1116543543684796417, 59230864, 733074959338213379, 1128047272745472003, 656533, 36568217, 557853341, 1167179635852865536, 1119585087257866240, 459375780, 86424236, 14220471, 426363584, 985486861672968192, 790112676827410433, 3818980053, 17726678, 21861599, 856674181353807872, 55909620, 19241206, 18473212, 1158232598285393920, 1287082383284428800, 1272071265461952512, 766315129013166080, 1291572576318349312, 35686150, 1297752051519168512, 1190430447274205184, 1017737508950499328, 916122964189437953, 1138313704829739009, 1274702196995694595, 3301961096, 836403992, 20131609, 55460634, 2715681537, 98210594, 720372631892029440, 3156577578, 2500703018, 950499905415589888, 360930099, 2415593269, 1293949202314084352, 357947703, 439500090, 398400323, 2369252168, 1019254304681668609, 16073554, 1010038845633527809, 110434146, 14836587, 1234250230893146112, 928185503488323584, 1171617863506915328, 985304744146202624, 1165200258567008256, 1222375896658608128, 1270344917483761665, 1292116872, 97721735, 852690245061574656, 3687025035, 1225608001811181569, 788041253405331456, 7773582, 1118528000721551360, 59090320, 1108177522397720579, 103679380, 308308886, 2411238810, 1290651428646793221, 739264134596808704, 1726433694, 1302055132822110209, 977112482, 1072944174448685063, 1182206912315703296, 1059719143484735488, 1119452513537802240, 3181970364, 1164134642372493313, 2440990166, 2326084578, 1112062964260110336, 1245163058173018112, 4851912682, 147266027, 517937137, 13275122, 625790452, 37771774}\n",
      "f1_Score->  0.0 precision->  0.4 recall->  0.0\n",
      "<class 'set'> {42920448, 1091408530152845312, 709829599669194752, 1161296115637084162, 1296940906302537730, 1263908877092995073, 1255450909540220930, 718531395098906624, 819186227912052736, 609536134, 890044032369512449, 1116543543684796417, 790112676827410433, 35686150, 1158232598285393920, 3301961096, 59230864, 887738301561679889, 97721735, 788041253405331456, 7773582, 1108177522397720579, 103679380, 816030746, 1290651428646793221, 2715681537, 2465145890, 1119585087257866240, 98210594, 720372631892029440, 1165200258567008256, 3156577578, 2500703018, 950499905415589888, 928185503488323584, 2415593269, 1293949202314084352, 14220471, 357947703, 1119452513537802240, 439500090, 319159357, 14707266, 398400323, 1292116872, 2369252168, 92766283, 1222375896658608128, 1118528000721551360, 17726678, 33099864, 1225608001811181569, 1291572576318349312, 110434146, 1112062964260110336, 14836587, 147266027}\n",
      "f1_Score->  0.0 precision->  0.5 recall->  0.0\n",
      "<class 'list'> {720372631892029440, 956177218140504065, 1922369282, 42920448, 1192262627000377344, 50860169, 7773582, 835035547, 1927923236, 347191988, 15713079, 439500090, 14707266, 23089614, 7320782, 14595797, 126388704, 20812392, 1102643178, 2564083316}\n",
      "f1_Score->  0.14285714285714285 precision->  0.16666666666666666 recall->  1.0\n",
      "<class 'list'> {826610423025778688, 42920448, 956177218140504065, 1233903147220905985, 1922369282, 46998400, 1172163079548723200, 1401135751, 770781940341288960, 269046025, 875471430217027584, 23543947, 861889353869557762, 419854605, 1072944174448685063, 788041253405331456, 1292116872, 1043484575329144834, 43645717, 2411238810, 2465145890, 1061474405270712320, 1927923236, 29031844, 18576042, 37433900, 3277682995, 347191988, 2415593269, 1119452513537802240, 14666934, 11348282, 820761991199518720, 1200437827, 517077573, 42149321, 4398626122, 1222375896658608128, 14945996, 347999567, 177363408, 16073554, 33099864, 58545637, 1102643178, 146569971, 79923701, 18473212, 949677571784040448, 2575538047}\n",
      "f1_Score->  0.19047619047619044 precision->  0.26666666666666666 recall->  0.6666666666666666\n",
      "<class 'set'> {42920448, 957952372579487745, 1091408530152845312, 709829599669194752, 868224767802978304, 1235623628126826497, 1113237559939936256, 1161296115637084162, 1225890456212508672, 1296940906302537730, 869595885377867782, 1263908877092995073, 1256068439824756748, 1255450909540220930, 46903822, 861889353869557762, 868367376, 718531395098906624, 617654802, 887738301561679889, 764654979831308288, 1060694041, 816030746, 1207329318369542149, 3307674653, 113770018, 2465145890, 2436389418, 319159357, 14707266, 1200437827, 819186227912052736, 92766283, 977202254, 22683217, 222405719, 33099864, 15831150, 135337085, 927280432600748032, 1014278890775285760, 1138622123834953728, 1005315463872745472, 1252630205988048896, 609536134, 890044032369512449, 1278268614962040832, 1285155284906921984, 1304859910270668801, 968756605184593922, 1227460814266912770, 329995400, 1116543543684796417, 59230864, 733074959338213379, 1128047272745472003, 656533, 36568217, 557853341, 1167179635852865536, 1119585087257866240, 459375780, 86424236, 14220471, 426363584, 985486861672968192, 790112676827410433, 3818980053, 17726678, 21861599, 856674181353807872, 55909620, 19241206, 18473212, 1158232598285393920, 1287082383284428800, 1272071265461952512, 766315129013166080, 1291572576318349312, 35686150, 1297752051519168512, 1190430447274205184, 1017737508950499328, 916122964189437953, 1138313704829739009, 1274702196995694595, 3301961096, 836403992, 20131609, 55460634, 2715681537, 98210594, 720372631892029440, 3156577578, 2500703018, 950499905415589888, 360930099, 2415593269, 1293949202314084352, 357947703, 439500090, 398400323, 2369252168, 1019254304681668609, 16073554, 1010038845633527809, 110434146, 14836587, 1234250230893146112, 928185503488323584, 1171617863506915328, 985304744146202624, 1165200258567008256, 1222375896658608128, 1270344917483761665, 1292116872, 97721735, 852690245061574656, 3687025035, 1225608001811181569, 788041253405331456, 7773582, 1118528000721551360, 59090320, 1108177522397720579, 103679380, 308308886, 2411238810, 1290651428646793221, 739264134596808704, 1726433694, 1302055132822110209, 977112482, 1072944174448685063, 1182206912315703296, 1059719143484735488, 1119452513537802240, 3181970364, 1164134642372493313, 2440990166, 2326084578, 1112062964260110336, 1245163058173018112, 4851912682, 147266027, 517937137, 13275122, 625790452, 37771774}\n",
      "f1_Score->  0.0 precision->  0.4222222222222222 recall->  0.0\n",
      "<class 'set'> {42920448, 1091408530152845312, 709829599669194752, 1161296115637084162, 1296940906302537730, 1263908877092995073, 1255450909540220930, 718531395098906624, 819186227912052736, 609536134, 890044032369512449, 1116543543684796417, 790112676827410433, 35686150, 1158232598285393920, 3301961096, 59230864, 887738301561679889, 97721735, 788041253405331456, 7773582, 1108177522397720579, 103679380, 816030746, 1290651428646793221, 2715681537, 2465145890, 1119585087257866240, 98210594, 720372631892029440, 1165200258567008256, 3156577578, 2500703018, 950499905415589888, 928185503488323584, 2415593269, 1293949202314084352, 14220471, 357947703, 1119452513537802240, 439500090, 319159357, 14707266, 398400323, 1292116872, 2369252168, 92766283, 1222375896658608128, 1118528000721551360, 17726678, 33099864, 1225608001811181569, 1291572576318349312, 110434146, 1112062964260110336, 14836587, 147266027}\n",
      "f1_Score->  0.0 precision->  0.4444444444444444 recall->  0.0\n",
      "<class 'list'> {720372631892029440, 956177218140504065, 1922369282, 42920448, 1192262627000377344, 50860169, 7773582, 835035547, 1927923236, 347191988, 15713079, 439500090, 14707266, 23089614, 7320782, 14595797, 126388704, 20812392, 1102643178, 2564083316}\n",
      "f1_Score->  0.1111111111111111 precision->  0.125 recall->  1.0\n",
      "<class 'list'> {826610423025778688, 42920448, 956177218140504065, 1233903147220905985, 1922369282, 46998400, 1172163079548723200, 1401135751, 770781940341288960, 269046025, 875471430217027584, 23543947, 861889353869557762, 419854605, 1072944174448685063, 788041253405331456, 1292116872, 1043484575329144834, 43645717, 2411238810, 2465145890, 1061474405270712320, 1927923236, 29031844, 18576042, 37433900, 3277682995, 347191988, 2415593269, 1119452513537802240, 14666934, 11348282, 820761991199518720, 1200437827, 517077573, 42149321, 4398626122, 1222375896658608128, 14945996, 347999567, 177363408, 16073554, 33099864, 58545637, 1102643178, 146569971, 79923701, 18473212, 949677571784040448, 2575538047}\n",
      "f1_Score->  0.15384615384615383 precision->  0.2 recall->  0.6666666666666666\n",
      "<class 'set'> {42920448, 957952372579487745, 1091408530152845312, 709829599669194752, 868224767802978304, 1235623628126826497, 1113237559939936256, 1161296115637084162, 1225890456212508672, 1296940906302537730, 869595885377867782, 1263908877092995073, 1256068439824756748, 1255450909540220930, 46903822, 861889353869557762, 868367376, 718531395098906624, 617654802, 887738301561679889, 764654979831308288, 1060694041, 816030746, 1207329318369542149, 3307674653, 113770018, 2465145890, 2436389418, 319159357, 14707266, 1200437827, 819186227912052736, 92766283, 977202254, 22683217, 222405719, 33099864, 15831150, 135337085, 927280432600748032, 1014278890775285760, 1138622123834953728, 1005315463872745472, 1252630205988048896, 609536134, 890044032369512449, 1278268614962040832, 1285155284906921984, 1304859910270668801, 968756605184593922, 1227460814266912770, 329995400, 1116543543684796417, 59230864, 733074959338213379, 1128047272745472003, 656533, 36568217, 557853341, 1167179635852865536, 1119585087257866240, 459375780, 86424236, 14220471, 426363584, 985486861672968192, 790112676827410433, 3818980053, 17726678, 21861599, 856674181353807872, 55909620, 19241206, 18473212, 1158232598285393920, 1287082383284428800, 1272071265461952512, 766315129013166080, 1291572576318349312, 35686150, 1297752051519168512, 1190430447274205184, 1017737508950499328, 916122964189437953, 1138313704829739009, 1274702196995694595, 3301961096, 836403992, 20131609, 55460634, 2715681537, 98210594, 720372631892029440, 3156577578, 2500703018, 950499905415589888, 360930099, 2415593269, 1293949202314084352, 357947703, 439500090, 398400323, 2369252168, 1019254304681668609, 16073554, 1010038845633527809, 110434146, 14836587, 1234250230893146112, 928185503488323584, 1171617863506915328, 985304744146202624, 1165200258567008256, 1222375896658608128, 1270344917483761665, 1292116872, 97721735, 852690245061574656, 3687025035, 1225608001811181569, 788041253405331456, 7773582, 1118528000721551360, 59090320, 1108177522397720579, 103679380, 308308886, 2411238810, 1290651428646793221, 739264134596808704, 1726433694, 1302055132822110209, 977112482, 1072944174448685063, 1182206912315703296, 1059719143484735488, 1119452513537802240, 3181970364, 1164134642372493313, 2440990166, 2326084578, 1112062964260110336, 1245163058173018112, 4851912682, 147266027, 517937137, 13275122, 625790452, 37771774}\n",
      "f1_Score->  0.0 precision->  0.38333333333333336 recall->  0.0\n",
      "<class 'set'> {42920448, 1091408530152845312, 709829599669194752, 1161296115637084162, 1296940906302537730, 1263908877092995073, 1255450909540220930, 718531395098906624, 819186227912052736, 609536134, 890044032369512449, 1116543543684796417, 790112676827410433, 35686150, 1158232598285393920, 3301961096, 59230864, 887738301561679889, 97721735, 788041253405331456, 7773582, 1108177522397720579, 103679380, 816030746, 1290651428646793221, 2715681537, 2465145890, 1119585087257866240, 98210594, 720372631892029440, 1165200258567008256, 3156577578, 2500703018, 950499905415589888, 928185503488323584, 2415593269, 1293949202314084352, 14220471, 357947703, 1119452513537802240, 439500090, 319159357, 14707266, 398400323, 1292116872, 2369252168, 92766283, 1222375896658608128, 1118528000721551360, 17726678, 33099864, 1225608001811181569, 1291572576318349312, 110434146, 1112062964260110336, 14836587, 147266027}\n",
      "f1_Score->  0.0 precision->  0.4782608695652174 recall->  0.0\n",
      "<class 'list'> {720372631892029440, 956177218140504065, 1922369282, 42920448, 1192262627000377344, 50860169, 7773582, 835035547, 1927923236, 347191988, 15713079, 439500090, 14707266, 23089614, 7320782, 14595797, 126388704, 20812392, 1102643178, 2564083316}\n",
      "f1_Score->  0.16666666666666669 precision->  0.2 recall->  1.0\n",
      "<class 'list'> {826610423025778688, 42920448, 956177218140504065, 1233903147220905985, 1922369282, 46998400, 1172163079548723200, 1401135751, 770781940341288960, 269046025, 875471430217027584, 23543947, 861889353869557762, 419854605, 1072944174448685063, 788041253405331456, 1292116872, 1043484575329144834, 43645717, 2411238810, 2465145890, 1061474405270712320, 1927923236, 29031844, 18576042, 37433900, 3277682995, 347191988, 2415593269, 1119452513537802240, 14666934, 11348282, 820761991199518720, 1200437827, 517077573, 42149321, 4398626122, 1222375896658608128, 14945996, 347999567, 177363408, 16073554, 33099864, 58545637, 1102643178, 146569971, 79923701, 18473212, 949677571784040448, 2575538047}\n",
      "f1_Score->  0.12903225806451613 precision->  0.16 recall->  0.6666666666666666\n",
      "<class 'set'> {42920448, 957952372579487745, 1091408530152845312, 709829599669194752, 868224767802978304, 1235623628126826497, 1113237559939936256, 1161296115637084162, 1225890456212508672, 1296940906302537730, 869595885377867782, 1263908877092995073, 1256068439824756748, 1255450909540220930, 46903822, 861889353869557762, 868367376, 718531395098906624, 617654802, 887738301561679889, 764654979831308288, 1060694041, 816030746, 1207329318369542149, 3307674653, 113770018, 2465145890, 2436389418, 319159357, 14707266, 1200437827, 819186227912052736, 92766283, 977202254, 22683217, 222405719, 33099864, 15831150, 135337085, 927280432600748032, 1014278890775285760, 1138622123834953728, 1005315463872745472, 1252630205988048896, 609536134, 890044032369512449, 1278268614962040832, 1285155284906921984, 1304859910270668801, 968756605184593922, 1227460814266912770, 329995400, 1116543543684796417, 59230864, 733074959338213379, 1128047272745472003, 656533, 36568217, 557853341, 1167179635852865536, 1119585087257866240, 459375780, 86424236, 14220471, 426363584, 985486861672968192, 790112676827410433, 3818980053, 17726678, 21861599, 856674181353807872, 55909620, 19241206, 18473212, 1158232598285393920, 1287082383284428800, 1272071265461952512, 766315129013166080, 1291572576318349312, 35686150, 1297752051519168512, 1190430447274205184, 1017737508950499328, 916122964189437953, 1138313704829739009, 1274702196995694595, 3301961096, 836403992, 20131609, 55460634, 2715681537, 98210594, 720372631892029440, 3156577578, 2500703018, 950499905415589888, 360930099, 2415593269, 1293949202314084352, 357947703, 439500090, 398400323, 2369252168, 1019254304681668609, 16073554, 1010038845633527809, 110434146, 14836587, 1234250230893146112, 928185503488323584, 1171617863506915328, 985304744146202624, 1165200258567008256, 1222375896658608128, 1270344917483761665, 1292116872, 97721735, 852690245061574656, 3687025035, 1225608001811181569, 788041253405331456, 7773582, 1118528000721551360, 59090320, 1108177522397720579, 103679380, 308308886, 2411238810, 1290651428646793221, 739264134596808704, 1726433694, 1302055132822110209, 977112482, 1072944174448685063, 1182206912315703296, 1059719143484735488, 1119452513537802240, 3181970364, 1164134642372493313, 2440990166, 2326084578, 1112062964260110336, 1245163058173018112, 4851912682, 147266027, 517937137, 13275122, 625790452, 37771774}\n",
      "f1_Score->  0.0 precision->  0.36 recall->  0.0\n",
      "<class 'set'> {42920448, 1091408530152845312, 709829599669194752, 1161296115637084162, 1296940906302537730, 1263908877092995073, 1255450909540220930, 718531395098906624, 819186227912052736, 609536134, 890044032369512449, 1116543543684796417, 790112676827410433, 35686150, 1158232598285393920, 3301961096, 59230864, 887738301561679889, 97721735, 788041253405331456, 7773582, 1108177522397720579, 103679380, 816030746, 1290651428646793221, 2715681537, 2465145890, 1119585087257866240, 98210594, 720372631892029440, 1165200258567008256, 3156577578, 2500703018, 950499905415589888, 928185503488323584, 2415593269, 1293949202314084352, 14220471, 357947703, 1119452513537802240, 439500090, 319159357, 14707266, 398400323, 1292116872, 2369252168, 92766283, 1222375896658608128, 1118528000721551360, 17726678, 33099864, 1225608001811181569, 1291572576318349312, 110434146, 1112062964260110336, 14836587, 147266027}\n",
      "f1_Score->  0.0 precision->  0.4482758620689655 recall->  0.0\n",
      "<class 'list'> {720372631892029440, 956177218140504065, 1922369282, 42920448, 1192262627000377344, 50860169, 7773582, 835035547, 1927923236, 347191988, 15713079, 439500090, 14707266, 23089614, 7320782, 14595797, 126388704, 20812392, 1102643178, 2564083316}\n",
      "f1_Score->  0.14285714285714285 precision->  0.16666666666666666 recall->  1.0\n",
      "<class 'list'> {826610423025778688, 42920448, 956177218140504065, 1233903147220905985, 1922369282, 46998400, 1172163079548723200, 1401135751, 770781940341288960, 269046025, 875471430217027584, 23543947, 861889353869557762, 419854605, 1072944174448685063, 788041253405331456, 1292116872, 1043484575329144834, 43645717, 2411238810, 2465145890, 1061474405270712320, 1927923236, 29031844, 18576042, 37433900, 3277682995, 347191988, 2415593269, 1119452513537802240, 14666934, 11348282, 820761991199518720, 1200437827, 517077573, 42149321, 4398626122, 1222375896658608128, 14945996, 347999567, 177363408, 16073554, 33099864, 58545637, 1102643178, 146569971, 79923701, 18473212, 949677571784040448, 2575538047}\n",
      "f1_Score->  0.13333333333333333 precision->  0.16666666666666666 recall->  0.6666666666666666\n"
     ]
    },
    {
     "name": "stdout",
     "output_type": "stream",
     "text": [
      "<class 'set'> {42920448, 957952372579487745, 1091408530152845312, 709829599669194752, 868224767802978304, 1235623628126826497, 1113237559939936256, 1161296115637084162, 1225890456212508672, 1296940906302537730, 869595885377867782, 1263908877092995073, 1256068439824756748, 1255450909540220930, 46903822, 861889353869557762, 868367376, 718531395098906624, 617654802, 887738301561679889, 764654979831308288, 1060694041, 816030746, 1207329318369542149, 3307674653, 113770018, 2465145890, 2436389418, 319159357, 14707266, 1200437827, 819186227912052736, 92766283, 977202254, 22683217, 222405719, 33099864, 15831150, 135337085, 927280432600748032, 1014278890775285760, 1138622123834953728, 1005315463872745472, 1252630205988048896, 609536134, 890044032369512449, 1278268614962040832, 1285155284906921984, 1304859910270668801, 968756605184593922, 1227460814266912770, 329995400, 1116543543684796417, 59230864, 733074959338213379, 1128047272745472003, 656533, 36568217, 557853341, 1167179635852865536, 1119585087257866240, 459375780, 86424236, 14220471, 426363584, 985486861672968192, 790112676827410433, 3818980053, 17726678, 21861599, 856674181353807872, 55909620, 19241206, 18473212, 1158232598285393920, 1287082383284428800, 1272071265461952512, 766315129013166080, 1291572576318349312, 35686150, 1297752051519168512, 1190430447274205184, 1017737508950499328, 916122964189437953, 1138313704829739009, 1274702196995694595, 3301961096, 836403992, 20131609, 55460634, 2715681537, 98210594, 720372631892029440, 3156577578, 2500703018, 950499905415589888, 360930099, 2415593269, 1293949202314084352, 357947703, 439500090, 398400323, 2369252168, 1019254304681668609, 16073554, 1010038845633527809, 110434146, 14836587, 1234250230893146112, 928185503488323584, 1171617863506915328, 985304744146202624, 1165200258567008256, 1222375896658608128, 1270344917483761665, 1292116872, 97721735, 852690245061574656, 3687025035, 1225608001811181569, 788041253405331456, 7773582, 1118528000721551360, 59090320, 1108177522397720579, 103679380, 308308886, 2411238810, 1290651428646793221, 739264134596808704, 1726433694, 1302055132822110209, 977112482, 1072944174448685063, 1182206912315703296, 1059719143484735488, 1119452513537802240, 3181970364, 1164134642372493313, 2440990166, 2326084578, 1112062964260110336, 1245163058173018112, 4851912682, 147266027, 517937137, 13275122, 625790452, 37771774}\n",
      "f1_Score->  0.0 precision->  0.34444444444444444 recall->  0.0\n",
      "<class 'set'> {42920448, 1091408530152845312, 709829599669194752, 1161296115637084162, 1296940906302537730, 1263908877092995073, 1255450909540220930, 718531395098906624, 819186227912052736, 609536134, 890044032369512449, 1116543543684796417, 790112676827410433, 35686150, 1158232598285393920, 3301961096, 59230864, 887738301561679889, 97721735, 788041253405331456, 7773582, 1108177522397720579, 103679380, 816030746, 1290651428646793221, 2715681537, 2465145890, 1119585087257866240, 98210594, 720372631892029440, 1165200258567008256, 3156577578, 2500703018, 950499905415589888, 928185503488323584, 2415593269, 1293949202314084352, 14220471, 357947703, 1119452513537802240, 439500090, 319159357, 14707266, 398400323, 1292116872, 2369252168, 92766283, 1222375896658608128, 1118528000721551360, 17726678, 33099864, 1225608001811181569, 1291572576318349312, 110434146, 1112062964260110336, 14836587, 147266027}\n",
      "f1_Score->  0.0 precision->  0.45714285714285713 recall->  0.0\n",
      "<class 'list'> {720372631892029440, 956177218140504065, 1922369282, 42920448, 1192262627000377344, 50860169, 7773582, 835035547, 1927923236, 347191988, 15713079, 439500090, 14707266, 23089614, 7320782, 14595797, 126388704, 20812392, 1102643178, 2564083316}\n",
      "f1_Score->  0.125 precision->  0.14285714285714285 recall->  1.0\n",
      "<class 'list'> {826610423025778688, 42920448, 956177218140504065, 1233903147220905985, 1922369282, 46998400, 1172163079548723200, 1401135751, 770781940341288960, 269046025, 875471430217027584, 23543947, 861889353869557762, 419854605, 1072944174448685063, 788041253405331456, 1292116872, 1043484575329144834, 43645717, 2411238810, 2465145890, 1061474405270712320, 1927923236, 29031844, 18576042, 37433900, 3277682995, 347191988, 2415593269, 1119452513537802240, 14666934, 11348282, 820761991199518720, 1200437827, 517077573, 42149321, 4398626122, 1222375896658608128, 14945996, 347999567, 177363408, 16073554, 33099864, 58545637, 1102643178, 146569971, 79923701, 18473212, 949677571784040448, 2575538047}\n",
      "f1_Score->  0.11764705882352941 precision->  0.14285714285714285 recall->  0.6666666666666666\n",
      "<class 'set'> {42920448, 957952372579487745, 1091408530152845312, 709829599669194752, 868224767802978304, 1235623628126826497, 1113237559939936256, 1161296115637084162, 1225890456212508672, 1296940906302537730, 869595885377867782, 1263908877092995073, 1256068439824756748, 1255450909540220930, 46903822, 861889353869557762, 868367376, 718531395098906624, 617654802, 887738301561679889, 764654979831308288, 1060694041, 816030746, 1207329318369542149, 3307674653, 113770018, 2465145890, 2436389418, 319159357, 14707266, 1200437827, 819186227912052736, 92766283, 977202254, 22683217, 222405719, 33099864, 15831150, 135337085, 927280432600748032, 1014278890775285760, 1138622123834953728, 1005315463872745472, 1252630205988048896, 609536134, 890044032369512449, 1278268614962040832, 1285155284906921984, 1304859910270668801, 968756605184593922, 1227460814266912770, 329995400, 1116543543684796417, 59230864, 733074959338213379, 1128047272745472003, 656533, 36568217, 557853341, 1167179635852865536, 1119585087257866240, 459375780, 86424236, 14220471, 426363584, 985486861672968192, 790112676827410433, 3818980053, 17726678, 21861599, 856674181353807872, 55909620, 19241206, 18473212, 1158232598285393920, 1287082383284428800, 1272071265461952512, 766315129013166080, 1291572576318349312, 35686150, 1297752051519168512, 1190430447274205184, 1017737508950499328, 916122964189437953, 1138313704829739009, 1274702196995694595, 3301961096, 836403992, 20131609, 55460634, 2715681537, 98210594, 720372631892029440, 3156577578, 2500703018, 950499905415589888, 360930099, 2415593269, 1293949202314084352, 357947703, 439500090, 398400323, 2369252168, 1019254304681668609, 16073554, 1010038845633527809, 110434146, 14836587, 1234250230893146112, 928185503488323584, 1171617863506915328, 985304744146202624, 1165200258567008256, 1222375896658608128, 1270344917483761665, 1292116872, 97721735, 852690245061574656, 3687025035, 1225608001811181569, 788041253405331456, 7773582, 1118528000721551360, 59090320, 1108177522397720579, 103679380, 308308886, 2411238810, 1290651428646793221, 739264134596808704, 1726433694, 1302055132822110209, 977112482, 1072944174448685063, 1182206912315703296, 1059719143484735488, 1119452513537802240, 3181970364, 1164134642372493313, 2440990166, 2326084578, 1112062964260110336, 1245163058173018112, 4851912682, 147266027, 517937137, 13275122, 625790452, 37771774}\n",
      "f1_Score->  0.0 precision->  0.3619047619047619 recall->  0.0\n",
      "<class 'set'> {42920448, 1091408530152845312, 709829599669194752, 1161296115637084162, 1296940906302537730, 1263908877092995073, 1255450909540220930, 718531395098906624, 819186227912052736, 609536134, 890044032369512449, 1116543543684796417, 790112676827410433, 35686150, 1158232598285393920, 3301961096, 59230864, 887738301561679889, 97721735, 788041253405331456, 7773582, 1108177522397720579, 103679380, 816030746, 1290651428646793221, 2715681537, 2465145890, 1119585087257866240, 98210594, 720372631892029440, 1165200258567008256, 3156577578, 2500703018, 950499905415589888, 928185503488323584, 2415593269, 1293949202314084352, 14220471, 357947703, 1119452513537802240, 439500090, 319159357, 14707266, 398400323, 1292116872, 2369252168, 92766283, 1222375896658608128, 1118528000721551360, 17726678, 33099864, 1225608001811181569, 1291572576318349312, 110434146, 1112062964260110336, 14836587, 147266027}\n",
      "f1_Score->  0.0 precision->  0.425 recall->  0.0\n",
      "<class 'list'> {720372631892029440, 956177218140504065, 1922369282, 42920448, 1192262627000377344, 50860169, 7773582, 835035547, 1927923236, 347191988, 15713079, 439500090, 14707266, 23089614, 7320782, 14595797, 126388704, 20812392, 1102643178, 2564083316}\n",
      "f1_Score->  0.2 precision->  0.25 recall->  1.0\n",
      "<class 'list'> {826610423025778688, 42920448, 956177218140504065, 1233903147220905985, 1922369282, 46998400, 1172163079548723200, 1401135751, 770781940341288960, 269046025, 875471430217027584, 23543947, 861889353869557762, 419854605, 1072944174448685063, 788041253405331456, 1292116872, 1043484575329144834, 43645717, 2411238810, 2465145890, 1061474405270712320, 1927923236, 29031844, 18576042, 37433900, 3277682995, 347191988, 2415593269, 1119452513537802240, 14666934, 11348282, 820761991199518720, 1200437827, 517077573, 42149321, 4398626122, 1222375896658608128, 14945996, 347999567, 177363408, 16073554, 33099864, 58545637, 1102643178, 146569971, 79923701, 18473212, 949677571784040448, 2575538047}\n",
      "f1_Score->  0.12244897959183673 precision->  0.15 recall->  0.6666666666666666\n",
      "<class 'set'> {42920448, 957952372579487745, 1091408530152845312, 709829599669194752, 868224767802978304, 1235623628126826497, 1113237559939936256, 1161296115637084162, 1225890456212508672, 1296940906302537730, 869595885377867782, 1263908877092995073, 1256068439824756748, 1255450909540220930, 46903822, 861889353869557762, 868367376, 718531395098906624, 617654802, 887738301561679889, 764654979831308288, 1060694041, 816030746, 1207329318369542149, 3307674653, 113770018, 2465145890, 2436389418, 319159357, 14707266, 1200437827, 819186227912052736, 92766283, 977202254, 22683217, 222405719, 33099864, 15831150, 135337085, 927280432600748032, 1014278890775285760, 1138622123834953728, 1005315463872745472, 1252630205988048896, 609536134, 890044032369512449, 1278268614962040832, 1285155284906921984, 1304859910270668801, 968756605184593922, 1227460814266912770, 329995400, 1116543543684796417, 59230864, 733074959338213379, 1128047272745472003, 656533, 36568217, 557853341, 1167179635852865536, 1119585087257866240, 459375780, 86424236, 14220471, 426363584, 985486861672968192, 790112676827410433, 3818980053, 17726678, 21861599, 856674181353807872, 55909620, 19241206, 18473212, 1158232598285393920, 1287082383284428800, 1272071265461952512, 766315129013166080, 1291572576318349312, 35686150, 1297752051519168512, 1190430447274205184, 1017737508950499328, 916122964189437953, 1138313704829739009, 1274702196995694595, 3301961096, 836403992, 20131609, 55460634, 2715681537, 98210594, 720372631892029440, 3156577578, 2500703018, 950499905415589888, 360930099, 2415593269, 1293949202314084352, 357947703, 439500090, 398400323, 2369252168, 1019254304681668609, 16073554, 1010038845633527809, 110434146, 14836587, 1234250230893146112, 928185503488323584, 1171617863506915328, 985304744146202624, 1165200258567008256, 1222375896658608128, 1270344917483761665, 1292116872, 97721735, 852690245061574656, 3687025035, 1225608001811181569, 788041253405331456, 7773582, 1118528000721551360, 59090320, 1108177522397720579, 103679380, 308308886, 2411238810, 1290651428646793221, 739264134596808704, 1726433694, 1302055132822110209, 977112482, 1072944174448685063, 1182206912315703296, 1059719143484735488, 1119452513537802240, 3181970364, 1164134642372493313, 2440990166, 2326084578, 1112062964260110336, 1245163058173018112, 4851912682, 147266027, 517937137, 13275122, 625790452, 37771774}\n",
      "f1_Score->  0.0 precision->  0.35833333333333334 recall->  0.0\n",
      "<class 'set'> {42920448, 1091408530152845312, 709829599669194752, 1161296115637084162, 1296940906302537730, 1263908877092995073, 1255450909540220930, 718531395098906624, 819186227912052736, 609536134, 890044032369512449, 1116543543684796417, 790112676827410433, 35686150, 1158232598285393920, 3301961096, 59230864, 887738301561679889, 97721735, 788041253405331456, 7773582, 1108177522397720579, 103679380, 816030746, 1290651428646793221, 2715681537, 2465145890, 1119585087257866240, 98210594, 720372631892029440, 1165200258567008256, 3156577578, 2500703018, 950499905415589888, 928185503488323584, 2415593269, 1293949202314084352, 14220471, 357947703, 1119452513537802240, 439500090, 319159357, 14707266, 398400323, 1292116872, 2369252168, 92766283, 1222375896658608128, 1118528000721551360, 17726678, 33099864, 1225608001811181569, 1291572576318349312, 110434146, 1112062964260110336, 14836587, 147266027}\n",
      "f1_Score->  0.0 precision->  0.45652173913043476 recall->  0.0\n",
      "<class 'list'> {720372631892029440, 956177218140504065, 1922369282, 42920448, 1192262627000377344, 50860169, 7773582, 835035547, 1927923236, 347191988, 15713079, 439500090, 14707266, 23089614, 7320782, 14595797, 126388704, 20812392, 1102643178, 2564083316}\n",
      "f1_Score->  0.2173913043478261 precision->  0.2777777777777778 recall->  1.0\n",
      "<class 'list'> {826610423025778688, 42920448, 956177218140504065, 1233903147220905985, 1922369282, 46998400, 1172163079548723200, 1401135751, 770781940341288960, 269046025, 875471430217027584, 23543947, 861889353869557762, 419854605, 1072944174448685063, 788041253405331456, 1292116872, 1043484575329144834, 43645717, 2411238810, 2465145890, 1061474405270712320, 1927923236, 29031844, 18576042, 37433900, 3277682995, 347191988, 2415593269, 1119452513537802240, 14666934, 11348282, 820761991199518720, 1200437827, 517077573, 42149321, 4398626122, 1222375896658608128, 14945996, 347999567, 177363408, 16073554, 33099864, 58545637, 1102643178, 146569971, 79923701, 18473212, 949677571784040448, 2575538047}\n",
      "f1_Score->  0.15384615384615383 precision->  0.2 recall->  0.6666666666666666\n"
     ]
    },
    {
     "name": "stdout",
     "output_type": "stream",
     "text": [
      "<class 'set'> {42920448, 957952372579487745, 1091408530152845312, 709829599669194752, 868224767802978304, 1235623628126826497, 1113237559939936256, 1161296115637084162, 1225890456212508672, 1296940906302537730, 869595885377867782, 1263908877092995073, 1256068439824756748, 1255450909540220930, 46903822, 861889353869557762, 868367376, 718531395098906624, 617654802, 887738301561679889, 764654979831308288, 1060694041, 816030746, 1207329318369542149, 3307674653, 113770018, 2465145890, 2436389418, 319159357, 14707266, 1200437827, 819186227912052736, 92766283, 977202254, 22683217, 222405719, 33099864, 15831150, 135337085, 927280432600748032, 1014278890775285760, 1138622123834953728, 1005315463872745472, 1252630205988048896, 609536134, 890044032369512449, 1278268614962040832, 1285155284906921984, 1304859910270668801, 968756605184593922, 1227460814266912770, 329995400, 1116543543684796417, 59230864, 733074959338213379, 1128047272745472003, 656533, 36568217, 557853341, 1167179635852865536, 1119585087257866240, 459375780, 86424236, 14220471, 426363584, 985486861672968192, 790112676827410433, 3818980053, 17726678, 21861599, 856674181353807872, 55909620, 19241206, 18473212, 1158232598285393920, 1287082383284428800, 1272071265461952512, 766315129013166080, 1291572576318349312, 35686150, 1297752051519168512, 1190430447274205184, 1017737508950499328, 916122964189437953, 1138313704829739009, 1274702196995694595, 3301961096, 836403992, 20131609, 55460634, 2715681537, 98210594, 720372631892029440, 3156577578, 2500703018, 950499905415589888, 360930099, 2415593269, 1293949202314084352, 357947703, 439500090, 398400323, 2369252168, 1019254304681668609, 16073554, 1010038845633527809, 110434146, 14836587, 1234250230893146112, 928185503488323584, 1171617863506915328, 985304744146202624, 1165200258567008256, 1222375896658608128, 1270344917483761665, 1292116872, 97721735, 852690245061574656, 3687025035, 1225608001811181569, 788041253405331456, 7773582, 1118528000721551360, 59090320, 1108177522397720579, 103679380, 308308886, 2411238810, 1290651428646793221, 739264134596808704, 1726433694, 1302055132822110209, 977112482, 1072944174448685063, 1182206912315703296, 1059719143484735488, 1119452513537802240, 3181970364, 1164134642372493313, 2440990166, 2326084578, 1112062964260110336, 1245163058173018112, 4851912682, 147266027, 517937137, 13275122, 625790452, 37771774}\n",
      "f1_Score->  0.0 precision->  0.34074074074074073 recall->  0.0\n",
      "<class 'set'> {42920448, 1091408530152845312, 709829599669194752, 1161296115637084162, 1296940906302537730, 1263908877092995073, 1255450909540220930, 718531395098906624, 819186227912052736, 609536134, 890044032369512449, 1116543543684796417, 790112676827410433, 35686150, 1158232598285393920, 3301961096, 59230864, 887738301561679889, 97721735, 788041253405331456, 7773582, 1108177522397720579, 103679380, 816030746, 1290651428646793221, 2715681537, 2465145890, 1119585087257866240, 98210594, 720372631892029440, 1165200258567008256, 3156577578, 2500703018, 950499905415589888, 928185503488323584, 2415593269, 1293949202314084352, 14220471, 357947703, 1119452513537802240, 439500090, 319159357, 14707266, 398400323, 1292116872, 2369252168, 92766283, 1222375896658608128, 1118528000721551360, 17726678, 33099864, 1225608001811181569, 1291572576318349312, 110434146, 1112062964260110336, 14836587, 147266027}\n",
      "f1_Score->  0.0 precision->  0.40384615384615385 recall->  0.0\n",
      "<class 'list'> {720372631892029440, 956177218140504065, 1922369282, 42920448, 1192262627000377344, 50860169, 7773582, 835035547, 1927923236, 347191988, 15713079, 439500090, 14707266, 23089614, 7320782, 14595797, 126388704, 20812392, 1102643178, 2564083316}\n",
      "f1_Score->  0.25925925925925924 precision->  0.35 recall->  1.0\n",
      "<class 'list'> {826610423025778688, 42920448, 956177218140504065, 1233903147220905985, 1922369282, 46998400, 1172163079548723200, 1401135751, 770781940341288960, 269046025, 875471430217027584, 23543947, 861889353869557762, 419854605, 1072944174448685063, 788041253405331456, 1292116872, 1043484575329144834, 43645717, 2411238810, 2465145890, 1061474405270712320, 1927923236, 29031844, 18576042, 37433900, 3277682995, 347191988, 2415593269, 1119452513537802240, 14666934, 11348282, 820761991199518720, 1200437827, 517077573, 42149321, 4398626122, 1222375896658608128, 14945996, 347999567, 177363408, 16073554, 33099864, 58545637, 1102643178, 146569971, 79923701, 18473212, 949677571784040448, 2575538047}\n",
      "f1_Score->  0.14173228346456693 precision->  0.18 recall->  0.6666666666666666\n",
      "<class 'set'> {42920448, 957952372579487745, 1091408530152845312, 709829599669194752, 868224767802978304, 1235623628126826497, 1113237559939936256, 1161296115637084162, 1225890456212508672, 1296940906302537730, 869595885377867782, 1263908877092995073, 1256068439824756748, 1255450909540220930, 46903822, 861889353869557762, 868367376, 718531395098906624, 617654802, 887738301561679889, 764654979831308288, 1060694041, 816030746, 1207329318369542149, 3307674653, 113770018, 2465145890, 2436389418, 319159357, 14707266, 1200437827, 819186227912052736, 92766283, 977202254, 22683217, 222405719, 33099864, 15831150, 135337085, 927280432600748032, 1014278890775285760, 1138622123834953728, 1005315463872745472, 1252630205988048896, 609536134, 890044032369512449, 1278268614962040832, 1285155284906921984, 1304859910270668801, 968756605184593922, 1227460814266912770, 329995400, 1116543543684796417, 59230864, 733074959338213379, 1128047272745472003, 656533, 36568217, 557853341, 1167179635852865536, 1119585087257866240, 459375780, 86424236, 14220471, 426363584, 985486861672968192, 790112676827410433, 3818980053, 17726678, 21861599, 856674181353807872, 55909620, 19241206, 18473212, 1158232598285393920, 1287082383284428800, 1272071265461952512, 766315129013166080, 1291572576318349312, 35686150, 1297752051519168512, 1190430447274205184, 1017737508950499328, 916122964189437953, 1138313704829739009, 1274702196995694595, 3301961096, 836403992, 20131609, 55460634, 2715681537, 98210594, 720372631892029440, 3156577578, 2500703018, 950499905415589888, 360930099, 2415593269, 1293949202314084352, 357947703, 439500090, 398400323, 2369252168, 1019254304681668609, 16073554, 1010038845633527809, 110434146, 14836587, 1234250230893146112, 928185503488323584, 1171617863506915328, 985304744146202624, 1165200258567008256, 1222375896658608128, 1270344917483761665, 1292116872, 97721735, 852690245061574656, 3687025035, 1225608001811181569, 788041253405331456, 7773582, 1118528000721551360, 59090320, 1108177522397720579, 103679380, 308308886, 2411238810, 1290651428646793221, 739264134596808704, 1726433694, 1302055132822110209, 977112482, 1072944174448685063, 1182206912315703296, 1059719143484735488, 1119452513537802240, 3181970364, 1164134642372493313, 2440990166, 2326084578, 1112062964260110336, 1245163058173018112, 4851912682, 147266027, 517937137, 13275122, 625790452, 37771774}\n",
      "f1_Score->  0.0 precision->  0.3221476510067114 recall->  0.0\n",
      "<class 'set'> {42920448, 1091408530152845312, 709829599669194752, 1161296115637084162, 1296940906302537730, 1263908877092995073, 1255450909540220930, 718531395098906624, 819186227912052736, 609536134, 890044032369512449, 1116543543684796417, 790112676827410433, 35686150, 1158232598285393920, 3301961096, 59230864, 887738301561679889, 97721735, 788041253405331456, 7773582, 1108177522397720579, 103679380, 816030746, 1290651428646793221, 2715681537, 2465145890, 1119585087257866240, 98210594, 720372631892029440, 1165200258567008256, 3156577578, 2500703018, 950499905415589888, 928185503488323584, 2415593269, 1293949202314084352, 14220471, 357947703, 1119452513537802240, 439500090, 319159357, 14707266, 398400323, 1292116872, 2369252168, 92766283, 1222375896658608128, 1118528000721551360, 17726678, 33099864, 1225608001811181569, 1291572576318349312, 110434146, 1112062964260110336, 14836587, 147266027}\n",
      "f1_Score->  0.0 precision->  0.38596491228070173 recall->  0.0\n"
     ]
    }
   ],
   "source": [
    "selection_Threshold = [0.1, 0.2, 0.3, 0.4, 0.5, 0.6, 0.7, 0.8, 0.9, 1]\n",
    "prop_preList = list()\n",
    "prop_recList = list()\n",
    "prop_f1List = list()\n",
    "firstB_preList = list()\n",
    "firstB_recList = list()\n",
    "firstB_f1List = list()\n",
    "secondB_preList = list()\n",
    "secondB_recList = list()\n",
    "secondB_f1List = list()\n",
    "thirdB_preList =  list()\n",
    "thirdB_recList = list()\n",
    "thirdB_f1List = list()\n",
    "for thresh in selection_Threshold:\n",
    "    proposed_precision, proposed_recall, proposed_f1_Score, first_baseline_precision, first_baseline_recall, first_baseline_f1_Score, second_baseline_precision, second_baseline_recall, second_baseline_f1_Score, third_baseline_precision, third_baseline_recall, third_baseline_f1_Score = model_comparison_result(thresh)\n",
    "    prop_preList.append(proposed_precision)\n",
    "    prop_recList.append(proposed_recall)\n",
    "    prop_f1List.append(proposed_f1_Score)\n",
    "    firstB_preList.append(first_baseline_precision)\n",
    "    firstB_recList.append(first_baseline_recall)\n",
    "    firstB_f1List.append(first_baseline_f1_Score)\n",
    "    secondB_preList.append(second_baseline_precision)\n",
    "    secondB_recList.append(second_baseline_recall)\n",
    "    secondB_f1List.append(second_baseline_f1_Score)\n",
    "    thirdB_preList.append(third_baseline_precision)\n",
    "    thirdB_recList.append(third_baseline_recall)\n",
    "    thirdB_f1List.append(third_baseline_f1_Score)"
   ]
  },
  {
   "cell_type": "code",
   "execution_count": 99,
   "metadata": {},
   "outputs": [],
   "source": [
    "avg_prop_preList.append(prop_preList)\n",
    "avg_prop_recList.append(prop_recList)\n",
    "avg_prop_f1List.append(prop_f1List)\n",
    "avg_thirdB_preList.append(thirdB_preList)\n",
    "avg_thirdB_recList.append(thirdB_recList)\n",
    "avg_thirdB_f1List.append(thirdB_f1List)"
   ]
  },
  {
   "cell_type": "code",
   "execution_count": 100,
   "metadata": {},
   "outputs": [
    {
     "name": "stderr",
     "output_type": "stream",
     "text": [
      "/home/abose/anaconda3/envs/pyTorch_env/lib/python3.8/site-packages/numpy/core/_asarray.py:136: VisibleDeprecationWarning: Creating an ndarray from ragged nested sequences (which is a list-or-tuple of lists-or-tuples-or ndarrays with different lengths or shapes) is deprecated. If you meant to do this, you must specify 'dtype=object' when creating the ndarray\n",
      "  return array(a, dtype, copy=False, order=order, subok=True)\n"
     ]
    }
   ],
   "source": [
    "avg_prop_preList = np.mean(avg_prop_preList, axis=0)\n",
    "avg_prop_recList = np.mean(avg_prop_recList, axis=0)\n",
    "avg_prop_f1List = np.mean(avg_prop_f1List, axis=0)\n",
    "avg_thirdB_preList = np.mean(avg_thirdB_preList, axis=0)\n",
    "avg_thirdB_recList = np.mean(avg_thirdB_recList, axis=0)\n",
    "avg_thirdB_f1List = np.mean(avg_thirdB_f1List, axis=0)"
   ]
  },
  {
   "cell_type": "code",
   "execution_count": 101,
   "metadata": {},
   "outputs": [],
   "source": [
    "avg_prop_preList = list(avg_prop_preList)\n",
    "avg_prop_recList = list(avg_prop_recList)\n",
    "avg_prop_f1List = list(avg_prop_f1List)\n",
    "avg_thirdB_preList = list(avg_thirdB_preList)\n",
    "avg_thirdB_recList = list(avg_thirdB_recList)\n",
    "avg_thirdB_f1List = list(avg_thirdB_f1List)"
   ]
  },
  {
   "cell_type": "code",
   "execution_count": 102,
   "metadata": {},
   "outputs": [
    {
     "name": "stdout",
     "output_type": "stream",
     "text": [
      "[0.6, 0.3, 0.26666666666666666, 0.2, 0.16, 0.16666666666666666, 0.14285714285714285, 0.15, 0.2, 0.18]\n",
      "[0.6666666666666666, 0.6666666666666666, 0.6666666666666666, 0.6666666666666666, 0.6666666666666666, 0.6666666666666666, 0.6666666666666666, 0.6666666666666666, 0.6666666666666666, 0.6666666666666666]\n",
      "[0.4666666666666667, 0.4, 0.4222222222222222, 0.38333333333333336, 0.36, 0.34444444444444444, 0.3619047619047619, 0.35833333333333334, 0.34074074074074073, 0.3221476510067114]\n",
      "[0.0, 0.0, 0.0, 0.0, 0.0, 0.0, 0.0, 0.0, 0.0, 0.0]\n"
     ]
    }
   ],
   "source": [
    "### Just for Test Purpose ###\n",
    "print(firstB_preList)\n",
    "print(firstB_recList)\n",
    "print(secondB_preList)\n",
    "print(secondB_recList)"
   ]
  },
  {
   "cell_type": "code",
   "execution_count": 54,
   "metadata": {},
   "outputs": [
    {
     "name": "stdout",
     "output_type": "stream",
     "text": [
      "[0.6, 0.3, 0.26666666666666666, 0.2, 0.16, 0.16666666666666666, 0.14285714285714285, 0.15, 0.2, 0.18]\n",
      "[0.3333333333333333, 0.3333333333333333, 0.3333333333333333, 0.3333333333333333, 0.3333333333333333, 0.3333333333333333, 0.3333333333333333, 0.3333333333333333, 0.3333333333333333, 0.3333333333333333]\n",
      "[0.4666666666666667, 0.4, 0.4222222222222222, 0.38333333333333336, 0.36, 0.34444444444444444, 0.3619047619047619, 0.35833333333333334, 0.34074074074074073, 0.3221476510067114]\n",
      "[1.0, 1.0, 1.0, 1.0, 1.0, 1.0, 1.0, 1.0, 1.0, 1.0]\n"
     ]
    }
   ],
   "source": [
    "### Just for Test Purpose ###\n",
    "print(firstB_preList)\n",
    "print(firstB_recList)\n",
    "print(secondB_preList)\n",
    "print(secondB_recList)"
   ]
  },
  {
   "cell_type": "code",
   "execution_count": 103,
   "metadata": {},
   "outputs": [
    {
     "data": {
      "image/png": "[encoded data removed]",
      "text/plain": [
       "<Figure size 792x504 with 1 Axes>"
      ]
     },
     "metadata": {
      "needs_background": "light"
     },
     "output_type": "display_data"
    }
   ],
   "source": [
    "weight = np.arange(0, 100, 10)\n",
    "plt.figure(figsize=(11, 7))\n",
    "plt.plot(weight, avg_prop_preList,color='blue', marker='o', linewidth=1, markersize=7, label='Original Model')\n",
    "plt.plot(weight, firstB_preList, color='green', marker='^', linewidth=1, markersize=9, label='Baseline 1')\n",
    "plt.plot(weight, secondB_preList, color='red', marker='s', linewidth=1, markersize=7, label='Baseline 2')\n",
    "plt.plot(weight, avg_thirdB_preList, color='black', marker='*', linewidth=1, markersize=11, label='Baseline 3')\n",
    "plt.xlabel('Weight Percentage')\n",
    "plt.ylabel('Average Precision')\n",
    "plt.title(\"Model Average Precision Comparision\")\n",
    "plt.legend()\n",
    "plt.show()"
   ]
  },
  {
   "cell_type": "code",
   "execution_count": 104,
   "metadata": {},
   "outputs": [
    {
     "data": {
      "image/png": "[encoded data removed]",
      "text/plain": [
       "<Figure size 792x504 with 1 Axes>"
      ]
     },
     "metadata": {
      "needs_background": "light"
     },
     "output_type": "display_data"
    }
   ],
   "source": [
    "plt.figure(figsize=(11, 7))\n",
    "plt.plot(weight, avg_prop_recList,color='blue', marker='o', linewidth=1, markersize=7, label='Original Model')\n",
    "plt.plot(weight, firstB_recList, color='green', marker='^', linewidth=1, markersize=9, label='Baseline 1')\n",
    "plt.plot(weight, secondB_recList, color='red', marker='s', linewidth=1, markersize=7, label='Baseline 2')\n",
    "plt.plot(weight, avg_thirdB_recList, color='black', marker='*', linewidth=1, markersize=11, label='Baseline 3')\n",
    "plt.xlabel('Weight Percentage')\n",
    "plt.ylabel('Average Recall')\n",
    "plt.title(\"Model Average Recall Comparision\")\n",
    "plt.legend()\n",
    "plt.show()"
   ]
  },
  {
   "cell_type": "code",
   "execution_count": 105,
   "metadata": {},
   "outputs": [
    {
     "data": {
      "image/png": "[encoded data removed]",
      "text/plain": [
       "<Figure size 792x504 with 1 Axes>"
      ]
     },
     "metadata": {
      "needs_background": "light"
     },
     "output_type": "display_data"
    }
   ],
   "source": [
    "plt.figure(figsize=(11, 7))\n",
    "plt.plot(weight, avg_prop_f1List,color='blue', marker='o', linewidth=1, markersize=7, label='Original Model')\n",
    "plt.plot(weight, firstB_f1List, color='green', marker='^', linewidth=1, markersize=9, label='Baseline 1')\n",
    "plt.plot(weight, secondB_f1List, color='red', marker='s', linewidth=1, markersize=7, label='Baseline 2')\n",
    "plt.plot(weight, avg_thirdB_f1List, color='black', marker='*', linewidth=1, markersize=11, label='Baseline 3')\n",
    "plt.xlabel('Weight Percentage')\n",
    "plt.ylabel('Average Precision')\n",
    "plt.title(\"Model Average Precision Comparision\")\n",
    "plt.legend()\n",
    "plt.show()"
   ]
  },
  {
   "cell_type": "code",
   "execution_count": null,
   "metadata": {},
   "outputs": [],
   "source": [
    "### Proposed Model result\n",
    "prposed_resultList = model_performance_exhibition(recommended_UserIDwith_Score[0:math.ceil(len(recommended_UserIDwith_Score)*0.20)], True) ## Proposed model\n",
    "proposed_precision = adaptive_precision(prposed_resultList)\n",
    "proposed_recall = adaptive_recall([list(id_score.keys())[0] for id_score in recommended_UserIDwith_Score])\n",
    "print(\"f1_Score-> \", adaptive_F1score(proposed_precision, proposed_recall), \"precision-> \", proposed_precision, \"recall-> \", proposed_recall)"
   ]
  },
  {
   "cell_type": "code",
   "execution_count": null,
   "metadata": {},
   "outputs": [],
   "source": [
    "### Model Iteration of Proposed model\n",
    "seedList.extend([list(id_score.keys())[0] for id_score in recommended_UserIDwith_Score[0:math.ceil(len(recommended_UserIDwith_Score)*0.20)]])"
   ]
  },
  {
   "cell_type": "code",
   "execution_count": null,
   "metadata": {},
   "outputs": [],
   "source": [
    "### First Baseline\n",
    "first_baseline_resultList = model_performance_exhibition(MPopular_baseLine[0:math.ceil(len(MPopular_baseLine)*0.20)], True)\n",
    "first_baseline_precision = adaptive_precision(first_baseline_resultList)\n",
    "first_baseline_recall = adaptive_recall([list(id_score.keys())[0] for id_score in MPopular_baseLine])\n",
    "print(\"f1_Score-> \", adaptive_F1score(first_baseline_precision, first_baseline_recall), \"precision-> \", first_baseline_precision, \"recall-> \", first_baseline_recall)"
   ]
  },
  {
   "cell_type": "code",
   "execution_count": null,
   "metadata": {},
   "outputs": [],
   "source": [
    "### Second baseline\n",
    "second_baseline_resultList = model_performance_exhibition(list(FoF_baseline)[0:math.ceil(len(FoF_baseline)*0.20)], False)\n",
    "second_baseline_precision = adaptive_precision(second_baseline_resultList)\n",
    "second_baseline_recall = adaptive_recall(FoF_baseline)\n",
    "print(\"f1_Score-> \", adaptive_F1score(second_baseline_precision, second_baseline_recall), \"precision-> \", second_baseline_precision, \"recall-> \", second_baseline_recall)"
   ]
  },
  {
   "cell_type": "code",
   "execution_count": null,
   "metadata": {},
   "outputs": [],
   "source": [
    "third_baseline_resultList = model_performance_exhibition(list(CplusL_baseline)[0:math.ceil(len(CplusL_baseline)*0.20)], False)\n",
    "third_baseline_precision = adaptive_precision(third_baseline_resultList)\n",
    "third_baseline_recall = adaptive_recall(CplusL_baseline)\n",
    "print(\"f1_Score-> \", adaptive_F1score(third_baseline_precision, third_baseline_recall), \"precision-> \", third_baseline_precision, \"recall-> \", third_baseline_recall)"
   ]
  },
  {
   "cell_type": "markdown",
   "metadata": {},
   "source": [
    "## Using LDA Validation ##"
   ]
  },
  {
   "cell_type": "code",
   "execution_count": null,
   "metadata": {},
   "outputs": [],
   "source": [
    "recomUser_AllText = list()\n",
    "for recomUser in recommended_UserIDwith_Score:\n",
    "    recomUser_AllText.append(userIdDict[list(recomUser.keys())[0]]['AllText'])"
   ]
  },
  {
   "cell_type": "code",
   "execution_count": null,
   "metadata": {},
   "outputs": [],
   "source": [
    "import gensim\n",
    "from gensim import corpora\n",
    "import nltk\n",
    "import spacy\n",
    "spacy.load('en')\n",
    "from spacy.lang.en import English\n",
    "parser = English()\n",
    "\n",
    "def tokenize(text):\n",
    "    lda_tokens = []\n",
    "    tokens = parser(text)\n",
    "    for token in tokens:\n",
    "        if token.orth_.isspace():\n",
    "            continue\n",
    "        elif token.like_url:\n",
    "            lda_tokens.append('URL')\n",
    "        elif token.orth_.startswith('@'):\n",
    "            lda_tokens.append('SCREEN_NAME')\n",
    "        else:\n",
    "            lda_tokens.append(token.lower_)\n",
    "    return lda_tokens\n",
    "\n",
    "\n",
    "\n",
    "nltk.download('wordnet')\n",
    "from nltk.corpus import wordnet as wn\n",
    "def get_lemma(word):\n",
    "    lemma = wn.morphy(word)\n",
    "    if lemma is None:\n",
    "        return word\n",
    "    else:\n",
    "        return lemma\n",
    "    \n",
    "from nltk.stem.wordnet import WordNetLemmatizer\n",
    "def get_lemma2(word):\n",
    "    return WordNetLemmatizer().lemmatize(word)\n",
    "\n",
    "\n",
    "nltk.download('stopwords')\n",
    "en_stop = set(nltk.corpus.stopwords.words('english'))\n",
    "\n",
    "\n",
    "def prepare_text_for_lda(text):\n",
    "    tokens = tokenize(text)\n",
    "    tokens = [token for token in tokens if len(token) > 4]\n",
    "    tokens = [token for token in tokens if token not in en_stop]\n",
    "    tokens = [get_lemma(token) for token in tokens]\n",
    "    return tokens\n",
    "\n",
    "\n",
    "text_data = []\n",
    "for allText in recomUser_AllText:\n",
    "    tokens = prepare_text_for_lda(allText)\n",
    "#     print(tokens)\n",
    "    text_data.append(tokens)\n",
    "\n",
    "\n",
    "dictionary = corpora.Dictionary(text_data)\n",
    "corpus = [dictionary.doc2bow(text) for text in text_data]\n",
    "NUM_TOPICS = 3\n",
    "ldamodel = gensim.models.ldamodel.LdaModel(corpus, num_topics = NUM_TOPICS, id2word=dictionary, passes=15)\n",
    "topics = ldamodel.print_topics(num_words=5)\n",
    "for topic in topics:\n",
    "    print(topic)"
   ]
  },
  {
   "cell_type": "code",
   "execution_count": null,
   "metadata": {},
   "outputs": [],
   "source": [
    "for i, seedNode in enumerate(seedList):\n",
    "    print(seedNode,\"Seed Node\",i,\"-> \", userIdDict[seedNode]['AllText'])\n",
    "#     new_doc = prepare_text_for_lda(userIdDict[list(recomUser.keys())[0]]['AllText'])\n",
    "    print(set(new_doc))\n",
    "    new_doc_bow = dictionary.doc2bow(new_doc)\n",
    "#     print(new_doc_bow)\n",
    "#     print(ldamodel.get_document_topics(new_doc_bow))"
   ]
  },
  {
   "cell_type": "markdown",
   "metadata": {},
   "source": [
    "## Using LDA Ends ##"
   ]
  },
  {
   "cell_type": "code",
   "execution_count": null,
   "metadata": {},
   "outputs": [],
   "source": []
  }
 ],
 "metadata": {
  "kernelspec": {
   "display_name": "Python 3",
   "language": "python",
   "name": "python3"
  },
  "language_info": {
   "codemirror_mode": {
    "name": "ipython",
    "version": 3
   },
   "file_extension": ".py",
   "mimetype": "text/x-python",
   "name": "python",
   "nbconvert_exporter": "python",
   "pygments_lexer": "ipython3",
   "version": "3.8.5"
  }
 },
 "nbformat": 4,
 "nbformat_minor": 4
}
