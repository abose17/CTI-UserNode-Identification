{
 "cells": [
  {
   "cell_type": "code",
   "execution_count": 1,
   "metadata": {},
   "outputs": [
    {
     "name": "stderr",
     "output_type": "stream",
     "text": [
      "[nltk_data] Downloading package stopwords to /home/abose/nltk_data...\n",
      "[nltk_data]   Package stopwords is already up-to-date!\n",
      "<ipython-input-1-f22521b75d83>:41: DeprecationWarning: This package has been superseded by the `leidenalg` package and will no longer be maintained. Please upgrade to the `leidenalg` package.\n",
      "  import louvain\n"
     ]
    }
   ],
   "source": [
    "import sys\n",
    "import numpy as np\n",
    "import pandas as pd\n",
    "import pymongo\n",
    "import bson\n",
    "import json\n",
    "import time\n",
    "import datetime\n",
    "import os\n",
    "import collections\n",
    "import random\n",
    "import gensim\n",
    "from gensim.models.doc2vec import Doc2Vec, TaggedDocument\n",
    "from gensim.summarization import keywords\n",
    "import csv\n",
    "import string\n",
    "import re\n",
    "import io\n",
    "import itertools\n",
    "from sklearn.feature_extraction.text import TfidfVectorizer\n",
    "from sklearn.cluster import DBSCAN\n",
    "from sklearn.metrics import f1_score\n",
    "from sklearn.metrics import accuracy_score\n",
    "from sklearn.metrics.pairwise import cosine_similarity\n",
    "from sklearn.model_selection import train_test_split\n",
    "from ast import literal_eval\n",
    "import nltk\n",
    "from nltk.corpus import stopwords\n",
    "from collections import Counter\n",
    "import gensim.downloader as api\n",
    "import networkx as nx\n",
    "import math\n",
    "from tqdm import trange, tqdm\n",
    "from symspellpy.symspellpy import SymSpell, Verbosity\n",
    "from nltk import word_tokenize\n",
    "nltk.download('stopwords')\n",
    "from networkx.algorithms import community\n",
    "import community as community_louvain\n",
    "import matplotlib.cm as cm\n",
    "import matplotlib.pyplot as plt\n",
    "import igraph as ig\n",
    "import louvain\n",
    "import leidenalg\n",
    "stopwords = nltk.corpus.stopwords.words('english')\n",
    "import hdbscan\n",
    "import torch\n",
    "from transformers import AutoTokenizer, BertTokenizer, BertModel\n",
    "from transformers import DistilBertModel, DistilBertConfig, DistilBertTokenizer"
   ]
  },
  {
   "cell_type": "code",
   "execution_count": 2,
   "metadata": {},
   "outputs": [],
   "source": [
    "# contractions_save = json.dumps(contractions)\n",
    "# file = open(\"/home/abose/Threat Intel/contractions_save.json\",\"w\")\n",
    "# file.write(contractions_save)\n",
    "# file.close()\n",
    "with open('/home/abose/Threat Intel/contractions_save.json') as file:\n",
    "    contractions = json.load(file)"
   ]
  },
  {
   "cell_type": "code",
   "execution_count": 3,
   "metadata": {},
   "outputs": [],
   "source": [
    "def extend_doc(doc):\n",
    "    tokens = doc.split()\n",
    "    for idx, token in enumerate(tokens):\n",
    "        if token in contractions:\n",
    "            tokens[idx]=contractions[token]\n",
    "    tokens = ' '.join(tokens)\n",
    "    return tokens"
   ]
  },
  {
   "cell_type": "code",
   "execution_count": 4,
   "metadata": {},
   "outputs": [],
   "source": [
    "def hook_compound(input_termList):\n",
    "#     if not input_termList or input_termList == None or input_termList == \"\":\n",
    "#         return input_termList\n",
    "    # maximum edit distance per dictionary precalculation\n",
    "    symSpell_1st_TotalTweetText=[]\n",
    "    max_edit_distance_dictionary = 2\n",
    "    prefix_length = 7\n",
    "    # create object\n",
    "    sym_spell = SymSpell(max_edit_distance_dictionary, prefix_length)\n",
    "    # load dictionary\n",
    "    dictionary_path = os.path.join(os.path.dirname(\"E:\\\\Threat_Intel_Research\\\\\"),\"frequency_dictionary_en_82_765.txt\")\n",
    "    term_index = 0  # column of the term in the dictionary text file\n",
    "    count_index = 1  # column of the term frequency in the dictionary text file\n",
    "    if not sym_spell.load_dictionary(dictionary_path, term_index, count_index):\n",
    "        print(\"Dictionary file not found\")\n",
    "        return\n",
    "\n",
    "    # max edit distance per lookup (per single word, not per whole input string)\n",
    "    max_edit_distance_lookup = 2\n",
    "    input_term2 = re.sub(r\"http\\S+\", \"\", input_termList)\n",
    "    suggestions = sym_spell.lookup_compound(input_term2, max_edit_distance_lookup)\n",
    "    for suggestion in suggestions:\n",
    "        symSpell_1st_TotalTweetText.append(suggestion.term)\n",
    " \n",
    "    return symSpell_1st_TotalTweetText"
   ]
  },
  {
   "cell_type": "code",
   "execution_count": 5,
   "metadata": {},
   "outputs": [],
   "source": [
    "def mainLookUp(input_termLookList):\n",
    "#     if not input_termLookList or input_termLookList == None or input_termLookList == \"\":\n",
    "#         return input_termLookList\n",
    "    symSpell_2nd_TotalTweetText=[]\n",
    "    # maximum edit distance per dictionary precalculation\n",
    "    max_edit_distance_dictionary = 0\n",
    "    prefix_length = 7\n",
    "    # create object\n",
    "    sym_spell = SymSpell(max_edit_distance_dictionary, prefix_length)\n",
    "    # load dictionary\n",
    "    dictionary_path = os.path.join(os.path.dirname(\"E:\\\\Threat_Intel_Research\\\\\"),\"frequency_dictionary_en_82_765.txt\")\n",
    "    term_index = 0  # column of the term in the dictionary text file\n",
    "    count_index = 1  # column of the term frequency in the dictionary text file\n",
    "    if not sym_spell.load_dictionary(dictionary_path, term_index, count_index):\n",
    "        print(\"Dictionary file not found\")\n",
    "        return\n",
    "\n",
    "    # a sentence without any spaces\n",
    "    if input_termLookList:\n",
    "        result = sym_spell.word_segmentation(input_termLookList)\n",
    "        symSpell_2nd_TotalTweetText.append(result.corrected_string)\n",
    "    return symSpell_2nd_TotalTweetText"
   ]
  },
  {
   "cell_type": "code",
   "execution_count": 6,
   "metadata": {},
   "outputs": [],
   "source": [
    "def clean_doc(doc):\n",
    "    # split into tokens by white space\n",
    "    #doc = re.sub(r\\\"http\\\\S+\\\", \\\"\\\", doc)\n",
    "    tokens = doc.split()\n",
    "    # remove punctuation from each token\n",
    "    table = str.maketrans('', '', string.punctuation)\n",
    "    tokens = [w.translate(table) for w in tokens]\n",
    "    #remove remaining tokens that are not alphabetic\n",
    "    tokens = [word for word in tokens if word.isalpha()]\n",
    "    # filter out stop words\n",
    "    stop_words = set(stopwords)\n",
    "    tokens = [w for w in tokens if not w in stop_words]\n",
    "    #tokens = [stemmer.stem(t) for t in tokens]\n",
    "    # filter out short tokens\n",
    "    tokens = [word for word in tokens if len(word) > 1]\n",
    "    tokens = ' '.join(tokens)\n",
    "    return tokens"
   ]
  },
  {
   "cell_type": "code",
   "execution_count": 7,
   "metadata": {},
   "outputs": [],
   "source": [
    "def process_text(text):\n",
    "    text = extend_doc(text)\n",
    "#     textSpell = hook_compound(text)\n",
    "#     if len(textSpell[0])>=5:\n",
    "#         textSpell = mainLookUp(textSpell[0])\n",
    "#         cleanedText = clean_doc(textSpell[0])\n",
    "    if len(text)>=5:\n",
    "        cleanedText = clean_doc(text)\n",
    "    else:\n",
    "        cleanedText=\"NAAAN\"\n",
    "    return cleanedText"
   ]
  },
  {
   "cell_type": "code",
   "execution_count": 8,
   "metadata": {},
   "outputs": [],
   "source": [
    "#define vectorizer parameters\n",
    "def apply_TFIDF(fname):\n",
    "    tfidf_vectorizer = TfidfVectorizer(max_df=0.99,lowercase=True, max_features=200000,min_df=0.001, stop_words='english', use_idf=True)\n",
    "    #check_mat=tfidf_vectorizer.fit(fname)\n",
    "    #print(\"check \", check_mat.vocabulary_)\n",
    "    tfidf_matrix = tfidf_vectorizer.fit_transform(fname) #fit the vectorizer to synopses\n",
    "    #print(tfidf_matrix.shape, tfidf_matrix[0,0], tfidf_matrix[0,1], tfidf_matrix[0,2], tfidf_matrix[0,3])\n",
    "    terms = tfidf_vectorizer.get_feature_names()\n",
    "    #print(tfidf_matrix.shape, \" + \",terms, tfidf_vectorizer.idf_)\n",
    "    print(\" + \", tfidf_matrix.shape, \" + \")\n",
    "    return tfidf_matrix"
   ]
  },
  {
   "cell_type": "code",
   "execution_count": 9,
   "metadata": {},
   "outputs": [],
   "source": [
    "def userObjectDictionaryFunction():\n",
    "    connection=pymongo.MongoClient()\n",
    "    srcUserDB=connection.user_src_identification\n",
    "    collection=srcUserDB.taggedData40k\n",
    "    cursor=collection.find({},{\"_id\":0}).limit(40761)\n",
    "    userObjectData=[]\n",
    "    userIdDict=dict()\n",
    "    for data in cursor:\n",
    "        userDataDict=dict()\n",
    "        for key, value in data.items():\n",
    "            if key==\"id\":\n",
    "                userID=value\n",
    "            if key==\"Description\":\n",
    "                userDataDict.update({\"Description\":value})\n",
    "            if key==\"DescTag\":\n",
    "                userDataDict.update({\"DescTag\":value})\n",
    "            if key==\"Followers\":\n",
    "                userDataDict.update({\"Followers\":value})\n",
    "            if key==\"Following\":\n",
    "                userDataDict.update({\"Following\":value})\n",
    "            if key==\"Tweets\":\n",
    "                userDataDict.update({\"Tweets\":value})\n",
    "            if key==\"TweetsTags\":\n",
    "                userDataDict.update({\"TweetsTags\":value})\n",
    "            if key==\"AllText\":\n",
    "                userDataDict.update({\"AllText\":value})\n",
    "            if key==\"AllTextTags\":\n",
    "                userDataDict.update({\"AllTextTags\":value})\n",
    "        userIdDict.update({int(userID):userDataDict})\n",
    "    return userIdDict\n",
    "userIdDict = userObjectDictionaryFunction()"
   ]
  },
  {
   "cell_type": "code",
   "execution_count": 10,
   "metadata": {},
   "outputs": [
    {
     "data": {
      "text/plain": [
       "40761"
      ]
     },
     "execution_count": 10,
     "metadata": {},
     "output_type": "execute_result"
    }
   ],
   "source": [
    "len(userIdDict)"
   ]
  },
  {
   "cell_type": "code",
   "execution_count": 11,
   "metadata": {},
   "outputs": [
    {
     "data": {
      "text/html": [
       "<div>\n",
       "<style scoped>\n",
       "    .dataframe tbody tr th:only-of-type {\n",
       "        vertical-align: middle;\n",
       "    }\n",
       "\n",
       "    .dataframe tbody tr th {\n",
       "        vertical-align: top;\n",
       "    }\n",
       "\n",
       "    .dataframe thead th {\n",
       "        text-align: right;\n",
       "    }\n",
       "</style>\n",
       "<table border=\"1\" class=\"dataframe\">\n",
       "  <thead>\n",
       "    <tr style=\"text-align: right;\">\n",
       "      <th></th>\n",
       "      <th>id</th>\n",
       "      <th>Description</th>\n",
       "      <th>DescTag</th>\n",
       "      <th>Tweets</th>\n",
       "      <th>TweetsTags</th>\n",
       "      <th>AllText</th>\n",
       "      <th>AllTextTags</th>\n",
       "      <th>Followers</th>\n",
       "      <th>Following</th>\n",
       "      <th>Annotation</th>\n",
       "    </tr>\n",
       "  </thead>\n",
       "  <tbody>\n",
       "    <tr>\n",
       "      <th>0</th>\n",
       "      <td>1161296115637084162</td>\n",
       "      <td>#Spider Overlord calling #darknet home. Talk #...</td>\n",
       "      <td>[/technology and computing/hardware/computer c...</td>\n",
       "      <td>[A wild sponsor appears!  Two more bundles hat...</td>\n",
       "      <td>[[/style and fashion/luxury goods, /pets/large...</td>\n",
       "      <td>A wild sponsor appears!  Two more bundles hath...</td>\n",
       "      <td>[/art and entertainment/movies and tv/movies, ...</td>\n",
       "      <td>[1112062964260110336, 985304744146202624, 1304...</td>\n",
       "      <td>[347191988, 1302055132822110209, 14727747, 330...</td>\n",
       "      <td>relevant</td>\n",
       "    </tr>\n",
       "    <tr>\n",
       "      <th>1</th>\n",
       "      <td>1112062964260110336</td>\n",
       "      <td>🍣 researcher 🦕 pentester 😈 web monkey 🙊 datteb...</td>\n",
       "      <td>[/technology and computing/internet technology...</td>\n",
       "      <td>[Perhaps currently I 'm going through the most...</td>\n",
       "      <td>[[/society/unrest and war, /art and entertainm...</td>\n",
       "      <td>@alicanact60 @Hacker0x01 👍👍👍👍👍@SecGoblin @root...</td>\n",
       "      <td>[/technology and computing/hardware, /technolo...</td>\n",
       "      <td>[1229142485823315968, 28482605, 773838475]</td>\n",
       "      <td>[1145546584752394241, 1235115096528936960, 220...</td>\n",
       "      <td>irrelevant</td>\n",
       "    </tr>\n",
       "    <tr>\n",
       "      <th>2</th>\n",
       "      <td>985304744146202624</td>\n",
       "      <td>bebe gay III 🏳️‍🌈 ه҈̿҈̿҈̿҈̿҈̿҈̿҈̿҈̿҈̿҈̿҈̿҈̿҈̿҈...</td>\n",
       "      <td>[/society/gay life]</td>\n",
       "      <td>[]</td>\n",
       "      <td>[]</td>\n",
       "      <td>bebe gay III 🏳️‍🌈 ه҈̿҈̿҈̿҈̿҈̿҈̿҈̿҈̿҈̿҈̿҈̿҈̿҈̿҈...</td>\n",
       "      <td>[/society/gay life]</td>\n",
       "      <td>[]</td>\n",
       "      <td>[]</td>\n",
       "      <td>irrelevant</td>\n",
       "    </tr>\n",
       "    <tr>\n",
       "      <th>3</th>\n",
       "      <td>861889353869557762</td>\n",
       "      <td>Hi, it's me // SEO Class of 2008 // Autodidact...</td>\n",
       "      <td>[/technology and computing/internet technology...</td>\n",
       "      <td>[Airbnb markets are crazy right now https://t....</td>\n",
       "      <td>[[/travel/vacation rentals, /finance/investing...</td>\n",
       "      <td>Airbnb markets are crazy right now https://t.c...</td>\n",
       "      <td>[/food and drink/vegetarian, /food and drink/v...</td>\n",
       "      <td>[1026799219716177920, 1134088559617630208, 117...</td>\n",
       "      <td>[22589449, 2707742660, 1099713672434335744]</td>\n",
       "      <td>irrelevant</td>\n",
       "    </tr>\n",
       "    <tr>\n",
       "      <th>4</th>\n",
       "      <td>733074959338213379</td>\n",
       "      <td>Cybersecurity is a ILLUSION</td>\n",
       "      <td>[/technology and computing/computer security, ...</td>\n",
       "      <td>[]</td>\n",
       "      <td>[]</td>\n",
       "      <td>Cybersecurity is a ILLUSION</td>\n",
       "      <td>[/technology and computing/computer crime, /te...</td>\n",
       "      <td>[]</td>\n",
       "      <td>[]</td>\n",
       "      <td>relevant</td>\n",
       "    </tr>\n",
       "  </tbody>\n",
       "</table>\n",
       "</div>"
      ],
      "text/plain": [
       "                    id                                        Description  \\\n",
       "0  1161296115637084162  #Spider Overlord calling #darknet home. Talk #...   \n",
       "1  1112062964260110336  🍣 researcher 🦕 pentester 😈 web monkey 🙊 datteb...   \n",
       "2   985304744146202624  bebe gay III 🏳️‍🌈 ه҈̿҈̿҈̿҈̿҈̿҈̿҈̿҈̿҈̿҈̿҈̿҈̿҈̿҈...   \n",
       "3   861889353869557762  Hi, it's me // SEO Class of 2008 // Autodidact...   \n",
       "4   733074959338213379                        Cybersecurity is a ILLUSION   \n",
       "\n",
       "                                             DescTag  \\\n",
       "0  [/technology and computing/hardware/computer c...   \n",
       "1  [/technology and computing/internet technology...   \n",
       "2                                [/society/gay life]   \n",
       "3  [/technology and computing/internet technology...   \n",
       "4  [/technology and computing/computer security, ...   \n",
       "\n",
       "                                              Tweets  \\\n",
       "0  [A wild sponsor appears!  Two more bundles hat...   \n",
       "1  [Perhaps currently I 'm going through the most...   \n",
       "2                                                 []   \n",
       "3  [Airbnb markets are crazy right now https://t....   \n",
       "4                                                 []   \n",
       "\n",
       "                                          TweetsTags  \\\n",
       "0  [[/style and fashion/luxury goods, /pets/large...   \n",
       "1  [[/society/unrest and war, /art and entertainm...   \n",
       "2                                                 []   \n",
       "3  [[/travel/vacation rentals, /finance/investing...   \n",
       "4                                                 []   \n",
       "\n",
       "                                             AllText  \\\n",
       "0  A wild sponsor appears!  Two more bundles hath...   \n",
       "1  @alicanact60 @Hacker0x01 👍👍👍👍👍@SecGoblin @root...   \n",
       "2  bebe gay III 🏳️‍🌈 ه҈̿҈̿҈̿҈̿҈̿҈̿҈̿҈̿҈̿҈̿҈̿҈̿҈̿҈...   \n",
       "3  Airbnb markets are crazy right now https://t.c...   \n",
       "4                        Cybersecurity is a ILLUSION   \n",
       "\n",
       "                                         AllTextTags  \\\n",
       "0  [/art and entertainment/movies and tv/movies, ...   \n",
       "1  [/technology and computing/hardware, /technolo...   \n",
       "2                                [/society/gay life]   \n",
       "3  [/food and drink/vegetarian, /food and drink/v...   \n",
       "4  [/technology and computing/computer crime, /te...   \n",
       "\n",
       "                                           Followers  \\\n",
       "0  [1112062964260110336, 985304744146202624, 1304...   \n",
       "1         [1229142485823315968, 28482605, 773838475]   \n",
       "2                                                 []   \n",
       "3  [1026799219716177920, 1134088559617630208, 117...   \n",
       "4                                                 []   \n",
       "\n",
       "                                           Following  Annotation  \n",
       "0  [347191988, 1302055132822110209, 14727747, 330...    relevant  \n",
       "1  [1145546584752394241, 1235115096528936960, 220...  irrelevant  \n",
       "2                                                 []  irrelevant  \n",
       "3        [22589449, 2707742660, 1099713672434335744]  irrelevant  \n",
       "4                                                 []    relevant  "
      ]
     },
     "execution_count": 11,
     "metadata": {},
     "output_type": "execute_result"
    }
   ],
   "source": [
    "######## Only For Validation #########\n",
    "avg_prop_preList = list()\n",
    "avg_prop_recList = list()\n",
    "avg_prop_f1List = list()\n",
    "\n",
    "avg_firstB_recList = list()\n",
    "avg_firstB_f1List = list()\n",
    "avg_secondB_recList = list()\n",
    "avg_secondB_f1List = list()\n",
    "\n",
    "avg_thirdB_preList = list()\n",
    "avg_thirdB_recList = list()\n",
    "avg_thirdB_f1List = list()\n",
    "validation_DF = pd.read_json(\"annotated_smallNetwork.json\", lines=True)\n",
    "validation_DF.head(5)"
   ]
  },
  {
   "cell_type": "code",
   "execution_count": 12,
   "metadata": {},
   "outputs": [
    {
     "name": "stdout",
     "output_type": "stream",
     "text": [
      "Name: \n",
      "Type: DiGraph\n",
      "Number of nodes: 938\n",
      "Number of edges: 964\n",
      "Average in degree:   1.0277\n",
      "Average out degree:   1.0277\n"
     ]
    },
    {
     "data": {
      "image/png": "[encoded data removed]",
      "text/plain": [
       "<Figure size 432x288 with 1 Axes>"
      ]
     },
     "metadata": {},
     "output_type": "display_data"
    }
   ],
   "source": [
    "######## Only For Validation #########\n",
    "val_FollowerNode = list()\n",
    "val_FollowingNode = list()\n",
    "val_follow_count_mapper = dict()\n",
    "nodeId_Set= set(validation_DF['id'])\n",
    "for index, DataRow in validation_DF.iterrows():\n",
    "    if 'Followers' in DataRow:\n",
    "        if DataRow['id'] in userIdDict:\n",
    "            val_follow_count_mapper[DataRow['id']] = len(userIdDict[DataRow['id']]['Followers'])\n",
    "        else:\n",
    "            val_follow_count_mapper[DataRow['id']] = len(DataRow['Followers'])\n",
    "#         for val_followerKey, val_follower in enumerate(literal_eval(DataRow['Followers'])):\n",
    "        for val_followerKey, val_follower in enumerate(DataRow['Followers']):\n",
    "            if val_follower in nodeId_Set:\n",
    "                val_FollowerNode.append((int(DataRow['id']), int(val_follower), 1))\n",
    "    if 'Following' in DataRow:\n",
    "        if DataRow['id'] in userIdDict:\n",
    "            val_follow_count_mapper[DataRow['id']] = val_follow_count_mapper[DataRow['id']] + len(userIdDict[DataRow['id']]['Following'])\n",
    "        else:\n",
    "            val_follow_count_mapper[DataRow['id']] =  val_follow_count_mapper[DataRow['id']] + len(DataRow['Following'])\n",
    "#         for val_followingKey, val_following in enumerate(literal_eval(DataRow['Following'])):\n",
    "        for val_followingKey, val_following in enumerate(DataRow['Following']):\n",
    "            if val_following in nodeId_Set:\n",
    "                val_FollowingNode.append((int(val_following), int(DataRow['id']), 1))\n",
    "            \n",
    "val_FollowerDF = pd.DataFrame(val_FollowerNode, columns =['Src', 'Des', 'Score'])\n",
    "val_FollowingDF= pd.DataFrame(val_FollowingNode, columns = ['Src', 'Des', 'Score'])\n",
    "val_FollowDF = pd.concat([val_FollowerDF,val_FollowingDF])\n",
    "val_FollowDF.to_csv(\"val_FollowDF.csv\", sep=',', index=False, header=False)\n",
    "val_nx_graph=nx.read_edgelist('val_FollowDF.csv', delimiter=',', data=(('weight',float),), nodetype=int, create_using=nx.DiGraph())\n",
    "print(nx.info(val_nx_graph))\n",
    "nx.draw(val_nx_graph)\n",
    "plt.show()"
   ]
  },
  {
   "cell_type": "markdown",
   "metadata": {},
   "source": [
    "### Only For Validation ####"
   ]
  },
  {
   "cell_type": "code",
   "execution_count": 13,
   "metadata": {},
   "outputs": [],
   "source": [
    "valid_userIdDict = {nodeID:userIdDict[nodeID] for nodeID in nodeId_Set if nodeID in userIdDict}\n",
    "userIdDict = valid_userIdDict"
   ]
  },
  {
   "cell_type": "markdown",
   "metadata": {},
   "source": [
    "### First Baseline method execution starts from here"
   ]
  },
  {
   "cell_type": "code",
   "execution_count": 14,
   "metadata": {},
   "outputs": [],
   "source": [
    "MPopular_baseLine = [{k: v} for k, v in sorted(val_follow_count_mapper.items(), key=lambda item: item[1])][-50:]"
   ]
  },
  {
   "cell_type": "markdown",
   "metadata": {},
   "source": [
    "### First Baseline method execution ends here"
   ]
  },
  {
   "cell_type": "code",
   "execution_count": 15,
   "metadata": {},
   "outputs": [
    {
     "data": {
      "text/plain": [
       "937"
      ]
     },
     "execution_count": 15,
     "metadata": {},
     "output_type": "execute_result"
    }
   ],
   "source": [
    "# print(len(userIdDict.keys()), len(nodeId_Set), userIdDict.keys())\n",
    "# print(val_follow_count_mapper)\n",
    "len(list(userIdDict.values()))"
   ]
  },
  {
   "cell_type": "code",
   "execution_count": 16,
   "metadata": {},
   "outputs": [],
   "source": [
    "def create_Json_Processed_Data_File():\n",
    "    for userID, entries in userIdDict.items():\n",
    "        processedTweetTextList = list()\n",
    "        if \"Tweets\" in entries:\n",
    "            if len(entries[\"Tweets\"]) != 0:\n",
    "                for tweetText in entries[\"Tweets\"]:\n",
    "                    if len(tweetText) <= 5:\n",
    "                        continue\n",
    "                    else:\n",
    "                        processedTweetTextList.append(process_text(tweetText))\n",
    "                entries.update({\"Tweets\":processedTweetTextList})\n",
    "            else:\n",
    "                del entries[\"Tweets\"]\n",
    "        if \"AllText\" in entries:\n",
    "            if len(entries[\"AllText\"]) >= 5:\n",
    "                entries.update({\"AllText\":process_text(entries[\"AllText\"])})\n",
    "            elif \"Tweets\" in entries and len(entries[\"AllText\"]) < 5 and len(entries[\"Tweets\"]) >= 2:\n",
    "                entries.update({\"AllText\":' '.join(processedTweetTextList)})\n",
    "            else:\n",
    "                del entries[\"AllText\"]\n",
    "        if \"Description\" in entries:\n",
    "            if len(entries[\"Description\"]) >= 5:\n",
    "                entries.update({\"Description\":process_text(entries[\"Description\"])})\n",
    "            else:\n",
    "                del entries[\"Description\"]\n",
    "        if 'DescTag' in entries:\n",
    "            if len(entries['DescTag']) == 0:\n",
    "                del entries['DescTag']\n",
    "    with open('userIdDict.json', 'w') as fp:\n",
    "        json.dump(userIdDict, fp)\n",
    "create_Json_Processed_Data_File()"
   ]
  },
  {
   "cell_type": "markdown",
   "metadata": {},
   "source": [
    "### The following code block assigns score to a twitter account based on the IBM watson tagging and helps removing twitter account from the analysis if the account is not relevant ###"
   ]
  },
  {
   "cell_type": "code",
   "execution_count": 17,
   "metadata": {},
   "outputs": [],
   "source": [
    "def categoryAnalyzer(tweetID, Type):\n",
    "    userScoreDict=dict()\n",
    "    score=0\n",
    "    keepOrDiscard=True\n",
    "    if tweetID not in userIdDict:\n",
    "        userScoreDict[tweetID] = 0\n",
    "        keepOrDiscard = False\n",
    "        return keepOrDiscard, userScoreDict\n",
    "    if \"TweetsTags\" not in userIdDict[tweetID] and \"DescTag\" not in userIdDict[tweetID]:\n",
    "        userScoreDict[tweetID] = 0\n",
    "        keepOrDiscard = False\n",
    "        return keepOrDiscard, userScoreDict\n",
    "    if \"TweetsTags\" in userIdDict[tweetID] and Type==True:\n",
    "        countTech=0\n",
    "        countSci=0\n",
    "        for per_TextID, categoryList in enumerate(userIdDict[tweetID][\"TweetsTags\"]):\n",
    "            for tagID, category in enumerate(categoryList):\n",
    "                if \"antivirus and malware\" in category:\n",
    "                    score=score+1\n",
    "                    break\n",
    "                if \"technology and computing\" in category:\n",
    "                    if (countTech%5)==0:\n",
    "                        score=score+0.5\n",
    "                    countTech=countTech+1\n",
    "                    break\n",
    "                if \"computer science\" in category:\n",
    "                    if (countSci%5)==0:\n",
    "                        score=score+0.1\n",
    "                    countSci=countSci+1\n",
    "        if countTech<=2:\n",
    "            userScoreDict[tweetID] = 0\n",
    "            keepOrDiscard = False\n",
    "    if \"DescTag\" in userIdDict[tweetID] and Type==True:\n",
    "        for tagID, category in enumerate(userIdDict[tweetID][\"DescTag\"]):\n",
    "            if \"technology and computing\" in category:\n",
    "                score=score+2\n",
    "                break\n",
    "            if \"computer science\" in category:\n",
    "                score=score+0.5\n",
    "    if keepOrDiscard==True:\n",
    "        userScoreDict[tweetID] = score\n",
    "#     else:\n",
    "#         print(\"Assign 0\")\n",
    "    return keepOrDiscard, userScoreDict"
   ]
  },
  {
   "cell_type": "code",
   "execution_count": 18,
   "metadata": {},
   "outputs": [],
   "source": [
    "# categoryAnalyzer(1006326206579511296, True)\n",
    "# userIdDict[222405719]"
   ]
  },
  {
   "cell_type": "markdown",
   "metadata": {},
   "source": [
    "### Only need for main data execution"
   ]
  },
  {
   "cell_type": "code",
   "execution_count": 19,
   "metadata": {},
   "outputs": [],
   "source": [
    "# followerNode=list()\n",
    "# followingNode=list()\n",
    "# for key, item in userIdDict.items():\n",
    "#     if 'Followers' in item:\n",
    "#         for follrKey, followerVal in enumerate(item['Followers']):\n",
    "#             followerNode.append((int(key), int(followerVal), 1.00))\n",
    "#     if 'Following' in item:\n",
    "#         for follngKey, followingVal in enumerate(item['Following']):\n",
    "#             followingNode.append((int(followingVal), int(key), 1.00))"
   ]
  },
  {
   "cell_type": "markdown",
   "metadata": {},
   "source": [
    "### Only need for main data execution"
   ]
  },
  {
   "cell_type": "code",
   "execution_count": 20,
   "metadata": {},
   "outputs": [],
   "source": [
    "# followerDF = pd.DataFrame(followerNode, columns =['Src', 'Des', 'Score'])\n",
    "# followingDF= pd.DataFrame(followingNode, columns = ['Src', 'Des', 'Score'])\n",
    "# followRelnDF = pd.concat([followerDF,followingDF])\n",
    "# followerDF.to_csv(\"followerDF.csv\", sep=',', index=False, header=False)\n",
    "# followingDF.to_csv(\"followingDF.csv\", sep=',', index=False, header=False)\n",
    "# followRelnDF.to_csv(\"followRelnDF.csv\", sep=',', index=False, header=False)"
   ]
  },
  {
   "cell_type": "markdown",
   "metadata": {},
   "source": [
    "### Only need for main data execution"
   ]
  },
  {
   "cell_type": "code",
   "execution_count": 21,
   "metadata": {},
   "outputs": [],
   "source": [
    "# def graph_reader():\n",
    "#     \"\"\"\n",
    "#     Function to read the graph from the path.\n",
    "#     :param path: Path to the edge list.\n",
    "#     :return graph: NetworkX object returned.\n",
    "#     \"\"\"\n",
    "#     graph=nx.read_edgelist('followRelnDF.csv', delimiter=',', data=(('weight',float),), nodetype=int, create_using=nx.DiGraph())\n",
    "#     graph1=nx.read_edgelist('followerDF.csv', delimiter=',', data=(('weight',float),), nodetype=int, create_using=nx.DiGraph())\n",
    "#     graph2=nx.read_edgelist('followingDF.csv', delimiter=',', data=(('weight',float),), nodetype=int, create_using=nx.DiGraph())\n",
    "#     return graph, graph1, graph2"
   ]
  },
  {
   "cell_type": "markdown",
   "metadata": {},
   "source": [
    "### Only need for main data execution"
   ]
  },
  {
   "cell_type": "code",
   "execution_count": 22,
   "metadata": {},
   "outputs": [],
   "source": [
    "# nx_graph, graph1, graph2 = graph_reader()\n",
    "# nx_graph.edges()"
   ]
  },
  {
   "cell_type": "code",
   "execution_count": 23,
   "metadata": {},
   "outputs": [],
   "source": [
    "# nx_graph.nodes()\n",
    "# print(nx.info(nx_graph))\n",
    "# nx.draw(nx_graph)\n",
    "# plt.show()"
   ]
  },
  {
   "cell_type": "markdown",
   "metadata": {},
   "source": [
    "### Only For Validation ###"
   ]
  },
  {
   "cell_type": "code",
   "execution_count": 24,
   "metadata": {},
   "outputs": [],
   "source": [
    "nx_graph = val_nx_graph"
   ]
  },
  {
   "cell_type": "markdown",
   "metadata": {},
   "source": [
    "## Community Detection using Girvan-Newman Algorithm "
   ]
  },
  {
   "cell_type": "code",
   "execution_count": 25,
   "metadata": {},
   "outputs": [],
   "source": [
    "# communities_generator = community.girvan_newman(nx_graph)\n",
    "# top_level_communities = next(communities_generator)\n",
    "# next_level_communities = next(communities_generator)\n",
    "# sorted(map(sorted, next_level_communities))"
   ]
  },
  {
   "cell_type": "code",
   "execution_count": 26,
   "metadata": {},
   "outputs": [],
   "source": [
    "# testList = sorted(map(sorted, next_level_communities))\n",
    "# len(testList)"
   ]
  },
  {
   "cell_type": "code",
   "execution_count": 27,
   "metadata": {},
   "outputs": [],
   "source": [
    "# girvan_PartitionDict=dict()\n",
    "# for idx, subGrList in enumerate(testList):\n",
    "#     for ind, node in enumerate(subGrList):\n",
    "#         girvan_PartitionDict.update({node:idx})\n",
    "        \n",
    "        \n",
    "        \n",
    "        \n",
    "        \n",
    "        \n",
    "# pos = nx.spring_layout(nx_graph)\n",
    "# cmap = cm.get_cmap('viridis', max(girvan_PartitionDict.values()) + 1)\n",
    "# nx.draw_networkx_nodes(nx_graph, pos, girvan_PartitionDict.keys(), node_size=40, cmap=cmap, node_color=list(girvan_PartitionDict.values()))\n",
    "# nx.draw_networkx_edges(nx_graph, pos, alpha=0.5)\n",
    "# plt.show()"
   ]
  },
  {
   "cell_type": "markdown",
   "metadata": {},
   "source": [
    "## Community Detection on Leiden Algorithm (Networkx+igraph)"
   ]
  },
  {
   "cell_type": "code",
   "execution_count": 28,
   "metadata": {},
   "outputs": [],
   "source": [
    "nxNode_to_Index_Mapping = {node:ind for ind, node in enumerate(list(nx_graph.nodes()))}\n",
    "index_to_nxNode_Mapping = {ind:node for ind, node in enumerate(list(nx_graph.nodes()))}\n",
    "nxNodeList = list(index_to_nxNode_Mapping.keys())\n",
    "mapped_Edgelist = [(nxNode_to_Index_Mapping[nodeTouple[0]], nxNode_to_Index_Mapping[nodeTouple[1]]) for nodeTouple in nx_graph.edges()]\n",
    "ig_graph = ig.Graph(len(nx_graph), mapped_Edgelist)\n",
    "# ig_graph = ig.Graph.Adjacency((nx.to_scipy_sparse_matrix(nx_graph) > 0).tolist())\n",
    "louvain_partition = louvain.find_partition(ig_graph, louvain.ModularityVertexPartition)\n",
    "leiden_partition = leidenalg.find_partition(ig_graph, leidenalg.ModularityVertexPartition)"
   ]
  },
  {
   "cell_type": "code",
   "execution_count": 29,
   "metadata": {},
   "outputs": [],
   "source": [
    "edgeList=ig_graph.get_edgelist()\n",
    "nx_conv_graph = nx.DiGraph(edgeList)"
   ]
  },
  {
   "cell_type": "code",
   "execution_count": 30,
   "metadata": {},
   "outputs": [],
   "source": [
    "leiden_partitionDict= dict()\n",
    "for ind, nodeList in enumerate(list(leiden_partition)):\n",
    "    for node in nodeList:\n",
    "        leiden_partitionDict.update({node:ind})"
   ]
  },
  {
   "cell_type": "code",
   "execution_count": 31,
   "metadata": {},
   "outputs": [],
   "source": [
    "# pos = nx.spring_layout(nx_conv_graph)\n",
    "# cmap = cm.get_cmap('viridis', max(leiden_partitionDict.values()) + 1)\n",
    "# nx.draw_networkx_nodes(nx_conv_graph, pos, leiden_partitionDict.keys(), node_size=10, cmap=cmap, node_color=list(leiden_partitionDict.values()))\n",
    "# nx.draw_networkx_edges(nx_conv_graph, pos, alpha=0.5)\n",
    "# plt.show()"
   ]
  },
  {
   "cell_type": "code",
   "execution_count": 32,
   "metadata": {},
   "outputs": [],
   "source": [
    "# print(leiden_partition)"
   ]
  },
  {
   "cell_type": "code",
   "execution_count": 33,
   "metadata": {},
   "outputs": [],
   "source": [
    "#Undirected Grpah\n",
    "# print(louvain_partition)"
   ]
  },
  {
   "cell_type": "code",
   "execution_count": 34,
   "metadata": {},
   "outputs": [],
   "source": [
    "def community_user_membership_function():\n",
    "    communityScoreDict=dict()\n",
    "    allUserScoreDict = dict()\n",
    "    communityTextDict=dict()\n",
    "    igraph_nx_mapper = dict()\n",
    "    valid_UserNodes_in_Community = dict()\n",
    "    userNode_Community_map = dict()\n",
    "    for commID, community in enumerate(leiden_partition):\n",
    "#         nxNodeList = list(nx_graph.nodes())\n",
    "        communityTotalScore=0\n",
    "        communityText = \"\"\n",
    "        CTI_userList=list()\n",
    "        for index, memberNode in enumerate(community):\n",
    "            igraph_nx_mapper.update({memberNode:index_to_nxNode_Mapping[nxNodeList[memberNode]]})\n",
    "            \n",
    "            status, id_with_Score = categoryAnalyzer(index_to_nxNode_Mapping[nxNodeList[memberNode]], True)\n",
    "            \n",
    "#             status, id_with_Score = categoryAnalyzer(nxNodeList[memberNode], True)\n",
    "            \n",
    "            communityTotalScore = communityTotalScore + list(id_with_Score.values())[0]\n",
    "            allUserScoreDict.update(id_with_Score)\n",
    "            if status == True:\n",
    "                if userIdDict[index_to_nxNode_Mapping[nxNodeList[memberNode]]]['Tweets'] and userIdDict[index_to_nxNode_Mapping[nxNodeList[memberNode]]]['Tweets'] != None:\n",
    "                    Tweets=' '.join(userIdDict[index_to_nxNode_Mapping[nxNodeList[memberNode]]]['Tweets'])\n",
    "                    communityText = communityText + \" \" + Tweets\n",
    "                    CTI_userList.append(index_to_nxNode_Mapping[nxNodeList[memberNode]])\n",
    "                    userNode_Community_map.update({index_to_nxNode_Mapping[nxNodeList[memberNode]]:commID})\n",
    "        communityScoreDict[commID] = communityTotalScore/(len(community))\n",
    "        valid_UserNodes_in_Community[commID] = CTI_userList\n",
    "    #     print(\"communityScoreDict-> \", communityScoreDict[commID], communityText)\n",
    "        if communityText or communityText != \"\":\n",
    "            communityTextDict.update({commID:communityText})\n",
    "    return communityScoreDict, allUserScoreDict, communityTextDict, igraph_nx_mapper, valid_UserNodes_in_Community, userNode_Community_map"
   ]
  },
  {
   "cell_type": "code",
   "execution_count": 35,
   "metadata": {},
   "outputs": [],
   "source": [
    "# communityTextDict"
   ]
  },
  {
   "cell_type": "code",
   "execution_count": 36,
   "metadata": {},
   "outputs": [],
   "source": [
    "\n",
    "# igraph_nx_mapper"
   ]
  },
  {
   "cell_type": "code",
   "execution_count": 37,
   "metadata": {},
   "outputs": [],
   "source": [
    "def seedInput(seedList):\n",
    "    seedNode_CleanedTextList =  list()\n",
    "    for idx, nodeID in enumerate(seedList):\n",
    "        userObject = userIdDict[seedList[idx]]\n",
    "        if 'AllText' in userObject and userObject['AllText'] != None and len(userObject['AllText'])>= 0:\n",
    "            seedNode_CleanedTextList.append(userObject['AllText'])\n",
    "    return seedNode_CleanedTextList"
   ]
  },
  {
   "cell_type": "code",
   "execution_count": 38,
   "metadata": {},
   "outputs": [],
   "source": [
    "#seed node input\n",
    "def text_tfIdf_Vectorization(commOrUser_TextDict_or_TextList, seed_TextList):\n",
    "    if isinstance(commOrUser_TextDict_or_TextList, dict):\n",
    "        sparse_tfIdfVector = apply_TFIDF(list(commOrUser_TextDict_or_TextList.values()) + seed_TextList)\n",
    "    if isinstance(commOrUser_TextDict_or_TextList, list):\n",
    "        sparse_tfIdfVector = apply_TFIDF(commOrUser_TextDict_or_TextList + seed_TextList)\n",
    "    return sparse_tfIdfVector"
   ]
  },
  {
   "cell_type": "code",
   "execution_count": 104,
   "metadata": {},
   "outputs": [],
   "source": [
    "def similarty_Calculation_and_MaxSimilar_Community_or_Node_retrieval(seed_sparse_tfIdfVector, index_to_entity_Mapper, seedList, val):\n",
    "    if val == True:\n",
    "        selection = 100\n",
    "    else:\n",
    "        selection = 4\n",
    "    seed_sparse_tfIdfVector = seed_sparse_tfIdfVector.toarray()\n",
    "    similarityMatrix = cosine_similarity(seed_sparse_tfIdfVector[-len(seedList):],seed_sparse_tfIdfVector[0:(seed_sparse_tfIdfVector.shape[0]-len(seedList))])\n",
    "    MaxSimilartyList = [list(similarityMatrix[i].argsort()[-selection:][::-1]) for i in range(similarityMatrix.shape[0])]\n",
    "    print(MaxSimilartyList)\n",
    "    entitySimScore = np.array([np.take(similarityMatrix[i], indices, axis=0) for i, indices in enumerate(MaxSimilartyList)])\n",
    "    entityID = set([index_to_entity_Mapper[y] for x in MaxSimilartyList for y in x])\n",
    "    return similarityMatrix, MaxSimilartyList, entityID, entitySimScore"
   ]
  },
  {
   "cell_type": "markdown",
   "metadata": {},
   "source": [
    "##### Second baseline Code Starts here"
   ]
  },
  {
   "cell_type": "code",
   "execution_count": 105,
   "metadata": {},
   "outputs": [],
   "source": [
    "# def friend_of_friend_generator(FoF_baseline):\n",
    "#     FoF_baseline = list(FoF_baseline)\n",
    "#     feed_List_Set = FoF_baseline.copy()\n",
    "#     print(feed_List_Set)\n",
    "#     for feedNode in feed_List_Set:\n",
    "#         if feedNode in userIdDict:\n",
    "#             if 'Followers' in userIdDict[feedNode]:\n",
    "#                 FoF_baseline.extend(set(userIdDict[feedNode]['Followers']))\n",
    "#     return FoF_baseline\n",
    "def friend_of_friend_generator(feed_List_Set):\n",
    "    feed_List_Set = list(feed_List_Set)\n",
    "    FoF_baseline = list()\n",
    "    print(feed_List_Set)\n",
    "    for feedNode in feed_List_Set:\n",
    "        if feedNode in userIdDict:\n",
    "            if 'Followers' in userIdDict[feedNode]:\n",
    "                FoF_baseline.extend(set(userIdDict[feedNode]['Followers']))\n",
    "    return FoF_baseline"
   ]
  },
  {
   "cell_type": "code",
   "execution_count": 106,
   "metadata": {},
   "outputs": [
    {
     "name": "stdout",
     "output_type": "stream",
     "text": [
      "[103679380, 138442326, 35686150, 2749503532, 97721735, 398400323, 459375780]\n",
      "[764654979831308288, 1222375896658608128, 871982259708022784, 1043484575329144834, 738585307952484352, 14383360, 894721498933583872, 1112062964260110336, 329995400, 1077232593307881472, 1286906525475373058, 1107586534516187142, 15190920, 2229801743, 2768354576, 346248085, 242354329, 977112482, 44978495, 558033985, 98763714, 239238596, 3282774342, 19216713, 92766283, 44626510, 18647774, 1261803361, 2891554785, 249802981, 3358636906, 2564083316, 18473212]\n",
      "162\n"
     ]
    }
   ],
   "source": [
    "def fof_driver(FoF_baseline)\n",
    "    # rangeValue = int(input(\"Number of Iteration\"))\n",
    "    rangeValue = 2\n",
    "    for i in range(rangeValue):\n",
    "        FoF_baseline = friend_of_friend_generator(FoF_baseline)\n",
    "        FoF_baseline = {fol_1 for fol_1 in FoF_baseline if fol_1 in set(validation_DF['id'])}\n",
    "    print(len(FoF_baseline))\n",
    "    return FoF_baseline"
   ]
  },
  {
   "cell_type": "markdown",
   "metadata": {},
   "source": [
    "##### Second baseline Code Ends"
   ]
  },
  {
   "cell_type": "markdown",
   "metadata": {},
   "source": [
    "#### Third baseline Code Starts here"
   ]
  },
  {
   "cell_type": "code",
   "execution_count": 107,
   "metadata": {},
   "outputs": [
    {
     "name": "stdout",
     "output_type": "stream",
     "text": [
      " +  (903, 61061)  + \n"
     ]
    }
   ],
   "source": [
    "def third_baseline_function(seedNode_CleanedTextList, FoF_baseline):    \n",
    "    id_AllText_mapper = {tID: tVal['AllText'] for tID, tVal in userIdDict.items() if 'AllText' in tVal}\n",
    "    thirdBase_userID_to_Index_Mapper = {node: i for i, node in enumerate(list(id_AllText_mapper.keys()))}\n",
    "    index_to_thirdBase_userID_Mapper = {i: node for i, node in enumerate(list(thirdBase_userID_to_Index_Mapper.keys()))}\n",
    "    CplusL_tfIdfVector = text_tfIdf_Vectorization(id_AllText_mapper, seedNode_CleanedTextList)\n",
    "    val_similarityMatrix, val_MaxSimilartyList, val_userID, val_userSimScore = similarty_Calculation_and_MaxSimilar_Community_or_Node_retrieval(CplusL_tfIdfVector, index_to_thirdBase_userID_Mapper, seedList, True)\n",
    "    CplusL_baseline = set(FoF_baseline).intersection(set(val_userID))\n",
    "    return CplusL_baseline"
   ]
  },
  {
   "cell_type": "code",
   "execution_count": 108,
   "metadata": {},
   "outputs": [
    {
     "name": "stdout",
     "output_type": "stream",
     "text": [
      "[[635, 220, 622, 802, 335, 633, 200, 383, 583, 504, 638, 50, 567, 275, 529, 388, 413, 620, 872, 389, 623, 151, 77, 143, 687, 536, 701, 236, 510, 854, 394, 376, 519, 790, 116, 293, 341, 385, 751, 696, 803, 730, 748, 806, 506, 311, 678, 574, 395, 386, 347, 251, 42, 472, 608, 542, 850, 681, 59, 408, 323, 260, 16, 132, 855, 690, 657, 339, 39, 616, 723, 799, 877, 62, 442, 387, 306, 99, 837, 357, 848, 759, 669, 221, 839, 497, 479, 767, 713, 746, 480, 535, 216, 23, 874, 664, 490, 98, 336, 738], [723, 802, 501, 567, 687, 220, 803, 413, 383, 376, 529, 806, 504, 490, 153, 389, 506, 713, 790, 633, 293, 336, 622, 746, 260, 635, 527, 249, 546, 388, 42, 679, 738, 853, 361, 417, 839, 730, 311, 577, 72, 2, 613, 442, 634, 221, 306, 396, 850, 630, 348, 271, 381, 310, 468, 239, 536, 98, 578, 523, 110, 889, 52, 860, 281, 472, 263, 385, 742, 525, 596, 623, 473, 300, 662, 77, 858, 784, 12, 132, 816, 570, 69, 463, 428, 697, 769, 411, 511, 684, 115, 39, 608, 766, 206, 75, 225, 600, 891, 555], [799, 649, 339, 132, 587, 745, 362, 305, 622, 59, 704, 244, 204, 381, 709, 347, 564, 255, 880, 635, 311, 672, 79, 539, 2, 573, 542, 245, 62, 474, 657, 617, 680, 623, 382, 667, 518, 832, 697, 874, 335, 472, 417, 223, 39, 190, 742, 504, 528, 200, 464, 581, 855, 12, 457, 517, 317, 836, 444, 748, 883, 650, 730, 385, 405, 58, 845, 732, 565, 427, 448, 686, 690, 193, 514, 226, 386, 848, 100, 535, 348, 467, 175, 258, 837, 302, 700, 124, 312, 850, 425, 830, 369, 7, 140, 854, 819, 733, 199, 621], [33, 204, 285, 573, 775, 836, 679, 845, 52, 178, 307, 650, 813, 619, 65, 40, 735, 788, 593, 58, 244, 477, 41, 94, 100, 481, 172, 596, 44, 830, 382, 563, 773, 579, 542, 348, 283, 190, 601, 102, 457, 242, 587, 34, 317, 732, 778, 187, 536, 234, 680, 805, 671, 672, 129, 209, 226, 517, 535, 653, 622, 597, 427, 420, 463, 216, 550, 136, 85, 571, 808, 176, 62, 161, 199, 592, 112, 666, 363, 25, 540, 218, 807, 431, 467, 826, 302, 704, 211, 357, 461, 222, 616, 725, 417, 511, 163, 304, 207, 82], [623, 116, 622, 408, 633, 335, 657, 170, 42, 472, 635, 220, 802, 77, 2, 383, 818, 388, 850, 215, 209, 296, 643, 311, 389, 413, 59, 385, 638, 790, 386, 748, 497, 504, 529, 806, 442, 712, 750, 387, 746, 855, 357, 306, 813, 457, 839, 854, 479, 536, 229, 62, 369, 219, 860, 396, 542, 540, 874, 661, 281, 794, 175, 29, 382, 28, 613, 799, 709, 687, 244, 143, 272, 336, 444, 588, 473, 745, 639, 550, 664, 12, 7, 216, 558, 769, 20, 506, 255, 275, 74, 44, 312, 535, 825, 203, 23, 198, 104, 753], [357, 643, 39, 767, 558, 333, 709, 74, 712, 831, 7, 622, 542, 444, 335, 581, 339, 116, 805, 467, 26, 573, 198, 845, 623, 385, 258, 853, 408, 619, 429, 100, 264, 686, 517, 854, 20, 635, 536, 77, 204, 502, 272, 653, 879, 190, 199, 99, 794, 535, 563, 732, 386, 759, 528, 638, 451, 680, 58, 215, 613, 62, 606, 112, 336, 540, 193, 700, 758, 588, 403, 477, 255, 220, 649, 117, 702, 283, 223, 121, 887, 704, 745, 369, 311, 129, 504, 46, 855, 641, 532, 480, 432, 748, 319, 666, 788, 449, 587, 892], [529, 713, 802, 413, 220, 504, 383, 687, 567, 806, 803, 389, 633, 98, 723, 376, 293, 506, 635, 746, 622, 634, 42, 790, 490, 21, 311, 525, 221, 501, 850, 839, 730, 77, 388, 336, 853, 536, 613, 184, 623, 442, 306, 361, 335, 778, 159, 595, 679, 245, 472, 791, 417, 249, 874, 352, 608, 745, 243, 281, 854, 855, 742, 216, 630, 214, 406, 100, 542, 574, 419, 818, 116, 709, 300, 292, 69, 20, 428, 118, 883, 664, 701, 463, 287, 382, 759, 99, 480, 620, 514, 770, 310, 59, 198, 105, 751, 385, 151, 269]]\n"
     ]
    }
   ],
   "source": []
  },
  {
   "cell_type": "markdown",
   "metadata": {},
   "source": [
    "#### Third baseline Code Ends here"
   ]
  },
  {
   "cell_type": "code",
   "execution_count": 109,
   "metadata": {},
   "outputs": [
    {
     "name": "stdout",
     "output_type": "stream",
     "text": [
      " +  (120, 51117)  + \n",
      "[[6, 69, 112, 101], [23, 6, 45, 112], [2, 5, 6, 88], [11, 88, 33, 103], [41, 46, 101, 6], [31, 1, 11, 2], [45, 6, 23, 112]]\n"
     ]
    }
   ],
   "source": []
  },
  {
   "cell_type": "code",
   "execution_count": 110,
   "metadata": {},
   "outputs": [
    {
     "name": "stdout",
     "output_type": "stream",
     "text": [
      "[[6, 69, 112, 101], [23, 6, 45, 112], [2, 5, 6, 88], [11, 88, 33, 103], [41, 46, 101, 6], [31, 1, 11, 2], [45, 6, 23, 112]] [[0.27140946 0.12099499 0.1191278  0.11645474]\n",
      " [0.1415387  0.09327536 0.06415589 0.06198915]\n",
      " [0.1770637  0.0820396  0.07707074 0.07608562]\n",
      " [0.17383093 0.03685905 0.03554365 0.03513776]\n",
      " [0.37471797 0.16064312 0.12435397 0.11127848]\n",
      " [0.27542919 0.11804633 0.09277255 0.08972632]\n",
      " [0.37585944 0.14308851 0.11924738 0.11649602]]\n"
     ]
    }
   ],
   "source": [
    "def community_total_score_calculation(communityTextDict, seedNode_CleanedTextList, communityScoreDict, index_to_Community_Mapper, seedList):    \n",
    "    community_seed_sparse_tfIdfVector = text_tfIdf_Vectorization(communityTextDict, seedNode_CleanedTextList)\n",
    "    similarityMatrix, MaxSimilartyList, communityID, communitySimScore = similarty_Calculation_and_MaxSimilar_Community_or_Node_retrieval(community_seed_sparse_tfIdfVector, index_to_Community_Mapper, seedList, False)\n",
    "    alpha = 1\n",
    "    # method = str(input(\"Seperate or All\"))\n",
    "    method = \"Sep\"\n",
    "    if method ==\"Sep\":\n",
    "        print(MaxSimilartyList,communitySimScore)\n",
    "        communityWeight = np.array([np.array([communityScoreDict[index_to_Community_Mapper[y]] for y in x]) for x in MaxSimilartyList])\n",
    "        value = np.add(communitySimScore*alpha, communityWeight)\n",
    "    #     print(value, communityWeight)\n",
    "    if method == \"All\":\n",
    "        #     MaxSimilartyArray = set(itertools.chain.from_iterable(MaxSimilartyList))\n",
    "        communitySimScoreFlat = communitySimScore.flatten('C')\n",
    "        print(MaxSimilartyList,communitySimScore, communitySimScoreFlat)\n",
    "        communityWeightFlat = np.array([communityScoreDict[index_to_Community_Mapper[y]] for x in MaxSimilartyList for y in x])\n",
    "        value = np.add(communitySimScoreFlat, communityWeightFlat)\n",
    "    #     print(value, communityWeight)"
   ]
  },
  {
   "cell_type": "code",
   "execution_count": 111,
   "metadata": {},
   "outputs": [
    {
     "name": "stdout",
     "output_type": "stream",
     "text": [
      " +  (12, 2591)  + \n",
      " +  (25, 4173)  + \n",
      " +  (27, 4773)  + \n",
      " +  (13, 2870)  + \n",
      " +  (11, 2468)  + \n",
      " +  (23, 3946)  + \n",
      " +  (23, 3860)  + \n",
      " +  (12, 2436)  + \n",
      " +  (12, 2406)  + \n",
      " +  (19, 2970)  + \n",
      " +  (14, 2778)  + \n",
      " +  (12, 2664)  + \n",
      " +  (11, 2446)  + \n",
      " +  (12, 2347)  + \n",
      " +  (14, 2705)  + \n",
      " +  (13, 2436)  + \n",
      "{33: {1285155284906921984: 3.099988813634901, 1274636448520642561: 0.6155455113115971, 2667857126: 2.5813255088063154}, 2: {1079987859380039681: 8.110911466845703, 1040404000284336129: 3.195125326763481, 1171617863506915328: 2.6004095069571544, 35686150: 2.999999999999999, 2730681163: 3.5995910900619807, 272760181: 2.047243767421333, 824083455780802561: 3.0366111400651383, 3818980053: 1.0991598876639594, 33097269: 3.6075161318048785, 627477287: 3.085655763815999}, 1: {335742257: 1.1267226340420644, 1192262627000377344: 3.1133730793767707, 154829382: 4.082604780490763, 1283265944001941510: 3.583863588111659, 2564083316: 3.064141637205538, 790112676827410433: 1.056644284166286, 956177218140504065: 4.08313668710824, 1247779634717941764: 2.2168188123140014}, 101: {1222375896658608128: 4.860761208505997, 1123693843478712322: 2.60000632446381, 301294951: 6.193731466346149, 18552230: 1.1044973049130118}, 69: {1061474405270712320: 3.6777030648468094, 250870123: 6.60028691404655, 2906366482: 1.579636394909206}, 6: {103679380: 5.1, 1187720616922767361: 4.689003050960691, 1183162621782056962: 5.108217747700003, 1104120830068486144: 1.1041032073792407, 1252630205988048896: 2.1836465833109715, 537333195: 3.604560416256609}, 5: {3308362765: 3.0922479460166485, 357947703: 4.57954166170339, 98763714: 4.583503920618754, 1157003820691533826: 5.1071719593063625, 15757132: 3.077735189279399, 7381532: 3.5964869491612492, 856759714868117504: 3.093964414724774}, 103: {50860169: 4.066243061529744, 835035547: 5.16604751905161, 58631128: 5.568882635604012, 86424236: 2.157580581361078, 893452694421217280: 1.5388594202600432}, 41: {97721735: 3.5000000000000004, 14383360: 4.6701640495928824, 255840162: 4.566684353938998, 14386590: 3.595651781299469}, 11: {29292439: 9.103976392639446, 1199111577833820160: 5.57093329216097, 2401933806: 1.1157107111789826, 1293949202314084352: 1.6026753748776055, 2749503532: 4.0, 1265501676783448064: 1.5880075385992172}, 45: {459375780: 6.0, 15190920: 5.612303749711345, 1083401132926488576: 3.2313817427783684, 996411130657492992: 3.031474228044429}, 46: {1292116872: 6.661969406392492, 764654979831308288: 5.282532339278055, 592778695: 3.50978505588327, 710298623486074880: 4.065028407178353}, 112: {1059719143484735488: 7.758553368313194, 719312424: 4.098972123554516, 70283639: 2.5830125020025476, 11878802: 0.5708699170132323}, 23: {1130446148341252096: 3.692328621131564, 1079900581144207361: 3.1788605282801434, 1622051: 1.580433450094277, 1182206912315703296: 3.061362536364502, 810854024769576960: 8.66227601087342}, 88: {720372631892029440: 3.5947265784565805, 14707266: 3.6152803360459522, 23089614: 5.611065844876212, 439500090: 3.113799602819914, 299689939: 1.0649229027471605, 700451918154305536: 1.5408602729108662}, 31: {398400323: 2.9999999999999996, 3870174875: 1.0460141026660417, 38752792: 5.080231866920271, 2891554785: 1.076397051397897}}\n"
     ]
    }
   ],
   "source": [
    "def user_Search_in_Community(valid_UserNodes, seed_TextList):\n",
    "    user_Score_in_CommunityDict = dict()\n",
    "    for commKey in communityID:\n",
    "        usrID_score_dict = dict()\n",
    "        if commKey in valid_UserNodes:\n",
    "            community_Member_TextList = [userIdDict[userID]['AllText'] for userID in valid_UserNodes[commKey]]\n",
    "            userNode_seed_sparse_tfIdfVector = text_tfIdf_Vectorization(community_Member_TextList, seed_TextList)\n",
    "            userNode_seed_sparse_tfIdfVector = userNode_seed_sparse_tfIdfVector.toarray()\n",
    "#             print(\"userNode_seed_sparse_tfIdfVector-> \", userNode_seed_sparse_tfIdfVector.shape)\n",
    "            user_Seed_SimilarityMatrix = cosine_similarity(userNode_seed_sparse_tfIdfVector[-len(seedList):],userNode_seed_sparse_tfIdfVector[0:(userNode_seed_sparse_tfIdfVector.shape[0]-len(seedList))])\n",
    "#             print(\"#########\", user_Seed_SimilarityMatrix)\n",
    "            if user_Seed_SimilarityMatrix.shape[1] <= 1:\n",
    "                user_Seed_MaxSimilartyArr = np.array([np.zeros(len(user_Seed_SimilarityMatrix.flatten()))])\n",
    "                userNode_SimScore = np.array(user_Seed_SimilarityMatrix).flatten()\n",
    "            else:\n",
    "                user_Seed_MaxSimilartyArr = np.array([user_Seed_SimilarityMatrix[i].argsort()[-2:][::-1] for i in range(user_Seed_SimilarityMatrix.shape[0])])\n",
    "                ### Problem\n",
    "                userNode_SimScore = np.array([np.take(user_Seed_SimilarityMatrix[i], list(user_Seed_MaxSimilartyArr[i,:]), axis=0) for i in range(user_Seed_MaxSimilartyArr.shape[0])])\n",
    "            user_Seed_MaxSimilartyArrFlat = user_Seed_MaxSimilartyArr.flatten('C')\n",
    "            userNode_SimScoreFlat = userNode_SimScore.flatten('C')\n",
    "            userNodeID = [valid_UserNodes[commKey][int(x)] for x in np.nditer(user_Seed_MaxSimilartyArrFlat)]\n",
    "            userNode_Weight = np.array([allUserScoreDict[y] for y in userNodeID])\n",
    "            userNode_Score_Array = np.add(userNode_SimScoreFlat*alpha, userNode_Weight)\n",
    "#             print(\"user_Seed_MaxSimilartyArr-> \", user_Seed_MaxSimilartyArr,\" userNode_SimScoreFlat-> \",userNode_SimScoreFlat,\" userNode_Weight-> \", userNode_Weight)\n",
    "            for idx, nodeID in enumerate(userNodeID):\n",
    "                if nodeID in usrID_score_dict:\n",
    "                    if usrID_score_dict[nodeID]> userNode_Score_Array[idx]:\n",
    "                        continue\n",
    "                    else:\n",
    "                        usrID_score_dict[nodeID] = userNode_Score_Array[idx]\n",
    "                else:\n",
    "                    usrID_score_dict[nodeID] = userNode_Score_Array[idx]\n",
    "            user_Score_in_CommunityDict[commKey] = usrID_score_dict\n",
    "    return user_Score_in_CommunityDict"
   ]
  },
  {
   "cell_type": "code",
   "execution_count": 112,
   "metadata": {},
   "outputs": [],
   "source": [
    "def sort_recommended_userNodes(recommended_UserIDwith_Score)\n",
    "    userID_Score_tempList=list()\n",
    "    for community_ID_Score_val_dict in recommended_UserIDwith_Score.values():\n",
    "        for key, val in community_ID_Score_val_dict.items():\n",
    "            userID_Score_tempList.append({key:val})\n",
    "    recommended_UserIDwith_Score = sorted(userID_Score_tempList, key = lambda i: list(i.values()), reverse=True)[:20]\n",
    "    print(len(recommended_UserIDwith_Score),recommended_UserIDwith_Score)\n",
    "    return recommended_UserIDwith_Score"
   ]
  },
  {
   "cell_type": "code",
   "execution_count": 113,
   "metadata": {},
   "outputs": [
    {
     "name": "stdout",
     "output_type": "stream",
     "text": [
      "20 [{29292439: 9.103976392639446}, {810854024769576960: 8.66227601087342}, {1079987859380039681: 8.110911466845703}, {1059719143484735488: 7.758553368313194}, {1292116872: 6.661969406392492}, {250870123: 6.60028691404655}, {301294951: 6.193731466346149}, {459375780: 6.0}, {15190920: 5.612303749711345}, {23089614: 5.611065844876212}, {1199111577833820160: 5.57093329216097}, {58631128: 5.568882635604012}, {764654979831308288: 5.282532339278055}, {835035547: 5.16604751905161}, {1183162621782056962: 5.108217747700003}, {1157003820691533826: 5.1071719593063625}, {103679380: 5.1}, {38752792: 5.080231866920271}, {1222375896658608128: 4.860761208505997}, {1187720616922767361: 4.689003050960691}]\n"
     ]
    }
   ],
   "source": []
  },
  {
   "cell_type": "code",
   "execution_count": 114,
   "metadata": {},
   "outputs": [],
   "source": [
    "# The following two lines Can be added\n",
    "def add_adaptive_weight_for_highRank_node_community(recommended_UserIDwith_Score):\n",
    "    highRank_Comm_User_map_list = [{(userNode_Community_map[list(id_value_map.keys())[0]]):(list(id_value_map.keys())[0])} for id_value_map in recommended_UserIDwith_Score]\n",
    "    community_flag = set()\n",
    "    for commID_usr_map in highRank_Comm_User_map_list:\n",
    "        if list(commID_usr_map.keys())[0] in community_flag:\n",
    "            continue\n",
    "        else:\n",
    "            community_flag.add(list(commID_usr_map.keys())[0])\n",
    "\n",
    "            for usrID in valid_UserNodes_in_Community[list(commID_usr_map.keys())[0]]:\n",
    "                if usrID == list(commID_usr_map.values())[0]:\n",
    "                    continue\n",
    "                if usrID in recommended_UserIDwith_Score and usrID != list(commID_usr_map.values())[0]:\n",
    "                    recommended_UserIDwith_Score[usrID] = recommended_UserIDwith_Score[usrID] + recommended_UserIDwith_Score[list(commID_usr_map.values())[0]]*0.2\n",
    "    return recommended_UserIDwith_Score"
   ]
  },
  {
   "cell_type": "code",
   "execution_count": 115,
   "metadata": {},
   "outputs": [
    {
     "data": {
      "text/plain": [
       "[{29292439: 9.103976392639446},\n",
       " {810854024769576960: 8.66227601087342},\n",
       " {1079987859380039681: 8.110911466845703},\n",
       " {1059719143484735488: 7.758553368313194},\n",
       " {1292116872: 6.661969406392492},\n",
       " {250870123: 6.60028691404655},\n",
       " {301294951: 6.193731466346149},\n",
       " {459375780: 6.0},\n",
       " {15190920: 5.612303749711345},\n",
       " {23089614: 5.611065844876212},\n",
       " {1199111577833820160: 5.57093329216097},\n",
       " {58631128: 5.568882635604012},\n",
       " {764654979831308288: 5.282532339278055},\n",
       " {835035547: 5.16604751905161},\n",
       " {1183162621782056962: 5.108217747700003},\n",
       " {1157003820691533826: 5.1071719593063625},\n",
       " {103679380: 5.1},\n",
       " {38752792: 5.080231866920271},\n",
       " {1222375896658608128: 4.860761208505997},\n",
       " {1187720616922767361: 4.689003050960691}]"
      ]
     },
     "execution_count": 115,
     "metadata": {},
     "output_type": "execute_result"
    }
   ],
   "source": [
    "recommended_UserIDwith_Score"
   ]
  },
  {
   "cell_type": "markdown",
   "metadata": {},
   "source": [
    "# Model Validation Part #"
   ]
  },
  {
   "cell_type": "code",
   "execution_count": 116,
   "metadata": {},
   "outputs": [],
   "source": [
    "def model_performance_exhibition(recommended_UserIDwith_Score, withScore):\n",
    "    resultList = list()\n",
    "    if withScore:\n",
    "        userID = [list(id_score.keys())[0] for id_score in recommended_UserIDwith_Score]\n",
    "    if not withScore:\n",
    "        userID = recommended_UserIDwith_Score\n",
    "    for valID in userID:\n",
    "        resultList.append(validation_DF.iloc[validation_DF[validation_DF['id'] == valID].index.tolist()[0]]['Annotation'])\n",
    "#         print(validation_DF.iloc[validation_DF[validation_DF['id'] == valID].index.tolist()[0]]['Annotation'])\n",
    "    return resultList"
   ]
  },
  {
   "cell_type": "code",
   "execution_count": 117,
   "metadata": {},
   "outputs": [],
   "source": [
    "def adaptive_precision(resultList):\n",
    "    countDict = Counter(resultList) \n",
    "    precision = countDict['relevant']/len(resultList)\n",
    "    return precision"
   ]
  },
  {
   "cell_type": "code",
   "execution_count": 118,
   "metadata": {},
   "outputs": [],
   "source": [
    "def adaptive_recall(validList):\n",
    "    recall = len(set(seedList).intersection(set(validList)))/len(set(seedList))\n",
    "    return recall"
   ]
  },
  {
   "cell_type": "code",
   "execution_count": 119,
   "metadata": {},
   "outputs": [],
   "source": [
    "def adaptive_F1score(precision, recall):\n",
    "    f1_Score = 2*((precision*recall)/(precision + recall))\n",
    "    return f1_Score"
   ]
  },
  {
   "cell_type": "code",
   "execution_count": 120,
   "metadata": {},
   "outputs": [],
   "source": [
    "def model_comparison_result(threshold):\n",
    "    ### Proposed Model\n",
    "    prposed_resultList = model_performance_exhibition(recommended_UserIDwith_Score[0:math.ceil(len(recommended_UserIDwith_Score)*threshold)], True) ## Proposed model\n",
    "    proposed_precision = adaptive_precision(prposed_resultList)\n",
    "    proposed_recall = adaptive_recall([list(id_score.keys())[0] for id_score in recommended_UserIDwith_Score])\n",
    "    proposed_f1_Score = adaptive_F1score(proposed_precision, proposed_recall)\n",
    "    print(\"Proposed-> \", \"f1_Score-> \", adaptive_F1score(proposed_precision, proposed_recall), \"precision-> \", proposed_precision, \"recall-> \", proposed_recall)\n",
    "    \n",
    "    ### First Baseline\n",
    "    first_baseline_resultList = model_performance_exhibition(MPopular_baseLine[0:math.ceil(len(MPopular_baseLine)*threshold)], True)\n",
    "    first_baseline_precision = adaptive_precision(first_baseline_resultList)\n",
    "    first_baseline_recall = adaptive_recall([list(id_score.keys())[0] for id_score in MPopular_baseLine])\n",
    "    first_baseline_f1_Score = adaptive_F1score(first_baseline_precision, first_baseline_recall)\n",
    "    print(\"first_baseline-> \", \"f1_Score-> \", adaptive_F1score(first_baseline_precision, first_baseline_recall), \"precision-> \", first_baseline_precision, \"recall-> \", first_baseline_recall)\n",
    "    \n",
    "    ### Second Baseline\n",
    "    second_baseline_resultList = model_performance_exhibition(list(FoF_baseline)[0:math.ceil(len(FoF_baseline)*threshold)], False)\n",
    "    second_baseline_precision = adaptive_precision(second_baseline_resultList)\n",
    "    second_baseline_recall = adaptive_recall(FoF_baseline)\n",
    "    second_baseline_f1_Score = adaptive_F1score(second_baseline_precision, second_baseline_recall)\n",
    "    print(\"second_baseline-> \", \"f1_Score-> \", adaptive_F1score(second_baseline_precision, second_baseline_recall), \"precision-> \", second_baseline_precision, \"recall-> \", second_baseline_recall)\n",
    "    \n",
    "    ### Third Baseline\n",
    "    third_baseline_resultList = model_performance_exhibition(list(CplusL_baseline)[0:math.ceil(len(CplusL_baseline)*threshold)], False)\n",
    "    third_baseline_precision = adaptive_precision(third_baseline_resultList)\n",
    "    third_baseline_recall = adaptive_recall(CplusL_baseline)\n",
    "    third_baseline_f1_Score = adaptive_F1score(third_baseline_precision, third_baseline_recall)\n",
    "    print(\"third_baseline-> \", \"f1_Score-> \", adaptive_F1score(third_baseline_precision, third_baseline_recall), \"precision-> \", third_baseline_precision, \"recall-> \", third_baseline_recall)\n",
    "    \n",
    "    return proposed_precision, proposed_recall, proposed_f1_Score, first_baseline_precision, first_baseline_recall, first_baseline_f1_Score, second_baseline_precision, second_baseline_recall, second_baseline_f1_Score, third_baseline_precision, third_baseline_recall, third_baseline_f1_Score"
   ]
  },
  {
   "cell_type": "code",
   "execution_count": 121,
   "metadata": {},
   "outputs": [
    {
     "name": "stdout",
     "output_type": "stream",
     "text": [
      "Proposed->  f1_Score->  0.4444444444444445 precision->  1.0 recall->  0.2857142857142857\n",
      "first_baseline->  f1_Score->  0.0 precision->  0.6 recall->  0.0\n",
      "second_baseline->  f1_Score->  0.4166666666666667 precision->  0.29411764705882354 recall->  0.7142857142857143\n",
      "third_baseline->  f1_Score->  0.5128205128205129 precision->  0.4 recall->  0.7142857142857143\n",
      "Proposed->  f1_Score->  0.4137931034482759 precision->  0.75 recall->  0.2857142857142857\n",
      "first_baseline->  f1_Score->  0.0 precision->  0.3 recall->  0.0\n",
      "second_baseline->  f1_Score->  0.42553191489361697 precision->  0.30303030303030304 recall->  0.7142857142857143\n",
      "third_baseline->  f1_Score->  0.5521472392638037 precision->  0.45 recall->  0.7142857142857143\n",
      "Proposed->  f1_Score->  0.42553191489361697 precision->  0.8333333333333334 recall->  0.2857142857142857\n",
      "first_baseline->  f1_Score->  0.0 precision->  0.26666666666666666 recall->  0.0\n",
      "second_baseline->  f1_Score->  0.46703296703296704 precision->  0.3469387755102041 recall->  0.7142857142857143\n",
      "third_baseline->  f1_Score->  0.5394190871369295 precision->  0.43333333333333335 recall->  0.7142857142857143\n",
      "Proposed->  f1_Score->  0.4307692307692308 precision->  0.875 recall->  0.2857142857142857\n",
      "first_baseline->  f1_Score->  0.0 precision->  0.2 recall->  0.0\n",
      "second_baseline->  f1_Score->  0.4301075268817205 precision->  0.3076923076923077 recall->  0.7142857142857143\n",
      "third_baseline->  f1_Score->  0.5329153605015674 precision->  0.425 recall->  0.7142857142857143\n",
      "Proposed->  f1_Score->  0.4210526315789473 precision->  0.8 recall->  0.2857142857142857\n",
      "first_baseline->  f1_Score->  0.0 precision->  0.16 recall->  0.0\n",
      "second_baseline->  f1_Score->  0.4063604240282685 precision->  0.2839506172839506 recall->  0.7142857142857143\n",
      "third_baseline->  f1_Score->  0.5128205128205129 precision->  0.4 recall->  0.7142857142857143\n",
      "Proposed->  f1_Score->  0.4137931034482759 precision->  0.75 recall->  0.2857142857142857\n",
      "first_baseline->  f1_Score->  0.0 precision->  0.16666666666666666 recall->  0.0\n",
      "second_baseline->  f1_Score->  0.42857142857142855 precision->  0.30612244897959184 recall->  0.7142857142857143\n",
      "third_baseline->  f1_Score->  0.5263157894736842 precision->  0.4166666666666667 recall->  0.7142857142857143\n",
      "Proposed->  f1_Score->  0.3956043956043956 precision->  0.6428571428571429 recall->  0.2857142857142857\n",
      "first_baseline->  f1_Score->  0.0 precision->  0.14285714285714285 recall->  0.0\n",
      "second_baseline->  f1_Score->  0.4463208685162847 precision->  0.32456140350877194 recall->  0.7142857142857143\n",
      "third_baseline->  f1_Score->  0.5357142857142858 precision->  0.42857142857142855 recall->  0.7142857142857143\n",
      "Proposed->  f1_Score->  0.392156862745098 precision->  0.625 recall->  0.2857142857142857\n",
      "first_baseline->  f1_Score->  0.0 precision->  0.15 recall->  0.0\n",
      "second_baseline->  f1_Score->  0.45929018789144055 precision->  0.3384615384615385 recall->  0.7142857142857143\n",
      "third_baseline->  f1_Score->  0.5426356589147286 precision->  0.4375 recall->  0.7142857142857143\n",
      "Proposed->  f1_Score->  0.3893805309734514 precision->  0.6111111111111112 recall->  0.2857142857142857\n",
      "first_baseline->  f1_Score->  0.0 precision->  0.2 recall->  0.0\n",
      "second_baseline->  f1_Score->  0.46296296296296297 precision->  0.3424657534246575 recall->  0.7142857142857143\n",
      "third_baseline->  f1_Score->  0.5394190871369295 precision->  0.43333333333333335 recall->  0.7142857142857143\n",
      "Proposed->  f1_Score->  0.37606837606837606 precision->  0.55 recall->  0.2857142857142857\n",
      "first_baseline->  f1_Score->  0.0 precision->  0.18 recall->  0.0\n",
      "second_baseline->  f1_Score->  0.4545454545454545 precision->  0.3333333333333333 recall->  0.7142857142857143\n",
      "third_baseline->  f1_Score->  0.532319391634981 precision->  0.42424242424242425 recall->  0.7142857142857143\n"
     ]
    }
   ],
   "source": [
    "\n",
    "prop_preList = list()\n",
    "prop_recList = list()\n",
    "prop_f1List = list()\n",
    "firstB_preList = list()\n",
    "firstB_recList = list()\n",
    "firstB_f1List = list()\n",
    "secondB_preList = list()\n",
    "secondB_recList = list()\n",
    "secondB_f1List = list()\n",
    "thirdB_preList =  list()\n",
    "thirdB_recList = list()\n",
    "thirdB_f1List = list()\n",
    "for thresh in selection_Threshold:\n",
    "    proposed_precision, proposed_recall, proposed_f1_Score, first_baseline_precision, first_baseline_recall, first_baseline_f1_Score, second_baseline_precision, second_baseline_recall, second_baseline_f1_Score, third_baseline_precision, third_baseline_recall, third_baseline_f1_Score = model_comparison_result(thresh)\n",
    "    prop_preList.append(proposed_precision)\n",
    "    prop_recList.append(proposed_recall)\n",
    "    prop_f1List.append(proposed_f1_Score)\n",
    "    firstB_preList.append(first_baseline_precision)\n",
    "    firstB_recList.append(first_baseline_recall)\n",
    "    firstB_f1List.append(first_baseline_f1_Score)\n",
    "    secondB_preList.append(second_baseline_precision)\n",
    "    secondB_recList.append(second_baseline_recall)\n",
    "    secondB_f1List.append(second_baseline_f1_Score)\n",
    "    thirdB_preList.append(third_baseline_precision)\n",
    "    thirdB_recList.append(third_baseline_recall)\n",
    "    thirdB_f1List.append(third_baseline_f1_Score)"
   ]
  },
  {
   "cell_type": "code",
   "execution_count": 122,
   "metadata": {},
   "outputs": [],
   "source": []
  },
  {
   "cell_type": "code",
   "execution_count": null,
   "metadata": {},
   "outputs": [],
   "source": [
    "def driver_function(seedList):\n",
    "    communityScoreDict, allUserScoreDict, communityTextDict, igraph_nx_mapper, valid_UserNodes_in_Community, userNode_Community_map = community_user_membership_function()\n",
    "    community_to_Index_Mapper = {node: i for i, node in enumerate(list(communityTextDict.keys()))}\n",
    "    index_to_Community_Mapper = {i: node for i, node in enumerate(list(community_to_Index_Mapper.keys()))}\n",
    "    seedNode_CleanedTextList = seedInput(seedList)\n",
    "    FoF_baseline = seedList.copy()\n",
    "    FoF_baseline = fof_driver(FoF_baseline)\n",
    "    CplusL_baseline = third_baseline_function(seedNode_CleanedTextList, FoF_baseline)\n",
    "    community_total_score_calculation(communityTextDict, seedNode_CleanedTextList, communityScoreDict, index_to_Community_Mapper, seedList)\n",
    "    recommended_UserIDwith_Score = user_Search_in_Community(valid_UserNodes_in_Community, seedNode_CleanedTextList)\n",
    "    recommended_UserIDwith_Score = sort_recommended_userNodes(recommended_UserIDwith_Score)\n",
    "    recommended_UserIDwith_Score = add_adaptive_weight_for_highRank_node_community(recommended_UserIDwith_Score)\n",
    "    return FoF_baseline, CplusL_baseline, recommended_UserIDwith_Score"
   ]
  },
  {
   "cell_type": "code",
   "execution_count": 103,
   "metadata": {},
   "outputs": [],
   "source": [
    "list_of_seedList = [[835035547, 1102643178,1927923236], [98210594, 14945996, 14666934], [609536134, 37771774, 42920448], [103679380, 138442326, 35686150, 2749503532, 97721735,398400323, 459375780]]\n",
    "selection_Threshold = [0.1, 0.2, 0.3, 0.4, 0.5, 0.6, 0.7, 0.8, 0.9, 1]\n",
    "for seedList in list_of_seedList():\n",
    "    FoF_baseline, CplusL_baseline, recommended_UserIDwith_Score = driver_function(seedList)\n",
    "    # seedList = [97721735,398400323, 459375780] # Never\n",
    "    # seedList = [2730681163, 558033985, 272760181, 2283961765]\n",
    "    \n",
    "    \n",
    "    avg_prop_preList.append(prop_preList)\n",
    "    avg_prop_recList.append(prop_recList)\n",
    "    avg_prop_f1List.append(prop_f1List)\n",
    "    avg_firstB_recList.append(firstB_recList)\n",
    "    avg_firstB_f1List.append(firstB_f1List)\n",
    "    avg_secondB_recList.append(secondB_recList)\n",
    "    avg_secondB_f1List.append(secondB_f1List)\n",
    "    avg_thirdB_preList.append(thirdB_preList)\n",
    "    avg_thirdB_recList.append(thirdB_recList)\n",
    "    avg_thirdB_f1List.append(thirdB_f1List)"
   ]
  },
  {
   "cell_type": "code",
   "execution_count": 123,
   "metadata": {},
   "outputs": [
    {
     "data": {
      "text/plain": [
       "[[1.0, 1.0, 1.0, 1.0, 1.0, 1.0, 1.0, 1.0, 1.0, 1.0],\n",
       " [1.0, 1.0, 1.0, 1.0, 1.0, 1.0, 1.0, 1.0, 1.0, 1.0],\n",
       " [1.0, 1.0, 1.0, 1.0, 1.0, 1.0, 1.0, 1.0, 1.0, 1.0],\n",
       " [0.2857142857142857,\n",
       "  0.2857142857142857,\n",
       "  0.2857142857142857,\n",
       "  0.2857142857142857,\n",
       "  0.2857142857142857,\n",
       "  0.2857142857142857,\n",
       "  0.2857142857142857,\n",
       "  0.2857142857142857,\n",
       "  0.2857142857142857,\n",
       "  0.2857142857142857]]"
      ]
     },
     "execution_count": 123,
     "metadata": {},
     "output_type": "execute_result"
    }
   ],
   "source": [
    "avg_prop_recList"
   ]
  },
  {
   "cell_type": "code",
   "execution_count": 124,
   "metadata": {},
   "outputs": [
    {
     "data": {
      "text/plain": [
       "4"
      ]
     },
     "execution_count": 124,
     "metadata": {},
     "output_type": "execute_result"
    }
   ],
   "source": [
    "len(avg_prop_recList)"
   ]
  },
  {
   "cell_type": "code",
   "execution_count": 125,
   "metadata": {},
   "outputs": [],
   "source": [
    "avg_prop_preList = np.mean(avg_prop_preList, axis=0)\n",
    "avg_prop_recList = np.mean(avg_prop_recList, axis=0)\n",
    "avg_prop_f1List = np.mean(avg_prop_f1List, axis=0)\n",
    "avg_firstB_recList = np.mean(avg_firstB_recList, axis=0)\n",
    "avg_firstB_f1List = np.mean(avg_firstB_f1List, axis=0)\n",
    "avg_secondB_recList = np.mean(avg_secondB_recList, axis=0)\n",
    "avg_secondB_f1List = np.mean(avg_secondB_f1List, axis=0)\n",
    "avg_thirdB_preList = np.mean(avg_thirdB_preList, axis=0)\n",
    "avg_thirdB_recList = np.mean(avg_thirdB_recList, axis=0)\n",
    "avg_thirdB_f1List = np.mean(avg_thirdB_f1List, axis=0)"
   ]
  },
  {
   "cell_type": "code",
   "execution_count": 126,
   "metadata": {},
   "outputs": [],
   "source": [
    "avg_prop_preList = list(avg_prop_preList)\n",
    "avg_prop_recList = list(avg_prop_recList)\n",
    "avg_prop_f1List = list(avg_prop_f1List)\n",
    "avg_firstB_recList = list(avg_firstB_recList)\n",
    "avg_firstB_f1List = list(avg_firstB_f1List)\n",
    "avg_secondB_recList = list(avg_secondB_recList)\n",
    "avg_secondB_f1List = list(avg_secondB_f1List)\n",
    "avg_thirdB_preList = list(avg_thirdB_preList)\n",
    "avg_thirdB_recList = list(avg_thirdB_recList)\n",
    "avg_thirdB_f1List = list(avg_thirdB_f1List)"
   ]
  },
  {
   "cell_type": "code",
   "execution_count": 130,
   "metadata": {},
   "outputs": [
    {
     "name": "stdout",
     "output_type": "stream",
     "text": [
      "avg_prop_preList->  [0.875, 0.75, 0.6666666666666667, 0.65625, 0.625, 0.6041666666666666, 0.5535714285714286, 0.515625, 0.5416666666666667, 0.525]\n",
      "avg_prop_recList->  [0.8214285714285714, 0.8214285714285714, 0.8214285714285714, 0.8214285714285714, 0.8214285714285714, 0.8214285714285714, 0.8214285714285714, 0.8214285714285714, 0.8214285714285714, 0.8214285714285714]\n",
      "avg_prop_f1List->  [0.7777777777777778, 0.7034482758620689, 0.6323570046974303, 0.6333333333333333, 0.6324124791617051, 0.6177339901477833, 0.5911219002651228, 0.5703469079939668, 0.6009165613147914, 0.5980357754551303]\n",
      "avg_firstB_preList->  [0.6, 0.3, 0.26666666666666666, 0.2, 0.16, 0.16666666666666666, 0.14285714285714285, 0.15, 0.2, 0.18]\n",
      "avg_firstB_recList->  [0.41666666666666663, 0.41666666666666663, 0.41666666666666663, 0.41666666666666663, 0.41666666666666663, 0.41666666666666663, 0.41666666666666663, 0.41666666666666663, 0.41666666666666663, 0.41666666666666663]\n",
      "avg_firstB_f1List->  [0.42293233082706766, 0.28584392014519056, 0.26455026455026454, 0.21634615384615383, 0.18308631211857018, 0.18888888888888888, 0.16764705882352943, 0.1741731175228712, 0.21634615384615383, 0.20017384190612536]\n",
      "avg_secondB_preList->  [0.29411764705882354, 0.30303030303030304, 0.3469387755102041, 0.3076923076923077, 0.2839506172839506, 0.30612244897959184, 0.32456140350877194, 0.3384615384615385, 0.3424657534246575, 0.3333333333333333]\n",
      "avg_secondB_recList->  [0.4285714285714286, 0.4285714285714286, 0.4285714285714286, 0.4285714285714286, 0.4285714285714286, 0.4285714285714286, 0.4285714285714286, 0.4285714285714286, 0.4285714285714286, 0.4285714285714286]\n",
      "avg_secondB_f1List->  [0.3121622302883646, 0.32449867952143646, 0.3541524541524541, 0.35109297746043894, 0.3404941428857572, 0.3476872609233705, 0.3544499629954874, 0.3626558803061935, 0.35837444752800907, 0.3532164293033858]\n",
      "avg_thirdB_preList->  [0.48888888888888893, 0.42598039215686273, 0.4144871794871795, 0.43857323232323236, 0.42422394678492237, 0.4506802721088436, 0.44653165170992, 0.44361263736263734, 0.44337314131834676, 0.43189609271004625]\n",
      "avg_thirdB_recList->  [0.4285714285714286, 0.4285714285714286, 0.4285714285714286, 0.4285714285714286, 0.4285714285714286, 0.4285714285714286, 0.4285714285714286, 0.4285714285714286, 0.4285714285714286, 0.4285714285714286]\n",
      "avg_thirdB_f1List->  [0.43042374292374297, 0.41467579961010415, 0.4098771631859341, 0.4181414583713434, 0.40996085479819566, 0.4216291670796577, 0.4213479598204999, 0.42101871460747786, 0.4207865310358564, 0.4153497431225657]\n"
     ]
    }
   ],
   "source": [
    "### Just for Test Purpose ###\n",
    "print(\"avg_prop_preList-> \", avg_prop_preList)\n",
    "print(\"avg_prop_recList-> \", avg_prop_recList)\n",
    "print(\"avg_prop_f1List-> \", avg_prop_f1List)\n",
    "\n",
    "print(\"avg_firstB_preList-> \", firstB_preList)\n",
    "print(\"avg_firstB_recList-> \", avg_firstB_recList)\n",
    "print(\"avg_firstB_f1List-> \", avg_firstB_f1List)\n",
    "\n",
    "print(\"avg_secondB_preList-> \", secondB_preList)\n",
    "print(\"avg_secondB_recList-> \", avg_secondB_recList)\n",
    "print(\"avg_secondB_f1List-> \", avg_secondB_f1List)\n",
    "\n",
    "print(\"avg_thirdB_preList-> \", avg_thirdB_preList)\n",
    "print(\"avg_thirdB_recList-> \", avg_thirdB_recList)\n",
    "print(\"avg_thirdB_f1List-> \", avg_thirdB_f1List)"
   ]
  },
  {
   "cell_type": "code",
   "execution_count": 127,
   "metadata": {},
   "outputs": [
    {
     "data": {
      "image/png": "[encoded data removed]",
      "text/plain": [
       "<Figure size 792x504 with 1 Axes>"
      ]
     },
     "metadata": {
      "needs_background": "light"
     },
     "output_type": "display_data"
    }
   ],
   "source": [
    "weight = np.arange(0, 100, 10)\n",
    "plt.figure(figsize=(11, 7))\n",
    "plt.plot(weight, avg_prop_preList,color='blue', marker='o', linewidth=1, markersize=7, label='Original Model')\n",
    "plt.plot(weight, firstB_preList, color='green', marker='^', linewidth=1, markersize=9, label='Baseline 1')\n",
    "plt.plot(weight, secondB_preList, color='red', marker='s', linewidth=1, markersize=7, label='Baseline 2')\n",
    "plt.plot(weight, avg_thirdB_preList, color='black', marker='*', linewidth=1, markersize=11, label='Baseline 3')\n",
    "plt.xlabel('Node selection_Threshold Percentage', fontsize=12)\n",
    "plt.ylabel('Average Precision', fontsize=12)\n",
    "plt.title(\"Model's Average Precision Comparision\", fontsize=12)\n",
    "plt.legend(fontsize=10)\n",
    "plt.xticks(fontsize=12)\n",
    "plt.yticks(fontsize=12)\n",
    "plt.show()"
   ]
  },
  {
   "cell_type": "code",
   "execution_count": 128,
   "metadata": {},
   "outputs": [
    {
     "data": {
      "image/png": "[encoded data removed]",
      "text/plain": [
       "<Figure size 792x504 with 1 Axes>"
      ]
     },
     "metadata": {
      "needs_background": "light"
     },
     "output_type": "display_data"
    }
   ],
   "source": [
    "plt.figure(figsize=(11, 7))\n",
    "plt.plot(weight, avg_prop_recList,color='blue', marker='o', linewidth=1, markersize=7, label='Original Model')\n",
    "plt.plot(weight, avg_firstB_recList, color='green', marker='^', linewidth=1, markersize=9, label='Baseline 1')\n",
    "plt.plot(weight, avg_secondB_recList, color='red', marker='s', linewidth=1, markersize=7, label='Baseline 2')\n",
    "plt.plot(weight, avg_thirdB_recList, color='black', marker='*', linewidth=1, markersize=11, label='Baseline 3')\n",
    "plt.xlabel('Node selection_Threshold Percentage')\n",
    "plt.ylabel('Average Recall')\n",
    "plt.title(\"Model's Average Recall Comparision\")\n",
    "plt.legend()\n",
    "plt.xticks(fontsize=12)\n",
    "plt.yticks(fontsize=12)\n",
    "plt.show()"
   ]
  },
  {
   "cell_type": "code",
   "execution_count": 129,
   "metadata": {},
   "outputs": [
    {
     "data": {
      "image/png": "[encoded data removed]",
      "text/plain": [
       "<Figure size 792x504 with 1 Axes>"
      ]
     },
     "metadata": {
      "needs_background": "light"
     },
     "output_type": "display_data"
    }
   ],
   "source": [
    "plt.figure(figsize=(11, 7))\n",
    "plt.plot(weight, avg_prop_f1List,color='blue', marker='o', linewidth=1, markersize=7, label='Original Model')\n",
    "plt.plot(weight, avg_firstB_f1List, color='green', marker='^', linewidth=1, markersize=9, label='Baseline 1')\n",
    "plt.plot(weight, avg_secondB_f1List, color='red', marker='s', linewidth=1, markersize=7, label='Baseline 2')\n",
    "plt.plot(weight, avg_thirdB_f1List, color='black', marker='*', linewidth=1, markersize=11, label='Baseline 3')\n",
    "plt.xlabel('Node selection_Threshold Percentage')\n",
    "plt.ylabel('Average F1 Score')\n",
    "plt.title(\"Model's Average F1 Score Comparision\")\n",
    "plt.legend()\n",
    "plt.xticks(fontsize=12)\n",
    "plt.yticks(fontsize=12)\n",
    "plt.show()"
   ]
  },
  {
   "cell_type": "code",
   "execution_count": null,
   "metadata": {},
   "outputs": [],
   "source": [
    "### Proposed Model result\n",
    "prposed_resultList = model_performance_exhibition(recommended_UserIDwith_Score[0:math.ceil(len(recommended_UserIDwith_Score)*0.20)], True) ## Proposed model\n",
    "proposed_precision = adaptive_precision(prposed_resultList)\n",
    "proposed_recall = adaptive_recall([list(id_score.keys())[0] for id_score in recommended_UserIDwith_Score])\n",
    "print(\"f1_Score-> \", adaptive_F1score(proposed_precision, proposed_recall), \"precision-> \", proposed_precision, \"recall-> \", proposed_recall)"
   ]
  },
  {
   "cell_type": "code",
   "execution_count": null,
   "metadata": {},
   "outputs": [],
   "source": [
    "### Model Iteration of Proposed model\n",
    "seedList.extend([list(id_score.keys())[0] for id_score in recommended_UserIDwith_Score[0:math.ceil(len(recommended_UserIDwith_Score)*0.20)]])"
   ]
  },
  {
   "cell_type": "code",
   "execution_count": null,
   "metadata": {},
   "outputs": [],
   "source": [
    "### First Baseline\n",
    "first_baseline_resultList = model_performance_exhibition(MPopular_baseLine[0:math.ceil(len(MPopular_baseLine)*0.20)], True)\n",
    "first_baseline_precision = adaptive_precision(first_baseline_resultList)\n",
    "first_baseline_recall = adaptive_recall([list(id_score.keys())[0] for id_score in MPopular_baseLine])\n",
    "print(\"f1_Score-> \", adaptive_F1score(first_baseline_precision, first_baseline_recall), \"precision-> \", first_baseline_precision, \"recall-> \", first_baseline_recall)"
   ]
  },
  {
   "cell_type": "code",
   "execution_count": null,
   "metadata": {},
   "outputs": [],
   "source": [
    "### Second baseline\n",
    "second_baseline_resultList = model_performance_exhibition(list(FoF_baseline)[0:math.ceil(len(FoF_baseline)*0.20)], False)\n",
    "second_baseline_precision = adaptive_precision(second_baseline_resultList)\n",
    "second_baseline_recall = adaptive_recall(FoF_baseline)\n",
    "print(\"f1_Score-> \", adaptive_F1score(second_baseline_precision, second_baseline_recall), \"precision-> \", second_baseline_precision, \"recall-> \", second_baseline_recall)"
   ]
  },
  {
   "cell_type": "code",
   "execution_count": null,
   "metadata": {},
   "outputs": [],
   "source": [
    "third_baseline_resultList = model_performance_exhibition(list(CplusL_baseline)[0:math.ceil(len(CplusL_baseline)*0.20)], False)\n",
    "third_baseline_precision = adaptive_precision(third_baseline_resultList)\n",
    "third_baseline_recall = adaptive_recall(CplusL_baseline)\n",
    "print(\"f1_Score-> \", adaptive_F1score(third_baseline_precision, third_baseline_recall), \"precision-> \", third_baseline_precision, \"recall-> \", third_baseline_recall)"
   ]
  },
  {
   "cell_type": "markdown",
   "metadata": {},
   "source": [
    "## Using LDA Validation ##"
   ]
  },
  {
   "cell_type": "code",
   "execution_count": null,
   "metadata": {},
   "outputs": [],
   "source": [
    "recomUser_AllText = list()\n",
    "for recomUser in recommended_UserIDwith_Score:\n",
    "    recomUser_AllText.append(userIdDict[list(recomUser.keys())[0]]['AllText'])"
   ]
  },
  {
   "cell_type": "code",
   "execution_count": null,
   "metadata": {},
   "outputs": [],
   "source": [
    "import gensim\n",
    "from gensim import corpora\n",
    "import nltk\n",
    "import spacy\n",
    "spacy.load('en')\n",
    "from spacy.lang.en import English\n",
    "parser = English()\n",
    "\n",
    "def tokenize(text):\n",
    "    lda_tokens = []\n",
    "    tokens = parser(text)\n",
    "    for token in tokens:\n",
    "        if token.orth_.isspace():\n",
    "            continue\n",
    "        elif token.like_url:\n",
    "            lda_tokens.append('URL')\n",
    "        elif token.orth_.startswith('@'):\n",
    "            lda_tokens.append('SCREEN_NAME')\n",
    "        else:\n",
    "            lda_tokens.append(token.lower_)\n",
    "    return lda_tokens\n",
    "\n",
    "\n",
    "\n",
    "nltk.download('wordnet')\n",
    "from nltk.corpus import wordnet as wn\n",
    "def get_lemma(word):\n",
    "    lemma = wn.morphy(word)\n",
    "    if lemma is None:\n",
    "        return word\n",
    "    else:\n",
    "        return lemma\n",
    "    \n",
    "from nltk.stem.wordnet import WordNetLemmatizer\n",
    "def get_lemma2(word):\n",
    "    return WordNetLemmatizer().lemmatize(word)\n",
    "\n",
    "\n",
    "nltk.download('stopwords')\n",
    "en_stop = set(nltk.corpus.stopwords.words('english'))\n",
    "\n",
    "\n",
    "def prepare_text_for_lda(text):\n",
    "    tokens = tokenize(text)\n",
    "    tokens = [token for token in tokens if len(token) > 4]\n",
    "    tokens = [token for token in tokens if token not in en_stop]\n",
    "    tokens = [get_lemma(token) for token in tokens]\n",
    "    return tokens\n",
    "\n",
    "\n",
    "text_data = []\n",
    "for allText in recomUser_AllText:\n",
    "    tokens = prepare_text_for_lda(allText)\n",
    "#     print(tokens)\n",
    "    text_data.append(tokens)\n",
    "\n",
    "\n",
    "dictionary = corpora.Dictionary(text_data)\n",
    "corpus = [dictionary.doc2bow(text) for text in text_data]\n",
    "NUM_TOPICS = 3\n",
    "ldamodel = gensim.models.ldamodel.LdaModel(corpus, num_topics = NUM_TOPICS, id2word=dictionary, passes=15)\n",
    "topics = ldamodel.print_topics(num_words=5)\n",
    "for topic in topics:\n",
    "    print(topic)"
   ]
  },
  {
   "cell_type": "code",
   "execution_count": null,
   "metadata": {},
   "outputs": [],
   "source": [
    "for i, seedNode in enumerate(seedList):\n",
    "    print(seedNode,\"Seed Node\",i,\"-> \", userIdDict[seedNode]['AllText'])\n",
    "#     new_doc = prepare_text_for_lda(userIdDict[list(recomUser.keys())[0]]['AllText'])\n",
    "    print(set(new_doc))\n",
    "    new_doc_bow = dictionary.doc2bow(new_doc)\n",
    "#     print(new_doc_bow)\n",
    "#     print(ldamodel.get_document_topics(new_doc_bow))"
   ]
  },
  {
   "cell_type": "markdown",
   "metadata": {},
   "source": [
    "## Using LDA Ends ##"
   ]
  },
  {
   "cell_type": "code",
   "execution_count": null,
   "metadata": {},
   "outputs": [],
   "source": []
  }
 ],
 "metadata": {
  "kernelspec": {
   "display_name": "Python 3",
   "language": "python",
   "name": "python3"
  },
  "language_info": {
   "codemirror_mode": {
    "name": "ipython",
    "version": 3
   },
   "file_extension": ".py",
   "mimetype": "text/x-python",
   "name": "python",
   "nbconvert_exporter": "python",
   "pygments_lexer": "ipython3",
   "version": "3.8.5"
  }
 },
 "nbformat": 4,
 "nbformat_minor": 4
}
