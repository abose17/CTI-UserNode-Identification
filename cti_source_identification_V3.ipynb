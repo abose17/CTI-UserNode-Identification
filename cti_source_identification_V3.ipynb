{
 "cells": [
  {
   "cell_type": "code",
   "execution_count": 1,
   "metadata": {},
   "outputs": [
    {
     "name": "stderr",
     "output_type": "stream",
     "text": [
      "[nltk_data] Downloading package stopwords to /home/abose/nltk_data...\n",
      "[nltk_data]   Package stopwords is already up-to-date!\n",
      "<ipython-input-1-5d0b38acdc55>:40: DeprecationWarning: This package has been superseded by the `leidenalg` package and will no longer be maintained. Please upgrade to the `leidenalg` package.\n",
      "  import louvain\n"
     ]
    }
   ],
   "source": [
    "import sys\n",
    "import numpy as np\n",
    "import pandas as pd\n",
    "import pymongo\n",
    "import bson\n",
    "import json\n",
    "import time\n",
    "import datetime\n",
    "import os\n",
    "import collections\n",
    "import random\n",
    "import gensim\n",
    "from gensim.models.doc2vec import Doc2Vec, TaggedDocument\n",
    "from gensim.summarization import keywords\n",
    "import csv\n",
    "import string\n",
    "import re\n",
    "import io\n",
    "import itertools\n",
    "from sklearn.feature_extraction.text import TfidfVectorizer\n",
    "from sklearn.cluster import DBSCAN\n",
    "from sklearn.metrics import f1_score\n",
    "from sklearn.metrics import accuracy_score\n",
    "from sklearn.metrics.pairwise import cosine_similarity\n",
    "from sklearn.model_selection import train_test_split\n",
    "import nltk\n",
    "from nltk.corpus import stopwords\n",
    "import gensim.downloader as api\n",
    "import networkx as nx\n",
    "import math\n",
    "from tqdm import trange, tqdm\n",
    "from symspellpy.symspellpy import SymSpell, Verbosity\n",
    "from nltk import word_tokenize\n",
    "nltk.download('stopwords')\n",
    "from networkx.algorithms import community\n",
    "import community as community_louvain\n",
    "import matplotlib.cm as cm\n",
    "import matplotlib.pyplot as plt\n",
    "import igraph as ig\n",
    "import louvain\n",
    "import leidenalg\n",
    "stopwords = nltk.corpus.stopwords.words('english')\n",
    "import hdbscan\n",
    "import torch\n",
    "from transformers import AutoTokenizer, BertTokenizer, BertModel\n",
    "from transformers import DistilBertModel, DistilBertConfig, DistilBertTokenizer"
   ]
  },
  {
   "cell_type": "code",
   "execution_count": 2,
   "metadata": {},
   "outputs": [],
   "source": [
    "# contractions_save = json.dumps(contractions)\n",
    "# file = open(\"/home/abose/Threat Intel/contractions_save.json\",\"w\")\n",
    "# file.write(contractions_save)\n",
    "# file.close()\n",
    "with open('/home/abose/Threat Intel/contractions_save.json') as file:\n",
    "    contractions = json.load(file)"
   ]
  },
  {
   "cell_type": "code",
   "execution_count": 3,
   "metadata": {},
   "outputs": [],
   "source": [
    "def extend_doc(doc):\n",
    "    tokens = doc.split()\n",
    "    for idx, token in enumerate(tokens):\n",
    "        if token in contractions:\n",
    "            tokens[idx]=contractions[token]\n",
    "    tokens = ' '.join(tokens)\n",
    "    return tokens"
   ]
  },
  {
   "cell_type": "code",
   "execution_count": 4,
   "metadata": {},
   "outputs": [],
   "source": [
    "def hook_compound(input_termList):\n",
    "#     if not input_termList or input_termList == None or input_termList == \"\":\n",
    "#         return input_termList\n",
    "    # maximum edit distance per dictionary precalculation\n",
    "    symSpell_1st_TotalTweetText=[]\n",
    "    max_edit_distance_dictionary = 2\n",
    "    prefix_length = 7\n",
    "    # create object\n",
    "    sym_spell = SymSpell(max_edit_distance_dictionary, prefix_length)\n",
    "    # load dictionary\n",
    "    dictionary_path = os.path.join(os.path.dirname(\"E:\\\\Threat_Intel_Research\\\\\"),\"frequency_dictionary_en_82_765.txt\")\n",
    "    term_index = 0  # column of the term in the dictionary text file\n",
    "    count_index = 1  # column of the term frequency in the dictionary text file\n",
    "    if not sym_spell.load_dictionary(dictionary_path, term_index, count_index):\n",
    "        print(\"Dictionary file not found\")\n",
    "        return\n",
    "\n",
    "    # max edit distance per lookup (per single word, not per whole input string)\n",
    "    max_edit_distance_lookup = 2\n",
    "    input_term2 = re.sub(r\"http\\S+\", \"\", input_termList)\n",
    "    suggestions = sym_spell.lookup_compound(input_term2, max_edit_distance_lookup)\n",
    "    for suggestion in suggestions:\n",
    "        symSpell_1st_TotalTweetText.append(suggestion.term)\n",
    " \n",
    "    return symSpell_1st_TotalTweetText"
   ]
  },
  {
   "cell_type": "code",
   "execution_count": 5,
   "metadata": {},
   "outputs": [],
   "source": [
    "def mainLookUp(input_termLookList):\n",
    "#     if not input_termLookList or input_termLookList == None or input_termLookList == \"\":\n",
    "#         return input_termLookList\n",
    "    symSpell_2nd_TotalTweetText=[]\n",
    "    # maximum edit distance per dictionary precalculation\n",
    "    max_edit_distance_dictionary = 0\n",
    "    prefix_length = 7\n",
    "    # create object\n",
    "    sym_spell = SymSpell(max_edit_distance_dictionary, prefix_length)\n",
    "    # load dictionary\n",
    "    dictionary_path = os.path.join(os.path.dirname(\"E:\\\\Threat_Intel_Research\\\\\"),\"frequency_dictionary_en_82_765.txt\")\n",
    "    term_index = 0  # column of the term in the dictionary text file\n",
    "    count_index = 1  # column of the term frequency in the dictionary text file\n",
    "    if not sym_spell.load_dictionary(dictionary_path, term_index, count_index):\n",
    "        print(\"Dictionary file not found\")\n",
    "        return\n",
    "\n",
    "    # a sentence without any spaces\n",
    "    if input_termLookList:\n",
    "        result = sym_spell.word_segmentation(input_termLookList)\n",
    "        symSpell_2nd_TotalTweetText.append(result.corrected_string)\n",
    "    return symSpell_2nd_TotalTweetText"
   ]
  },
  {
   "cell_type": "code",
   "execution_count": 6,
   "metadata": {},
   "outputs": [],
   "source": [
    "def clean_doc(doc):\n",
    "    # split into tokens by white space\n",
    "    #doc = re.sub(r\\\"http\\\\S+\\\", \\\"\\\", doc)\n",
    "    tokens = doc.split()\n",
    "    # remove punctuation from each token\n",
    "    table = str.maketrans('', '', string.punctuation)\n",
    "    tokens = [w.translate(table) for w in tokens]\n",
    "    #remove remaining tokens that are not alphabetic\n",
    "    tokens = [word for word in tokens if word.isalpha()]\n",
    "    # filter out stop words\n",
    "    stop_words = set(stopwords)\n",
    "    tokens = [w for w in tokens if not w in stop_words]\n",
    "    #tokens = [stemmer.stem(t) for t in tokens]\n",
    "    # filter out short tokens\n",
    "    tokens = [word for word in tokens if len(word) > 1]\n",
    "    tokens = ' '.join(tokens)\n",
    "    return tokens"
   ]
  },
  {
   "cell_type": "code",
   "execution_count": 7,
   "metadata": {},
   "outputs": [],
   "source": [
    "def process_text(text):\n",
    "    text = extend_doc(text)\n",
    "#     textSpell = hook_compound(text)\n",
    "#     if len(textSpell[0])>=5:\n",
    "#         textSpell = mainLookUp(textSpell[0])\n",
    "#         cleanedText = clean_doc(textSpell[0])\n",
    "    if len(text)>=5:\n",
    "        cleanedText = clean_doc(text)\n",
    "    else:\n",
    "        cleanedText=\"NAAAN\"\n",
    "    return cleanedText"
   ]
  },
  {
   "cell_type": "code",
   "execution_count": 8,
   "metadata": {},
   "outputs": [],
   "source": [
    "#define vectorizer parameters\n",
    "def apply_TFIDF(fname):\n",
    "    tfidf_vectorizer = TfidfVectorizer(max_df=0.99,lowercase=True, max_features=200000,min_df=0.001, stop_words='english', use_idf=True)\n",
    "    #check_mat=tfidf_vectorizer.fit(fname)\n",
    "    #print(\"check \", check_mat.vocabulary_)\n",
    "    tfidf_matrix = tfidf_vectorizer.fit_transform(fname) #fit the vectorizer to synopses\n",
    "    #print(tfidf_matrix.shape, tfidf_matrix[0,0], tfidf_matrix[0,1], tfidf_matrix[0,2], tfidf_matrix[0,3])\n",
    "    terms = tfidf_vectorizer.get_feature_names()\n",
    "    #print(tfidf_matrix.shape, \" + \",terms, tfidf_vectorizer.idf_)\n",
    "    print(\" + \", tfidf_matrix.shape, \" + \")\n",
    "    return tfidf_matrix"
   ]
  },
  {
   "cell_type": "code",
   "execution_count": 9,
   "metadata": {},
   "outputs": [],
   "source": [
    "def userObjectDictionaryFunction():\n",
    "    connection=pymongo.MongoClient()\n",
    "    srcUserDB=connection.user_src_identification\n",
    "    collection=srcUserDB.taggedData40k\n",
    "    cursor=collection.find({},{\"_id\":0}).limit(40761)\n",
    "    userObjectData=[]\n",
    "    userIdDict=dict()\n",
    "    for data in cursor:\n",
    "        userDataDict=dict()\n",
    "        for key, value in data.items():\n",
    "            if key==\"id\":\n",
    "                userID=value\n",
    "            if key==\"Description\":\n",
    "                userDataDict.update({\"Description\":value})\n",
    "            if key==\"DescTag\":\n",
    "                userDataDict.update({\"DescTag\":value})\n",
    "            if key==\"Followers\":\n",
    "                userDataDict.update({\"Followers\":value})\n",
    "            if key==\"Following\":\n",
    "                userDataDict.update({\"Following\":value})\n",
    "            if key==\"Tweets\":\n",
    "                userDataDict.update({\"Tweets\":value})\n",
    "            if key==\"TweetsTags\":\n",
    "                userDataDict.update({\"TweetsTags\":value})\n",
    "            if key==\"AllText\":\n",
    "                userDataDict.update({\"AllText\":value})\n",
    "            if key==\"AllTextTags\":\n",
    "                userDataDict.update({\"AllTextTags\":value})\n",
    "        userIdDict.update({int(userID):userDataDict})\n",
    "    return userIdDict\n",
    "userIdDict = userObjectDictionaryFunction()"
   ]
  },
  {
   "cell_type": "code",
   "execution_count": 10,
   "metadata": {},
   "outputs": [
    {
     "data": {
      "text/plain": [
       "40761"
      ]
     },
     "execution_count": 10,
     "metadata": {},
     "output_type": "execute_result"
    }
   ],
   "source": [
    "len(userIdDict)"
   ]
  },
  {
   "cell_type": "code",
   "execution_count": 35,
   "metadata": {},
   "outputs": [
    {
     "data": {
      "text/html": [
       "<div>\n",
       "<style scoped>\n",
       "    .dataframe tbody tr th:only-of-type {\n",
       "        vertical-align: middle;\n",
       "    }\n",
       "\n",
       "    .dataframe tbody tr th {\n",
       "        vertical-align: top;\n",
       "    }\n",
       "\n",
       "    .dataframe thead th {\n",
       "        text-align: right;\n",
       "    }\n",
       "</style>\n",
       "<table border=\"1\" class=\"dataframe\">\n",
       "  <thead>\n",
       "    <tr style=\"text-align: right;\">\n",
       "      <th></th>\n",
       "      <th>id</th>\n",
       "      <th>Description</th>\n",
       "      <th>DescTag</th>\n",
       "      <th>Tweets</th>\n",
       "      <th>TweetsTags</th>\n",
       "      <th>AllText</th>\n",
       "      <th>AllTextTags</th>\n",
       "      <th>Followers</th>\n",
       "      <th>Following</th>\n",
       "      <th>Annotation</th>\n",
       "    </tr>\n",
       "  </thead>\n",
       "  <tbody>\n",
       "    <tr>\n",
       "      <th>0</th>\n",
       "      <td>1161296115637084162</td>\n",
       "      <td>#Spider Overlord calling #darknet home. Talk #...</td>\n",
       "      <td>[/technology and computing/hardware/computer c...</td>\n",
       "      <td>[A wild sponsor appears!  Two more bundles hat...</td>\n",
       "      <td>[[/style and fashion/luxury goods, /pets/large...</td>\n",
       "      <td>A wild sponsor appears!  Two more bundles hath...</td>\n",
       "      <td>[/art and entertainment/movies and tv/movies, ...</td>\n",
       "      <td>[1112062964260110336, 985304744146202624, 1304...</td>\n",
       "      <td>[347191988, 1302055132822110209, 14727747, 330...</td>\n",
       "      <td>relevant</td>\n",
       "    </tr>\n",
       "    <tr>\n",
       "      <th>1</th>\n",
       "      <td>1112062964260110336</td>\n",
       "      <td>🍣 researcher 🦕 pentester 😈 web monkey 🙊 datteb...</td>\n",
       "      <td>[/technology and computing/internet technology...</td>\n",
       "      <td>[Perhaps currently I 'm going through the most...</td>\n",
       "      <td>[[/society/unrest and war, /art and entertainm...</td>\n",
       "      <td>@alicanact60 @Hacker0x01 👍👍👍👍👍@SecGoblin @root...</td>\n",
       "      <td>[/technology and computing/hardware, /technolo...</td>\n",
       "      <td>[1229142485823315968, 28482605, 773838475]</td>\n",
       "      <td>[1145546584752394241, 1235115096528936960, 220...</td>\n",
       "      <td>irrelevant</td>\n",
       "    </tr>\n",
       "    <tr>\n",
       "      <th>2</th>\n",
       "      <td>985304744146202624</td>\n",
       "      <td>bebe gay III 🏳️‍🌈 ه҈̿҈̿҈̿҈̿҈̿҈̿҈̿҈̿҈̿҈̿҈̿҈̿҈̿҈...</td>\n",
       "      <td>[/society/gay life]</td>\n",
       "      <td>[]</td>\n",
       "      <td>[]</td>\n",
       "      <td>bebe gay III 🏳️‍🌈 ه҈̿҈̿҈̿҈̿҈̿҈̿҈̿҈̿҈̿҈̿҈̿҈̿҈̿҈...</td>\n",
       "      <td>[/society/gay life]</td>\n",
       "      <td>[]</td>\n",
       "      <td>[]</td>\n",
       "      <td>irrelevant</td>\n",
       "    </tr>\n",
       "    <tr>\n",
       "      <th>3</th>\n",
       "      <td>861889353869557762</td>\n",
       "      <td>Hi, it's me // SEO Class of 2008 // Autodidact...</td>\n",
       "      <td>[/technology and computing/internet technology...</td>\n",
       "      <td>[Airbnb markets are crazy right now https://t....</td>\n",
       "      <td>[[/travel/vacation rentals, /finance/investing...</td>\n",
       "      <td>Airbnb markets are crazy right now https://t.c...</td>\n",
       "      <td>[/food and drink/vegetarian, /food and drink/v...</td>\n",
       "      <td>[1026799219716177920, 1134088559617630208, 117...</td>\n",
       "      <td>[22589449, 2707742660, 1099713672434335744]</td>\n",
       "      <td>irrelevant</td>\n",
       "    </tr>\n",
       "    <tr>\n",
       "      <th>4</th>\n",
       "      <td>733074959338213379</td>\n",
       "      <td>Cybersecurity is a ILLUSION</td>\n",
       "      <td>[/technology and computing/computer security, ...</td>\n",
       "      <td>[]</td>\n",
       "      <td>[]</td>\n",
       "      <td>Cybersecurity is a ILLUSION</td>\n",
       "      <td>[/technology and computing/computer crime, /te...</td>\n",
       "      <td>[]</td>\n",
       "      <td>[]</td>\n",
       "      <td>relevant</td>\n",
       "    </tr>\n",
       "  </tbody>\n",
       "</table>\n",
       "</div>"
      ],
      "text/plain": [
       "                    id                                        Description  \\\n",
       "0  1161296115637084162  #Spider Overlord calling #darknet home. Talk #...   \n",
       "1  1112062964260110336  🍣 researcher 🦕 pentester 😈 web monkey 🙊 datteb...   \n",
       "2   985304744146202624  bebe gay III 🏳️‍🌈 ه҈̿҈̿҈̿҈̿҈̿҈̿҈̿҈̿҈̿҈̿҈̿҈̿҈̿҈...   \n",
       "3   861889353869557762  Hi, it's me // SEO Class of 2008 // Autodidact...   \n",
       "4   733074959338213379                        Cybersecurity is a ILLUSION   \n",
       "\n",
       "                                             DescTag  \\\n",
       "0  [/technology and computing/hardware/computer c...   \n",
       "1  [/technology and computing/internet technology...   \n",
       "2                                [/society/gay life]   \n",
       "3  [/technology and computing/internet technology...   \n",
       "4  [/technology and computing/computer security, ...   \n",
       "\n",
       "                                              Tweets  \\\n",
       "0  [A wild sponsor appears!  Two more bundles hat...   \n",
       "1  [Perhaps currently I 'm going through the most...   \n",
       "2                                                 []   \n",
       "3  [Airbnb markets are crazy right now https://t....   \n",
       "4                                                 []   \n",
       "\n",
       "                                          TweetsTags  \\\n",
       "0  [[/style and fashion/luxury goods, /pets/large...   \n",
       "1  [[/society/unrest and war, /art and entertainm...   \n",
       "2                                                 []   \n",
       "3  [[/travel/vacation rentals, /finance/investing...   \n",
       "4                                                 []   \n",
       "\n",
       "                                             AllText  \\\n",
       "0  A wild sponsor appears!  Two more bundles hath...   \n",
       "1  @alicanact60 @Hacker0x01 👍👍👍👍👍@SecGoblin @root...   \n",
       "2  bebe gay III 🏳️‍🌈 ه҈̿҈̿҈̿҈̿҈̿҈̿҈̿҈̿҈̿҈̿҈̿҈̿҈̿҈...   \n",
       "3  Airbnb markets are crazy right now https://t.c...   \n",
       "4                        Cybersecurity is a ILLUSION   \n",
       "\n",
       "                                         AllTextTags  \\\n",
       "0  [/art and entertainment/movies and tv/movies, ...   \n",
       "1  [/technology and computing/hardware, /technolo...   \n",
       "2                                [/society/gay life]   \n",
       "3  [/food and drink/vegetarian, /food and drink/v...   \n",
       "4  [/technology and computing/computer crime, /te...   \n",
       "\n",
       "                                           Followers  \\\n",
       "0  [1112062964260110336, 985304744146202624, 1304...   \n",
       "1         [1229142485823315968, 28482605, 773838475]   \n",
       "2                                                 []   \n",
       "3  [1026799219716177920, 1134088559617630208, 117...   \n",
       "4                                                 []   \n",
       "\n",
       "                                           Following  Annotation  \n",
       "0  [347191988, 1302055132822110209, 14727747, 330...    relevant  \n",
       "1  [1145546584752394241, 1235115096528936960, 220...  irrelevant  \n",
       "2                                                 []  irrelevant  \n",
       "3        [22589449, 2707742660, 1099713672434335744]  irrelevant  \n",
       "4                                                 []    relevant  "
      ]
     },
     "execution_count": 35,
     "metadata": {},
     "output_type": "execute_result"
    }
   ],
   "source": [
    "######## Only For Validation #########\n",
    "from ast import literal_eval\n",
    "validation_DF = pd.read_json(\"annotated_smallNetwork.json\", lines=True)\n",
    "validation_DF.head(5)"
   ]
  },
  {
   "cell_type": "code",
   "execution_count": 36,
   "metadata": {},
   "outputs": [
    {
     "name": "stdout",
     "output_type": "stream",
     "text": [
      "Name: \n",
      "Type: DiGraph\n",
      "Number of nodes: 938\n",
      "Number of edges: 964\n",
      "Average in degree:   1.0277\n",
      "Average out degree:   1.0277\n"
     ]
    },
    {
     "data": {
      "image/png": "[encoded data removed]",
      "text/plain": [
       "<Figure size 432x288 with 1 Axes>"
      ]
     },
     "metadata": {},
     "output_type": "display_data"
    }
   ],
   "source": [
    "######## Only For Validation #########\n",
    "val_FollowerNode = list()\n",
    "val_FollowingNode = list()\n",
    "val_follow_count_mapper = dict()\n",
    "nodeId_Set= set(validation_DF['id'])\n",
    "for index, DataRow in validation_DF.iterrows():\n",
    "    if 'Followers' in DataRow:\n",
    "        if DataRow['id'] in userIdDict:\n",
    "            val_follow_count_mapper[DataRow['id']] = len(userIdDict[DataRow['id']]['Followers'])\n",
    "        else:\n",
    "            val_follow_count_mapper[DataRow['id']] = len(DataRow['Followers'])\n",
    "#         for val_followerKey, val_follower in enumerate(literal_eval(DataRow['Followers'])):\n",
    "        for val_followerKey, val_follower in enumerate(DataRow['Followers']):\n",
    "            if val_follower in nodeId_Set:\n",
    "                val_FollowerNode.append((int(DataRow['id']), int(val_follower), 1))\n",
    "    if 'Following' in DataRow:\n",
    "        if DataRow['id'] in userIdDict:\n",
    "            val_follow_count_mapper[DataRow['id']] = val_follow_count_mapper[DataRow['id']] + len(userIdDict[DataRow['id']]['Following'])\n",
    "        else:\n",
    "            val_follow_count_mapper[DataRow['id']] =  val_follow_count_mapper[DataRow['id']] + len(DataRow['Following'])\n",
    "#         for val_followingKey, val_following in enumerate(literal_eval(DataRow['Following'])):\n",
    "        for val_followingKey, val_following in enumerate(DataRow['Following']):\n",
    "            if val_following in nodeId_Set:\n",
    "                val_FollowingNode.append((int(val_following), int(DataRow['id']), 1))\n",
    "            \n",
    "val_FollowerDF = pd.DataFrame(val_FollowerNode, columns =['Src', 'Des', 'Score'])\n",
    "val_FollowingDF= pd.DataFrame(val_FollowingNode, columns = ['Src', 'Des', 'Score'])\n",
    "val_FollowDF = pd.concat([val_FollowerDF,val_FollowingDF])\n",
    "val_FollowDF.to_csv(\"val_FollowDF.csv\", sep=',', index=False, header=False)\n",
    "val_nx_graph=nx.read_edgelist('val_FollowDF.csv', delimiter=',', data=(('weight',float),), nodetype=int, create_using=nx.DiGraph())\n",
    "print(nx.info(val_nx_graph))\n",
    "nx.draw(val_nx_graph)\n",
    "plt.show()"
   ]
  },
  {
   "cell_type": "markdown",
   "metadata": {},
   "source": [
    "### Only For Validation ####"
   ]
  },
  {
   "cell_type": "code",
   "execution_count": 37,
   "metadata": {},
   "outputs": [],
   "source": [
    "valid_userIdDict = {nodeID:userIdDict[nodeID] for nodeID in nodeId_Set if nodeID in userIdDict}\n",
    "userIdDict = valid_userIdDict"
   ]
  },
  {
   "cell_type": "markdown",
   "metadata": {},
   "source": [
    "### First Baseline method execution starts from here"
   ]
  },
  {
   "cell_type": "code",
   "execution_count": 119,
   "metadata": {},
   "outputs": [],
   "source": [
    "MPopular_baseLine = [{k: v} for k, v in sorted(val_follow_count_mapper.items(), key=lambda item: item[1])][-20:]"
   ]
  },
  {
   "cell_type": "markdown",
   "metadata": {},
   "source": [
    "### First Baseline method execution ends here"
   ]
  },
  {
   "cell_type": "code",
   "execution_count": 38,
   "metadata": {},
   "outputs": [
    {
     "data": {
      "text/plain": [
       "937"
      ]
     },
     "execution_count": 38,
     "metadata": {},
     "output_type": "execute_result"
    }
   ],
   "source": [
    "# print(len(userIdDict.keys()), len(nodeId_Set), userIdDict.keys())\n",
    "# print(val_follow_count_mapper)\n",
    "len(list(userIdDict.values()))"
   ]
  },
  {
   "cell_type": "code",
   "execution_count": 39,
   "metadata": {},
   "outputs": [],
   "source": [
    "def create_Json_Processed_Data_File():\n",
    "    for userID, entries in userIdDict.items():\n",
    "        processedTweetTextList = list()\n",
    "        if \"Tweets\" in entries:\n",
    "            if len(entries[\"Tweets\"]) != 0:\n",
    "                for tweetText in entries[\"Tweets\"]:\n",
    "                    if len(tweetText) <= 5:\n",
    "                        continue\n",
    "                    else:\n",
    "                        processedTweetTextList.append(process_text(tweetText))\n",
    "                entries.update({\"Tweets\":processedTweetTextList})\n",
    "            else:\n",
    "                del entries[\"Tweets\"]\n",
    "        if \"AllText\" in entries:\n",
    "            if len(entries[\"AllText\"]) >= 5:\n",
    "                entries.update({\"AllText\":process_text(entries[\"AllText\"])})\n",
    "            elif \"Tweets\" in entries and len(entries[\"AllText\"]) < 5 and len(entries[\"Tweets\"]) >= 2:\n",
    "                entries.update({\"AllText\":' '.join(processedTweetTextList)})\n",
    "            else:\n",
    "                del entries[\"AllText\"]\n",
    "        if \"Description\" in entries:\n",
    "            if len(entries[\"Description\"]) >= 5:\n",
    "                entries.update({\"Description\":process_text(entries[\"Description\"])})\n",
    "            else:\n",
    "                del entries[\"Description\"]\n",
    "        if 'DescTag' in entries:\n",
    "            if len(entries['DescTag']) == 0:\n",
    "                del entries['DescTag']\n",
    "    with open('userIdDict.json', 'w') as fp:\n",
    "        json.dump(userIdDict, fp)\n",
    "create_Json_Processed_Data_File()"
   ]
  },
  {
   "cell_type": "code",
   "execution_count": 40,
   "metadata": {},
   "outputs": [],
   "source": [
    "def categoryAnalyzer(tweetID, Type):\n",
    "    userScoreDict=dict()\n",
    "    score=0\n",
    "    keepOrDiscard=True\n",
    "    if tweetID not in userIdDict:\n",
    "        userScoreDict[tweetID] = 0\n",
    "        keepOrDiscard = False\n",
    "        return keepOrDiscard, userScoreDict\n",
    "    if \"TweetsTags\" not in userIdDict[tweetID] and \"DescTag\" not in userIdDict[tweetID]:\n",
    "        userScoreDict[tweetID] = 0\n",
    "        keepOrDiscard = False\n",
    "        return keepOrDiscard, userScoreDict\n",
    "    if \"TweetsTags\" in userIdDict[tweetID] and Type==True:\n",
    "        countTech=0\n",
    "        countSci=0\n",
    "        for per_TextID, categoryList in enumerate(userIdDict[tweetID][\"TweetsTags\"]):\n",
    "            for tagID, category in enumerate(categoryList):\n",
    "                if \"antivirus and malware\" in category:\n",
    "                    score=score+1\n",
    "                    break\n",
    "                if \"technology and computing\" in category:\n",
    "                    if (countTech%5)==0:\n",
    "                        score=score+0.5\n",
    "                    countTech=countTech+1\n",
    "                    break\n",
    "                if \"computer science\" in category:\n",
    "                    if (countSci%5)==0:\n",
    "                        score=score+0.1\n",
    "                    countSci=countSci+1\n",
    "        if countTech<=2:\n",
    "            userScoreDict[tweetID] = 0\n",
    "            keepOrDiscard = False\n",
    "    if \"DescTag\" in userIdDict[tweetID] and Type==True:\n",
    "        for tagID, category in enumerate(userIdDict[tweetID][\"DescTag\"]):\n",
    "            if \"technology and computing\" in category:\n",
    "                score=score+2\n",
    "                break\n",
    "            if \"computer science\" in category:\n",
    "                score=score+0.5\n",
    "    if keepOrDiscard==True:\n",
    "        userScoreDict[tweetID] = score\n",
    "#     else:\n",
    "#         print(\"Assign 0\")\n",
    "    return keepOrDiscard, userScoreDict"
   ]
  },
  {
   "cell_type": "code",
   "execution_count": null,
   "metadata": {},
   "outputs": [],
   "source": [
    "# categoryAnalyzer(1006326206579511296, True)\n",
    "# userIdDict[222405719]"
   ]
  },
  {
   "cell_type": "markdown",
   "metadata": {},
   "source": [
    "### Only need for main data execution"
   ]
  },
  {
   "cell_type": "code",
   "execution_count": 14,
   "metadata": {},
   "outputs": [],
   "source": [
    "followerNode=list()\n",
    "followingNode=list()\n",
    "for key, item in userIdDict.items():\n",
    "    if 'Followers' in item:\n",
    "        for follrKey, followerVal in enumerate(item['Followers']):\n",
    "            followerNode.append((int(key), int(followerVal), 1.00))\n",
    "    if 'Following' in item:\n",
    "        for follngKey, followingVal in enumerate(item['Following']):\n",
    "            followingNode.append((int(followingVal), int(key), 1.00))"
   ]
  },
  {
   "cell_type": "markdown",
   "metadata": {},
   "source": [
    "### Only need for main data execution"
   ]
  },
  {
   "cell_type": "code",
   "execution_count": 15,
   "metadata": {},
   "outputs": [],
   "source": [
    "followerDF = pd.DataFrame(followerNode, columns =['Src', 'Des', 'Score'])\n",
    "followingDF= pd.DataFrame(followingNode, columns = ['Src', 'Des', 'Score'])\n",
    "followRelnDF = pd.concat([followerDF,followingDF])\n",
    "followerDF.to_csv(\"followerDF.csv\", sep=',', index=False, header=False)\n",
    "followingDF.to_csv(\"followingDF.csv\", sep=',', index=False, header=False)\n",
    "followRelnDF.to_csv(\"followRelnDF.csv\", sep=',', index=False, header=False)"
   ]
  },
  {
   "cell_type": "markdown",
   "metadata": {},
   "source": [
    "### Only need for main data execution"
   ]
  },
  {
   "cell_type": "code",
   "execution_count": 16,
   "metadata": {},
   "outputs": [],
   "source": [
    "def graph_reader():\n",
    "    \"\"\"\n",
    "    Function to read the graph from the path.\n",
    "    :param path: Path to the edge list.\n",
    "    :return graph: NetworkX object returned.\n",
    "    \"\"\"\n",
    "    graph=nx.read_edgelist('followRelnDF.csv', delimiter=',', data=(('weight',float),), nodetype=int, create_using=nx.DiGraph())\n",
    "    graph1=nx.read_edgelist('followerDF.csv', delimiter=',', data=(('weight',float),), nodetype=int, create_using=nx.DiGraph())\n",
    "    graph2=nx.read_edgelist('followingDF.csv', delimiter=',', data=(('weight',float),), nodetype=int, create_using=nx.DiGraph())\n",
    "    return graph, graph1, graph2"
   ]
  },
  {
   "cell_type": "markdown",
   "metadata": {},
   "source": [
    "### Only need for main data execution"
   ]
  },
  {
   "cell_type": "code",
   "execution_count": 41,
   "metadata": {},
   "outputs": [],
   "source": [
    "nx_graph, graph1, graph2 = graph_reader()\n",
    "# nx_graph.edges()"
   ]
  },
  {
   "cell_type": "code",
   "execution_count": null,
   "metadata": {},
   "outputs": [],
   "source": [
    "# nx_graph.nodes()\n",
    "# print(nx.info(nx_graph))\n",
    "# nx.draw(nx_graph)\n",
    "# plt.show()"
   ]
  },
  {
   "cell_type": "code",
   "execution_count": 42,
   "metadata": {},
   "outputs": [],
   "source": [
    "######## Only For Validation #########\n",
    "nx_graph = val_nx_graph"
   ]
  },
  {
   "cell_type": "markdown",
   "metadata": {},
   "source": [
    "## Community Detection using Girvan-Newman Algorithm "
   ]
  },
  {
   "cell_type": "code",
   "execution_count": null,
   "metadata": {},
   "outputs": [],
   "source": [
    "communities_generator = community.girvan_newman(nx_graph)\n",
    "top_level_communities = next(communities_generator)\n",
    "next_level_communities = next(communities_generator)\n",
    "sorted(map(sorted, next_level_communities))"
   ]
  },
  {
   "cell_type": "code",
   "execution_count": null,
   "metadata": {},
   "outputs": [],
   "source": [
    "testList = sorted(map(sorted, next_level_communities))\n",
    "len(testList)"
   ]
  },
  {
   "cell_type": "code",
   "execution_count": null,
   "metadata": {},
   "outputs": [],
   "source": [
    "girvan_PartitionDict=dict()\n",
    "for idx, subGrList in enumerate(testList):\n",
    "    for ind, node in enumerate(subGrList):\n",
    "        girvan_PartitionDict.update({node:idx})\n",
    "# pos = nx.spring_layout(nx_graph)\n",
    "# cmap = cm.get_cmap('viridis', max(girvan_PartitionDict.values()) + 1)\n",
    "# nx.draw_networkx_nodes(nx_graph, pos, girvan_PartitionDict.keys(), node_size=40, cmap=cmap, node_color=list(girvan_PartitionDict.values()))\n",
    "# nx.draw_networkx_edges(nx_graph, pos, alpha=0.5)\n",
    "# plt.show()"
   ]
  },
  {
   "cell_type": "markdown",
   "metadata": {},
   "source": [
    "## Community Detection on Leiden Algorithm (Networkx+igraph)"
   ]
  },
  {
   "cell_type": "code",
   "execution_count": 43,
   "metadata": {},
   "outputs": [],
   "source": [
    "nxNode_to_Index_Mapping = {node:ind for ind, node in enumerate(list(nx_graph.nodes()))}\n",
    "index_to_nxNode_Mapping = {ind:node for ind, node in enumerate(list(nx_graph.nodes()))}\n",
    "nxNodeList = list(index_to_nxNode_Mapping.keys())\n",
    "mapped_Edgelist = [(nxNode_to_Index_Mapping[nodeTouple[0]], nxNode_to_Index_Mapping[nodeTouple[1]]) for nodeTouple in nx_graph.edges()]\n",
    "ig_graph = ig.Graph(len(nx_graph), mapped_Edgelist)\n",
    "# ig_graph = ig.Graph.Adjacency((nx.to_scipy_sparse_matrix(nx_graph) > 0).tolist())\n",
    "louvain_partition = louvain.find_partition(ig_graph, louvain.ModularityVertexPartition)\n",
    "leiden_partition = leidenalg.find_partition(ig_graph, leidenalg.ModularityVertexPartition)"
   ]
  },
  {
   "cell_type": "code",
   "execution_count": 44,
   "metadata": {},
   "outputs": [],
   "source": [
    "edgeList=ig_graph.get_edgelist()\n",
    "nx_conv_graph = nx.DiGraph(edgeList)"
   ]
  },
  {
   "cell_type": "code",
   "execution_count": 45,
   "metadata": {},
   "outputs": [],
   "source": [
    "leiden_partitionDict= dict()\n",
    "for ind, nodeList in enumerate(list(leiden_partition)):\n",
    "    for node in nodeList:\n",
    "        leiden_partitionDict.update({node:ind})"
   ]
  },
  {
   "cell_type": "code",
   "execution_count": null,
   "metadata": {},
   "outputs": [],
   "source": [
    "# pos = nx.spring_layout(nx_conv_graph)\n",
    "# cmap = cm.get_cmap('viridis', max(leiden_partitionDict.values()) + 1)\n",
    "# nx.draw_networkx_nodes(nx_conv_graph, pos, leiden_partitionDict.keys(), node_size=10, cmap=cmap, node_color=list(leiden_partitionDict.values()))\n",
    "# nx.draw_networkx_edges(nx_conv_graph, pos, alpha=0.5)\n",
    "# plt.show()"
   ]
  },
  {
   "cell_type": "code",
   "execution_count": null,
   "metadata": {},
   "outputs": [],
   "source": [
    "# print(leiden_partition)"
   ]
  },
  {
   "cell_type": "code",
   "execution_count": null,
   "metadata": {},
   "outputs": [],
   "source": [
    "#Undirected Grpah\n",
    "# print(louvain_partition)"
   ]
  },
  {
   "cell_type": "code",
   "execution_count": 46,
   "metadata": {},
   "outputs": [],
   "source": [
    "def community_user_membership_function():\n",
    "    communityScoreDict=dict()\n",
    "    allUserScoreDict = dict()\n",
    "    communityTextDict=dict()\n",
    "    igraph_nx_mapper = dict()\n",
    "    valid_UserNodes_in_Community = dict()\n",
    "    userNode_Community_map = dict()\n",
    "    for commID, community in enumerate(leiden_partition):\n",
    "#         nxNodeList = list(nx_graph.nodes())\n",
    "        communityTotalScore=0\n",
    "        communityText = \"\"\n",
    "        CTI_userList=list()\n",
    "        for index, memberNode in enumerate(community):\n",
    "            igraph_nx_mapper.update({memberNode:index_to_nxNode_Mapping[nxNodeList[memberNode]]})\n",
    "            \n",
    "            status, id_with_Score = categoryAnalyzer(index_to_nxNode_Mapping[nxNodeList[memberNode]], True)\n",
    "            \n",
    "#             status, id_with_Score = categoryAnalyzer(nxNodeList[memberNode], True)\n",
    "            \n",
    "            communityTotalScore = communityTotalScore + list(id_with_Score.values())[0]\n",
    "            allUserScoreDict.update(id_with_Score)\n",
    "            if status == True:\n",
    "                if userIdDict[index_to_nxNode_Mapping[nxNodeList[memberNode]]]['Tweets'] and userIdDict[index_to_nxNode_Mapping[nxNodeList[memberNode]]]['Tweets'] != None:\n",
    "                    Tweets=' '.join(userIdDict[index_to_nxNode_Mapping[nxNodeList[memberNode]]]['Tweets'])\n",
    "                    communityText = communityText + \" \" + Tweets\n",
    "                    CTI_userList.append(index_to_nxNode_Mapping[nxNodeList[memberNode]])\n",
    "                    userNode_Community_map.update({index_to_nxNode_Mapping[nxNodeList[memberNode]]:commID})\n",
    "        communityScoreDict[commID] = communityTotalScore/(len(community))\n",
    "        valid_UserNodes_in_Community[commID] = CTI_userList\n",
    "    #     print(\"communityScoreDict-> \", communityScoreDict[commID], communityText)\n",
    "        if communityText or communityText != \"\":\n",
    "            communityTextDict.update({commID:communityText})\n",
    "    return communityScoreDict, allUserScoreDict, communityTextDict, igraph_nx_mapper, valid_UserNodes_in_Community, userNode_Community_map\n",
    "communityScoreDict, allUserScoreDict, communityTextDict, igraph_nx_mapper, valid_UserNodes_in_Community, userNode_Community_map = community_user_membership_function()"
   ]
  },
  {
   "cell_type": "code",
   "execution_count": 47,
   "metadata": {},
   "outputs": [],
   "source": [
    "# communityTextDict"
   ]
  },
  {
   "cell_type": "code",
   "execution_count": 48,
   "metadata": {},
   "outputs": [],
   "source": [
    "community_to_Index_Mapper = {node: i for i, node in enumerate(list(communityTextDict.keys()))}\n",
    "index_to_Community_Mapper = {i: node for i, node in enumerate(list(community_to_Index_Mapper.keys()))}\n",
    "# igraph_nx_mapper"
   ]
  },
  {
   "cell_type": "code",
   "execution_count": 49,
   "metadata": {},
   "outputs": [],
   "source": [
    "def seedInput(seedList):\n",
    "    seedNode_CleanedTextList =  list()\n",
    "    for idx, nodeID in enumerate(seedList):\n",
    "        userObject = userIdDict[seedList[idx]]\n",
    "        if 'AllText' in userObject and userObject['AllText'] != None and len(userObject['AllText'])>= 0:\n",
    "            seedNode_CleanedTextList.append(userObject['AllText'])\n",
    "    return seedNode_CleanedTextList"
   ]
  },
  {
   "cell_type": "code",
   "execution_count": 50,
   "metadata": {},
   "outputs": [],
   "source": [
    "#seed node input\n",
    "def text_tfIdf_Vectorization(commOrUser_TextDict_or_TextList, seed_TextList):\n",
    "    if isinstance(commOrUser_TextDict_or_TextList, dict):\n",
    "        sparse_tfIdfVector = apply_TFIDF(list(commOrUser_TextDict_or_TextList.values()) + seed_TextList)\n",
    "    if isinstance(commOrUser_TextDict_or_TextList, list):\n",
    "        sparse_tfIdfVector = apply_TFIDF(commOrUser_TextDict_or_TextList + seed_TextList)\n",
    "    return sparse_tfIdfVector"
   ]
  },
  {
   "cell_type": "code",
   "execution_count": 96,
   "metadata": {},
   "outputs": [
    {
     "name": "stdout",
     "output_type": "stream",
     "text": [
      " +  (115, 51059)  + \n"
     ]
    }
   ],
   "source": [
    "# seedList = [835035547, 1102643178,1927923236]\n",
    "seedList = [97721735,398400323, 459375780]\n",
    "# seedList = [609536134, 37771774, 42920448]\n",
    "# seedList = [1089055000427298816, 1310985002356813824]\n",
    "seedNode_CleanedTextList = seedInput(seedList)\n",
    "community_seed_sparse_tfIdfVector = text_tfIdf_Vectorization(communityTextDict, seedNode_CleanedTextList)"
   ]
  },
  {
   "cell_type": "markdown",
   "metadata": {},
   "source": [
    "#### Third baseline Code Starts here"
   ]
  },
  {
   "cell_type": "code",
   "execution_count": 97,
   "metadata": {},
   "outputs": [],
   "source": [
    "id_AllText_mapper = {tID: tVal['AllText'] for tID, tVal in userIdDict.items() if 'AllText' in tVal}\n",
    "thirdBase_userID_to_Index_Mapper = {node: i for i, node in enumerate(list(id_AllText_mapper.keys()))}\n",
    "index_to_thirdBase_userID_Mapper = {i: node for i, node in enumerate(list(thirdBase_userID_to_Index_Mapper.keys()))}"
   ]
  },
  {
   "cell_type": "code",
   "execution_count": 98,
   "metadata": {},
   "outputs": [
    {
     "name": "stdout",
     "output_type": "stream",
     "text": [
      " +  (898, 61061)  + \n"
     ]
    }
   ],
   "source": [
    "CplusL_tfIdfVector = text_tfIdf_Vectorization(id_AllText_mapper, seedNode_CleanedTextList)"
   ]
  },
  {
   "cell_type": "markdown",
   "metadata": {},
   "source": [
    "#### New Code Ends"
   ]
  },
  {
   "cell_type": "markdown",
   "metadata": {},
   "source": [
    "##### Second baseline Code Starts here"
   ]
  },
  {
   "cell_type": "code",
   "execution_count": 99,
   "metadata": {},
   "outputs": [],
   "source": [
    "mergeSeed = set()"
   ]
  },
  {
   "cell_type": "code",
   "execution_count": 100,
   "metadata": {},
   "outputs": [],
   "source": [
    "def friend_of_friend_generator(feedList):\n",
    "    for seedNode in seedList:\n",
    "        if seedNode in userIdDict:\n",
    "            if 'Followers' in userIdDict[seedNode]:\n",
    "                mergeSeed.update(set(userIdDict[seedNode]['Followers']))\n",
    "friend_of_friend_generator(seedList)"
   ]
  },
  {
   "cell_type": "code",
   "execution_count": 101,
   "metadata": {},
   "outputs": [
    {
     "data": {
      "text/plain": [
       "{14383360,\n",
       " 15190920,\n",
       " 18473212,\n",
       " 44626510,\n",
       " 44978495,\n",
       " 92766283,\n",
       " 98763714,\n",
       " 239238596,\n",
       " 242354329,\n",
       " 249802981,\n",
       " 329995400,\n",
       " 346248085,\n",
       " 558033985,\n",
       " 977112482,\n",
       " 1261803361,\n",
       " 2229801743,\n",
       " 2564083316,\n",
       " 2891554785,\n",
       " 3282774342,\n",
       " 3358636906,\n",
       " 738585307952484352,\n",
       " 764654979831308288,\n",
       " 871982259708022784,\n",
       " 894721498933583872,\n",
       " 1043484575329144834,\n",
       " 1077232593307881472,\n",
       " 1107586534516187142,\n",
       " 1112062964260110336,\n",
       " 1222375896658608128,\n",
       " 1286906525475373058}"
      ]
     },
     "execution_count": 101,
     "metadata": {},
     "output_type": "execute_result"
    }
   ],
   "source": [
    "FoF_baseline = {fol_1 for fol_1 in mergeSeed if fol_1 in set(validation_DF['id'])}\n",
    "mergeSeed = FoF_baseline\n",
    "friend_of_friend_generator(FoF_baseline)\n",
    "FoF_baseline = {fol_1 for fol_1 in mergeSeed if fol_1 in set(validation_DF['id'])}\n",
    "FoF_baseline"
   ]
  },
  {
   "cell_type": "markdown",
   "metadata": {},
   "source": [
    "##### Second baseline Code Ends"
   ]
  },
  {
   "cell_type": "code",
   "execution_count": 103,
   "metadata": {},
   "outputs": [],
   "source": [
    "def similarty_Calculation_and_MaxSimilar_Community_or_Node_retrieval(seed_sparse_tfIdfVector, index_to_entity_Mapper, seedList, val):\n",
    "    if val == True:\n",
    "        selection = 100\n",
    "    else:\n",
    "        selection = 3\n",
    "    seed_sparse_tfIdfVector = seed_sparse_tfIdfVector.toarray()\n",
    "    similarityMatrix = cosine_similarity(seed_sparse_tfIdfVector[-len(seedList):],seed_sparse_tfIdfVector[0:(seed_sparse_tfIdfVector.shape[0]-len(seedList))])\n",
    "    MaxSimilartyList = [list(similarityMatrix[i].argsort()[-selection:][::-1]) for i in range(similarityMatrix.shape[0])]\n",
    "    print(MaxSimilartyList)\n",
    "    entitySimScore = np.array([np.take(similarityMatrix[i], indices, axis=0) for i, indices in enumerate(MaxSimilartyList)])\n",
    "    entityID = set([index_to_entity_Mapper[y] for x in MaxSimilartyList for y in x])\n",
    "    return similarityMatrix, MaxSimilartyList, entityID, entitySimScore"
   ]
  },
  {
   "cell_type": "code",
   "execution_count": 106,
   "metadata": {},
   "outputs": [
    {
     "name": "stdout",
     "output_type": "stream",
     "text": [
      "[[40, 43, 0], [30, 0, 2], [70, 5, 21]]\n"
     ]
    }
   ],
   "source": [
    "similarityMatrix, MaxSimilartyList, communityID, communitySimScore = similarty_Calculation_and_MaxSimilar_Community_or_Node_retrieval(community_seed_sparse_tfIdfVector, index_to_Community_Mapper, seedList, False)"
   ]
  },
  {
   "cell_type": "code",
   "execution_count": 104,
   "metadata": {},
   "outputs": [
    {
     "name": "stdout",
     "output_type": "stream",
     "text": [
      "[[622, 116, 621, 408, 632, 335, 656, 170, 42, 472, 634, 220, 801, 77, 2, 383, 817, 388, 849, 215, 209, 296, 311, 642, 389, 413, 59, 385, 637, 789, 386, 747, 497, 504, 529, 805, 442, 711, 749, 387, 745, 854, 357, 306, 838, 812, 457, 853, 479, 229, 536, 62, 369, 219, 396, 859, 540, 660, 873, 542, 281, 175, 793, 382, 29, 613, 28, 708, 686, 244, 143, 272, 798, 336, 444, 588, 744, 473, 638, 550, 663, 12, 7, 216, 558, 768, 20, 506, 255, 275, 74, 44, 312, 535, 23, 824, 203, 752, 104, 198], [357, 642, 39, 766, 558, 333, 708, 74, 711, 830, 7, 621, 542, 444, 335, 581, 339, 116, 804, 26, 467, 573, 198, 844, 622, 385, 258, 852, 408, 618, 429, 100, 264, 685, 517, 853, 20, 536, 77, 204, 634, 502, 272, 652, 878, 190, 199, 99, 793, 535, 563, 731, 386, 758, 528, 637, 451, 679, 58, 215, 613, 62, 606, 112, 336, 540, 193, 699, 757, 588, 403, 477, 255, 220, 648, 117, 701, 283, 223, 886, 121, 703, 744, 369, 311, 129, 46, 504, 854, 640, 480, 532, 432, 747, 319, 665, 787, 449, 139, 587], [529, 712, 801, 413, 220, 504, 383, 686, 567, 805, 802, 389, 632, 98, 376, 293, 722, 506, 745, 634, 621, 633, 42, 789, 490, 21, 311, 525, 221, 501, 849, 838, 729, 77, 388, 852, 336, 536, 613, 184, 622, 442, 306, 361, 335, 777, 159, 595, 678, 472, 245, 417, 790, 249, 873, 352, 608, 744, 243, 281, 853, 854, 741, 629, 216, 100, 214, 406, 542, 574, 419, 817, 116, 708, 300, 69, 292, 20, 428, 882, 118, 663, 700, 463, 287, 382, 758, 99, 480, 619, 514, 310, 769, 59, 198, 105, 750, 385, 151, 510]]\n"
     ]
    }
   ],
   "source": [
    "similarityMatrix, MaxSimilartyList, val_userID, val_userSimScore = similarty_Calculation_and_MaxSimilar_Community_or_Node_retrieval(CplusL_tfIdfVector, index_to_thirdBase_userID_Mapper, seedList, True)\n",
    "CplusL_baseline = set(FoF_baseline).intersection(set(val_userID))"
   ]
  },
  {
   "cell_type": "code",
   "execution_count": 107,
   "metadata": {},
   "outputs": [
    {
     "name": "stdout",
     "output_type": "stream",
     "text": [
      "Seperate or AllSep\n",
      "[[40, 43, 0], [30, 0, 2], [70, 5, 21]] [[0.42548331 0.21056478 0.14077671]\n",
      " [0.29216023 0.12698807 0.09627587]\n",
      " [0.41073096 0.17000798 0.12484245]]\n"
     ]
    }
   ],
   "source": [
    "# MinSimilartyList = [list(similarityMatrix[i].argsort()[:-1]) for i in range(similarityMatrix.shape[0])]\n",
    "# outlierCommunityID = set([index_to_Community_Mapper[y] for x in MinSimilartyList for y in x])\n",
    "# outlierCommunityID = outlierCommunityID - communityID\n",
    "alpha = 1\n",
    "method = str(input(\"Seperate or All\"))\n",
    "if method ==\"Sep\":\n",
    "    print(MaxSimilartyList,communitySimScore)\n",
    "    communityWeight = np.array([np.array([communityScoreDict[index_to_Community_Mapper[y]] for y in x]) for x in MaxSimilartyList])\n",
    "    value = np.add(communitySimScore*alpha, communityWeight)\n",
    "#     print(value, communityWeight)\n",
    "if method == \"All\":\n",
    "    #     MaxSimilartyArray = set(itertools.chain.from_iterable(MaxSimilartyList))\n",
    "    communitySimScoreFlat = communitySimScore.flatten('C')\n",
    "    print(MaxSimilartyList,communitySimScore, communitySimScoreFlat)\n",
    "    communityWeightFlat = np.array([communityScoreDict[index_to_Community_Mapper[y]] for x in MaxSimilartyList for y in x])\n",
    "    value = np.add(communitySimScoreFlat, communityWeightFlat)\n",
    "#     print(value, communityWeight)"
   ]
  },
  {
   "cell_type": "code",
   "execution_count": 108,
   "metadata": {},
   "outputs": [
    {
     "name": "stdout",
     "output_type": "stream",
     "text": [
      " +  (33, 5506)  + \n",
      " +  (21, 3872)  + \n",
      " +  (19, 3673)  + \n",
      " +  (10, 2225)  + \n",
      " +  (8, 1832)  + \n",
      " +  (8, 2126)  + \n",
      " +  (8, 1781)  + \n",
      " +  (9, 1878)  + \n",
      "{0: {7381532: 3.5933255023593462, 856759714868117504: 3.0892406941275037, 956177218140504065: 4.112928227299823, 1192262627000377344: 3.111935087281981, 1157003820691533826: 5.117139714736972, 3308362765: 3.0948236606989035}, 2: {1171617863506915328: 2.601161527672878, 3818980053: 1.09836440258616, 33097269: 3.6057215192773566, 627477287: 3.0842288257338897, 1040404000284336129: 3.2172583085324002}, 5: {103679380: 4.221065341352483, 1187720616922767361: 4.698644874495106, 537333195: 3.607370679929713, 1252630205988048896: 2.1915398274936337}, 70: {15190920: 5.615159276338912, 459375780: 6.0, 1083401132926488576: 3.23173191033965}, 40: {97721735: 3.499999999999998, 14383360: 4.670469452873822, 14386590: 3.594760930832031}, 43: {764654979831308288: 5.276886194769389, 1292116872: 6.683121014715302, 592778695: 3.5589218188137033}, 21: {1130446148341252096: 3.705331658275928, 810854024769576960: 8.67108131931977, 1622051: 1.5626711268469349, 1079900581144207361: 3.1856288000839204}, 30: {398400323: 2.999999999999999, 38752792: 5.077048335342245, 2891554785: 1.0718344106272977}}\n"
     ]
    }
   ],
   "source": [
    "def user_Search_in_Community(valid_UserNodes, seed_TextList):\n",
    "    user_Score_in_CommunityDict = dict()\n",
    "    for commKey in communityID:\n",
    "        usrID_score_dict = dict()\n",
    "        if commKey in valid_UserNodes:\n",
    "            community_Member_TextList = [userIdDict[userID]['AllText'] for userID in valid_UserNodes[commKey]]\n",
    "            userNode_seed_sparse_tfIdfVector = text_tfIdf_Vectorization(community_Member_TextList, seed_TextList)\n",
    "            userNode_seed_sparse_tfIdfVector = userNode_seed_sparse_tfIdfVector.toarray()\n",
    "#             print(\"userNode_seed_sparse_tfIdfVector-> \", userNode_seed_sparse_tfIdfVector.shape)\n",
    "            user_Seed_SimilarityMatrix = cosine_similarity(userNode_seed_sparse_tfIdfVector[-len(seedList):],userNode_seed_sparse_tfIdfVector[0:(userNode_seed_sparse_tfIdfVector.shape[0]-len(seedList))])\n",
    "#             print(\"#########\", user_Seed_SimilarityMatrix)\n",
    "            if user_Seed_SimilarityMatrix.shape[1] <= 1:\n",
    "                user_Seed_MaxSimilartyArr = np.array([np.zeros(len(user_Seed_SimilarityMatrix.flatten()))])\n",
    "                userNode_SimScore = np.array(user_Seed_SimilarityMatrix).flatten()\n",
    "            else:\n",
    "                user_Seed_MaxSimilartyArr = np.array([user_Seed_SimilarityMatrix[i].argsort()[-2:][::-1] for i in range(user_Seed_SimilarityMatrix.shape[0])])\n",
    "                ### Problem\n",
    "                userNode_SimScore = np.array([np.take(user_Seed_SimilarityMatrix[i], list(user_Seed_MaxSimilartyArr[i,:]), axis=0) for i in range(user_Seed_MaxSimilartyArr.shape[0])])\n",
    "            user_Seed_MaxSimilartyArrFlat = user_Seed_MaxSimilartyArr.flatten('C')\n",
    "            userNode_SimScoreFlat = userNode_SimScore.flatten('C')\n",
    "            userNodeID = [valid_UserNodes[commKey][int(x)] for x in np.nditer(user_Seed_MaxSimilartyArrFlat)]\n",
    "            userNode_Weight = np.array([allUserScoreDict[y] for y in userNodeID])\n",
    "            userNode_Score_Array = np.add(userNode_SimScoreFlat*alpha, userNode_Weight)\n",
    "#             print(\"user_Seed_MaxSimilartyArr-> \", user_Seed_MaxSimilartyArr,\" userNode_SimScoreFlat-> \",userNode_SimScoreFlat,\" userNode_Weight-> \", userNode_Weight)\n",
    "            for idx, nodeID in enumerate(userNodeID):\n",
    "                if nodeID in usrID_score_dict:\n",
    "                    if usrID_score_dict[nodeID]> userNode_Score_Array[idx]:\n",
    "                        continue\n",
    "                    else:\n",
    "                        usrID_score_dict[nodeID] = userNode_Score_Array[idx]\n",
    "                else:\n",
    "                    usrID_score_dict[nodeID] = userNode_Score_Array[idx]\n",
    "            user_Score_in_CommunityDict[commKey] = usrID_score_dict\n",
    "    return user_Score_in_CommunityDict\n",
    "recommended_UserIDwith_Score = user_Search_in_Community(valid_UserNodes_in_Community, seedNode_CleanedTextList)\n",
    "print(recommended_UserIDwith_Score)"
   ]
  },
  {
   "cell_type": "code",
   "execution_count": 109,
   "metadata": {},
   "outputs": [],
   "source": [
    "# recommended_UserIDwith_Score = sorted(list(recommended_UserIDwith_Score.values()), key = lambda i: list(i.values())[0], reverse=True)[:20]\n",
    "userID_Score_tempList=list()\n",
    "for community_ID_Score_val_dict in recommended_UserIDwith_Score.values():\n",
    "    for key, val in community_ID_Score_val_dict.items():\n",
    "        userID_Score_tempList.append({key:val})\n",
    "recommended_UserIDwith_Score = sorted(userID_Score_tempList, key = lambda i: list(i.values()), reverse=True)[:20]\n",
    "# outlierCommunityID = sorted(outlierCommunityID, key = lambda i: communityScoreDict[i])\n",
    "# [userID for commKey in communityID for userID in valid_UserNodes[commKey] if commKey in valid_UserNodes]"
   ]
  },
  {
   "cell_type": "code",
   "execution_count": 110,
   "metadata": {},
   "outputs": [
    {
     "name": "stdout",
     "output_type": "stream",
     "text": [
      "20 [{810854024769576960: 8.67108131931977}, {1292116872: 6.683121014715302}, {459375780: 6.0}, {15190920: 5.615159276338912}, {764654979831308288: 5.276886194769389}, {1157003820691533826: 5.117139714736972}, {38752792: 5.077048335342245}, {1187720616922767361: 4.698644874495106}, {14383360: 4.670469452873822}, {103679380: 4.221065341352483}, {956177218140504065: 4.112928227299823}, {1130446148341252096: 3.705331658275928}, {537333195: 3.607370679929713}, {33097269: 3.6057215192773566}, {14386590: 3.594760930832031}, {7381532: 3.5933255023593462}, {592778695: 3.5589218188137033}, {97721735: 3.499999999999998}, {1083401132926488576: 3.23173191033965}, {1040404000284336129: 3.2172583085324002}]\n"
     ]
    }
   ],
   "source": [
    "print(len(recommended_UserIDwith_Score),recommended_UserIDwith_Score)"
   ]
  },
  {
   "cell_type": "code",
   "execution_count": 111,
   "metadata": {},
   "outputs": [],
   "source": [
    "# The following two lines Can be added\n",
    "highRank_Comm_User_map_list = [{(userNode_Community_map[list(id_value_map.keys())[0]]):(list(id_value_map.keys())[0])} for id_value_map in recommended_UserIDwith_Score]\n",
    "community_flag = set()\n",
    "for commID_usr_map in highRank_Comm_User_map_list:\n",
    "    if list(commID_usr_map.keys())[0] in community_flag:\n",
    "        continue\n",
    "    else:\n",
    "        community_flag.add(list(commID_usr_map.keys())[0])\n",
    "        \n",
    "        for usrID in valid_UserNodes_in_Community[list(commID_usr_map.keys())[0]]:\n",
    "            if usrID == list(commID_usr_map.values())[0]:\n",
    "                continue\n",
    "            if usrID in recommended_UserIDwith_Score and usrID != list(commID_usr_map.values())[0]:\n",
    "                recommended_UserIDwith_Score[usrID] = recommended_UserIDwith_Score[usrID] + recommended_UserIDwith_Score[list(commID_usr_map.values())[0]]*0.2"
   ]
  },
  {
   "cell_type": "code",
   "execution_count": 112,
   "metadata": {},
   "outputs": [
    {
     "data": {
      "text/plain": [
       "[{810854024769576960: 8.67108131931977},\n",
       " {1292116872: 6.683121014715302},\n",
       " {459375780: 6.0},\n",
       " {15190920: 5.615159276338912},\n",
       " {764654979831308288: 5.276886194769389},\n",
       " {1157003820691533826: 5.117139714736972},\n",
       " {38752792: 5.077048335342245},\n",
       " {1187720616922767361: 4.698644874495106},\n",
       " {14383360: 4.670469452873822},\n",
       " {103679380: 4.221065341352483},\n",
       " {956177218140504065: 4.112928227299823},\n",
       " {1130446148341252096: 3.705331658275928},\n",
       " {537333195: 3.607370679929713},\n",
       " {33097269: 3.6057215192773566},\n",
       " {14386590: 3.594760930832031},\n",
       " {7381532: 3.5933255023593462},\n",
       " {592778695: 3.5589218188137033},\n",
       " {97721735: 3.499999999999998},\n",
       " {1083401132926488576: 3.23173191033965},\n",
       " {1040404000284336129: 3.2172583085324002}]"
      ]
     },
     "execution_count": 112,
     "metadata": {},
     "output_type": "execute_result"
    }
   ],
   "source": [
    "recommended_UserIDwith_Score"
   ]
  },
  {
   "cell_type": "markdown",
   "metadata": {},
   "source": [
    "# Model Validation Part #"
   ]
  },
  {
   "cell_type": "code",
   "execution_count": 113,
   "metadata": {},
   "outputs": [],
   "source": [
    "def model_performance_exhibition(recommended_UserIDwith_Score, withScore):\n",
    "    if withScore:\n",
    "        userID = [list(id_score.keys())[0] for id_score in recommended_UserIDwith_Score]\n",
    "    if not withScore:\n",
    "        userID = recommended_UserIDwith_Score\n",
    "    for valID in userID:\n",
    "        print(validation_DF.iloc[validation_DF[validation_DF['id'] == valID].index.tolist()[0]]['Annotation'])"
   ]
  },
  {
   "cell_type": "code",
   "execution_count": 117,
   "metadata": {},
   "outputs": [
    {
     "name": "stdout",
     "output_type": "stream",
     "text": [
      "relevant\n",
      "relevant\n",
      "relevant\n",
      "relevant\n",
      "irrelevant\n"
     ]
    }
   ],
   "source": [
    "model_performance_exhibition(recommended_UserIDwith_Score[0:5], True) ## Proposed model"
   ]
  },
  {
   "cell_type": "code",
   "execution_count": 120,
   "metadata": {},
   "outputs": [
    {
     "name": "stdout",
     "output_type": "stream",
     "text": [
      "irrelevant\n",
      "irrelevant\n",
      "irrelevant\n",
      "irrelevant\n",
      "irrelevant\n"
     ]
    }
   ],
   "source": [
    "### First Baseline\n",
    "model_performance_exhibition(MPopular_baseLine[0:5], True)"
   ]
  },
  {
   "cell_type": "code",
   "execution_count": 122,
   "metadata": {},
   "outputs": [
    {
     "name": "stdout",
     "output_type": "stream",
     "text": [
      "irrelevant\n",
      "irrelevant\n",
      "irrelevant\n",
      "relevant\n",
      "irrelevant\n"
     ]
    }
   ],
   "source": [
    "### Second baseline\n",
    "model_performance_exhibition(list(FoF_baseline)[0:5], False)"
   ]
  },
  {
   "cell_type": "code",
   "execution_count": 123,
   "metadata": {},
   "outputs": [
    {
     "name": "stdout",
     "output_type": "stream",
     "text": [
      "irrelevant\n",
      "irrelevant\n",
      "irrelevant\n",
      "irrelevant\n",
      "irrelevant\n"
     ]
    }
   ],
   "source": [
    "model_performance_exhibition(list(CplusL_baseline)[0:5], False)"
   ]
  },
  {
   "cell_type": "markdown",
   "metadata": {},
   "source": [
    "## Using BERT Embedding ##"
   ]
  },
  {
   "cell_type": "code",
   "execution_count": null,
   "metadata": {},
   "outputs": [],
   "source": [
    "# user_Batch_Sentences = [\"Here is the sentence I want embeddings for. This is because the BERT tokenizer was created with a WordPiece model.\", \"After stealing money from the bank vault, the bank robber was seen fishing on the Mississippi river bank.\"]\n",
    "def bertEmbeddingGenerator(inputType, user_Batch_Sentences):\n",
    "    if inputType == \"Base\":\n",
    "        tokenizer = AutoTokenizer.from_pretrained('bert-base-uncased')\n",
    "        encoded_input = tokenizer(user_Batch_Sentences, padding=True, truncation=True, return_tensors=\"pt\")\n",
    "#         print(encoded_input)\n",
    "        model = BertModel.from_pretrained('bert-base-uncased', output_hidden_states = True, ) # Whether the model returns all hidden-states.\n",
    "\n",
    "        # Put the model in \"evaluation\" mode, meaning feed-forward operation.\n",
    "        model.eval()\n",
    "\n",
    "        hidden_states = list()\n",
    "        # Run the text through BERT, and collect all of the hidden states produced from all 12 layers.\n",
    "        with torch.no_grad():\n",
    "            outputs = model(encoded_input['input_ids'], encoded_input['token_type_ids'], encoded_input['attention_mask'])\n",
    "            # As we set `output_hidden_states = True`, the third item will be the hidden states from all layers\n",
    "            hidden_states = outputs[2]\n",
    "\n",
    "        token_embeddings = torch.stack(hidden_states, dim=0)\n",
    "        token_embeddings = token_embeddings.permute(1, 0, 2, 3)\n",
    "#         print(\"token_embeddings-> \", token_embeddings.shape)\n",
    "        \n",
    "        userTextsEmbeddingArr = torch.stack([torch.mean(token_embeddings[i][-4:, :,], dim=0).mean(dim=0) for i in range(len(user_Batch_Sentences))]).mean(dim=0)\n",
    "        \n",
    "#         print(\"userTextsEmbeddingArr-> \", userTextsEmbeddingArr.shape)\n",
    "        \n",
    "        return userTextsEmbeddingArr\n",
    "\n",
    "    # DistilBert does not have'token_type_ids' \n",
    "    if inputType == \"Distil\":\n",
    "        tokenizer = DistilBertTokenizer.from_pretrained('distilbert-base-uncased')\n",
    "        model = DistilBertModel.from_pretrained('distilbert-base-uncased')\n",
    "\n",
    "        encoded_input = tokenizer(user_Batch_Sentences, padding=True, truncation=True, return_tensors=\"pt\")\n",
    "#         print(encoded_input)\n",
    "\n",
    "        model.eval()\n",
    "\n",
    "        hidden_states = list()\n",
    "        # Run the text through BERT, and collect all of the hidden states produced from all 12 layers.\n",
    "        with torch.no_grad():\n",
    "            outputs = model(encoded_input['input_ids'], encoded_input['attention_mask'])\n",
    "            token_embeddings = outputs.last_hidden_state\n",
    "#         print(\"token_embeddings-> \", token_embeddings.shape)\n",
    "        userTextsEmbeddingList = [torch.mean(token_embeddings[i], dim=0).mean(dim=0) for i in range(len(user_Batch_Sentences))]\n",
    "        \n",
    "        userTextsEmbeddingArr = torch.stack(userTextsEmbeddingList, dim=0).numpy()\n",
    "#         print(\"userTextsEmbeddingArr-> \", userTextsEmbeddingArr.shape)\n",
    "        \n",
    "        return userTextsEmbeddingArr"
   ]
  },
  {
   "cell_type": "code",
   "execution_count": null,
   "metadata": {},
   "outputs": [],
   "source": [
    "inputType = str(input(\" BERT Model Type \"))\n",
    "validator_embedding_list = list()\n",
    "for key, userID_Score_Pair in enumerate(recommended_UserIDwith_Score):\n",
    "    user_Batch_Sentences = [text for indx, text, in enumerate(userIdDict[list(userID_Score_Pair.keys())[0]][\"Tweets\"])]\n",
    "    validator_embedding_list.append(bertEmbeddingGenerator(inputType, user_Batch_Sentences))"
   ]
  },
  {
   "cell_type": "code",
   "execution_count": null,
   "metadata": {},
   "outputs": [],
   "source": [
    "# print(\"recommended_UserIDwith_Score-> \", recommended_UserIDwith_Score, \" outlierCommunityID-> \", outlierCommunityID)"
   ]
  },
  {
   "cell_type": "code",
   "execution_count": null,
   "metadata": {},
   "outputs": [],
   "source": [
    "# print(len(validator_embedding_list), len(outlierCommunityID))"
   ]
  },
  {
   "cell_type": "code",
   "execution_count": null,
   "metadata": {},
   "outputs": [],
   "source": [
    "## Has to be done by tonight\n",
    "# for out_commKey in outlierCommunityID:\n",
    "#     for userID in valid_UserNodes_in_Community[out_commKey]:\n",
    "#         if userID:\n",
    "#             out_user_Batch_Sentences = [text for indx, text, in enumerate(userIdDict[userID][\"Tweets\"])]\n",
    "#             validator_embedding_list.append(bertEmbeddingGenerator(inputType, out_user_Batch_Sentences))"
   ]
  },
  {
   "cell_type": "code",
   "execution_count": null,
   "metadata": {},
   "outputs": [],
   "source": [
    "# test_data = np.array([[0.5, 0.2, 6], [-2, 4, 9]])\n",
    "min_cluster_size_val = 4\n",
    "data = np.vstack(validator_embedding_list)\n",
    "clusterer = hdbscan.HDBSCAN(min_cluster_size=min_cluster_size_val, gen_min_span_tree=True)\n",
    "cluster_labels = clusterer.fit_predict(data)\n",
    "cluster_labels"
   ]
  },
  {
   "cell_type": "code",
   "execution_count": null,
   "metadata": {},
   "outputs": [],
   "source": [
    "cluster_labels = list(cluster_labels)\n",
    "min_cluster_size_val = 4\n",
    "recommended_Cluster_Tag = cluster_labels[0:len(recommended_UserIDwith_Score)]\n",
    "recommended_Cluster_Tag_Set = set(recommended_Cluster_Tag)-{-1}\n",
    "outlier_Primary_Tag = cluster_labels[len(recommended_UserIDwith_Score):len(cluster_labels)]\n",
    "outlier_Primary_Tag_Set = set(outlier_Primary_Tag)\n",
    "commonTag = recommended_Cluster_Tag_Set.intersection(outlier_Primary_Tag_Set)\n",
    "for commonElement in commonTag:\n",
    "    if recommended_Cluster_Tag.count(commonElement) < min_cluster_size_val:\n",
    "        recommended_Cluster_Tag_Set = recommended_Cluster_Tag_Set - set(commonElement)\n",
    "\n",
    "outlier_Own = outlier_Primary_Tag_Set-recommended_Cluster_Tag_Set\n",
    "sum = 0\n",
    "for tagElement in outlier_Own:\n",
    "    sum = sum + outlier_Primary_Tag.count(tagElement)\n",
    "outlierCoef = sum/len(outlier_Primary_Tag)\n",
    "\n",
    "expVal = math.exp(-abs(len(seedList)-len(recommended_Cluster_Tag_Set)))\n",
    "hubbertFunc = (4*expVal)/(1+expVal)**2\n",
    "resultValidity = outlierCoef * hubbertFunc\n",
    "print(\"outlierCoef-> \", outlierCoef, \" hubbertFunc-> \", hubbertFunc, \" resultValidity-> \", resultValidity)"
   ]
  },
  {
   "cell_type": "markdown",
   "metadata": {},
   "source": [
    "## Using BERT Ends ##"
   ]
  },
  {
   "cell_type": "markdown",
   "metadata": {},
   "source": [
    "## Using LDA Validation ##"
   ]
  },
  {
   "cell_type": "code",
   "execution_count": null,
   "metadata": {},
   "outputs": [],
   "source": [
    "recomUser_AllText = list()\n",
    "for recomUser in recommended_UserIDwith_Score:\n",
    "    recomUser_AllText.append(userIdDict[list(recomUser.keys())[0]]['AllText'])"
   ]
  },
  {
   "cell_type": "code",
   "execution_count": null,
   "metadata": {},
   "outputs": [],
   "source": [
    "import gensim\n",
    "from gensim import corpora\n",
    "import nltk\n",
    "import spacy\n",
    "spacy.load('en')\n",
    "from spacy.lang.en import English\n",
    "parser = English()\n",
    "\n",
    "def tokenize(text):\n",
    "    lda_tokens = []\n",
    "    tokens = parser(text)\n",
    "    for token in tokens:\n",
    "        if token.orth_.isspace():\n",
    "            continue\n",
    "        elif token.like_url:\n",
    "            lda_tokens.append('URL')\n",
    "        elif token.orth_.startswith('@'):\n",
    "            lda_tokens.append('SCREEN_NAME')\n",
    "        else:\n",
    "            lda_tokens.append(token.lower_)\n",
    "    return lda_tokens\n",
    "\n",
    "\n",
    "\n",
    "nltk.download('wordnet')\n",
    "from nltk.corpus import wordnet as wn\n",
    "def get_lemma(word):\n",
    "    lemma = wn.morphy(word)\n",
    "    if lemma is None:\n",
    "        return word\n",
    "    else:\n",
    "        return lemma\n",
    "    \n",
    "from nltk.stem.wordnet import WordNetLemmatizer\n",
    "def get_lemma2(word):\n",
    "    return WordNetLemmatizer().lemmatize(word)\n",
    "\n",
    "\n",
    "nltk.download('stopwords')\n",
    "en_stop = set(nltk.corpus.stopwords.words('english'))\n",
    "\n",
    "\n",
    "def prepare_text_for_lda(text):\n",
    "    tokens = tokenize(text)\n",
    "    tokens = [token for token in tokens if len(token) > 4]\n",
    "    tokens = [token for token in tokens if token not in en_stop]\n",
    "    tokens = [get_lemma(token) for token in tokens]\n",
    "    return tokens\n",
    "\n",
    "\n",
    "text_data = []\n",
    "for allText in recomUser_AllText:\n",
    "    tokens = prepare_text_for_lda(allText)\n",
    "#     print(tokens)\n",
    "    text_data.append(tokens)\n",
    "\n",
    "\n",
    "dictionary = corpora.Dictionary(text_data)\n",
    "corpus = [dictionary.doc2bow(text) for text in text_data]\n",
    "NUM_TOPICS = 3\n",
    "ldamodel = gensim.models.ldamodel.LdaModel(corpus, num_topics = NUM_TOPICS, id2word=dictionary, passes=15)\n",
    "topics = ldamodel.print_topics(num_words=5)\n",
    "for topic in topics:\n",
    "    print(topic)"
   ]
  },
  {
   "cell_type": "code",
   "execution_count": null,
   "metadata": {},
   "outputs": [],
   "source": [
    "for i, seedNode in enumerate(seedList):\n",
    "    print(seedNode,\"Seed Node\",i,\"-> \", userIdDict[seedNode]['AllText'])\n",
    "#     new_doc = prepare_text_for_lda(userIdDict[list(recomUser.keys())[0]]['AllText'])\n",
    "    print(set(new_doc))\n",
    "    new_doc_bow = dictionary.doc2bow(new_doc)\n",
    "#     print(new_doc_bow)\n",
    "#     print(ldamodel.get_document_topics(new_doc_bow))"
   ]
  },
  {
   "cell_type": "markdown",
   "metadata": {},
   "source": [
    "## Using LDA Ends ##"
   ]
  },
  {
   "cell_type": "markdown",
   "metadata": {},
   "source": [
    "## Community Detection using Louvain Algorithm using Networkx (Undirected)"
   ]
  },
  {
   "cell_type": "code",
   "execution_count": null,
   "metadata": {},
   "outputs": [],
   "source": [
    "# display a graph with its communities:\n",
    "# as Erdos-Renyi graphs don't have true community structure,\n",
    "# instead load the karate club graph\n",
    "\n",
    "G = nx.karate_club_graph()\n",
    "# compute the best partition\n",
    "partition = community_louvain.best_partition(G)\n",
    "print(\"partition-> \", partition)\n",
    "# draw the graph\n",
    "pos = nx.spring_layout(G)\n",
    "# color the nodes according to their partition\n",
    "cmap = cm.get_cmap('viridis', max(partition.values()) + 1)\n",
    "nx.draw_networkx_nodes(G, pos, partition.keys(), node_size=40, cmap=cmap, node_color=list(partition.values()))\n",
    "nx.draw_networkx_edges(G, pos, alpha=0.5)\n",
    "plt.show()"
   ]
  },
  {
   "cell_type": "raw",
   "metadata": {},
   "source": [
    "# nx.write_edgelist(G, \"test.edgelist\")"
   ]
  },
  {
   "cell_type": "markdown",
   "metadata": {},
   "source": [
    "## Community Detection using Louvain Algorithm using Networkx (Directed)"
   ]
  },
  {
   "cell_type": "code",
   "execution_count": null,
   "metadata": {},
   "outputs": [],
   "source": [
    "G = graph\n",
    "partition = community_louvain.best_partition(G)\n",
    "# modularity(partition, G)\n",
    "pos = nx.spring_layout(G)\n",
    "# color the nodes according to their partition\n",
    "cmap = cm.get_cmap('viridis', max(partition.values()) + 1)\n",
    "nx.draw_networkx_nodes(G, pos, partition.keys(), node_size=40, cmap=cmap, node_color=list(partition.values()))\n",
    "nx.draw_networkx_edges(G, pos, alpha=0.5)\n",
    "plt.show()"
   ]
  },
  {
   "cell_type": "code",
   "execution_count": null,
   "metadata": {},
   "outputs": [],
   "source": [
    "import torch\n",
    "tesTensor = torch.FloatTensor([[[[1, 2, 3], [4, 5, 6], [7, 8, 9], [11, 12, 13]], [[14, 15, 16], [17, 18, 19], [20, 21, 22], [23, 24, 25]], [[26, 27, 28], [29, 30, 31], [32, 33, 34], [35, 36, 37]]], [[[38, 39, 40], [41, 42, 43], [45, 46, 47], [48, 48, 50]], [[51, 52, 53], [54, 55, 56], [57, 58, 59], [60, 61, 62]], [[63, 64, 65], [66, 67, 68], [69, 70, 71], [72, 73, 74]]], [[[75, 76, 77], [78, 79, 80], [81, 82, 83], [84, 85, 86]], [[87, 88, 89], [90, 91, 92], [93, 94, 95], [96, 97, 98]], [[99, 100, 101], [102, 103, 104], [105, 106, 107], [108, 109, 110]]]])"
   ]
  },
  {
   "cell_type": "code",
   "execution_count": null,
   "metadata": {},
   "outputs": [],
   "source": [
    "torch.stack([torch.mean(tesTensor[i][-2:, :,], dim=0).mean(dim=0) for i in range(len(tesTensor))]).mean(dim=0)"
   ]
  },
  {
   "cell_type": "code",
   "execution_count": null,
   "metadata": {},
   "outputs": [],
   "source": [
    "int(5/2)"
   ]
  }
 ],
 "metadata": {
  "kernelspec": {
   "display_name": "Python 3",
   "language": "python",
   "name": "python3"
  },
  "language_info": {
   "codemirror_mode": {
    "name": "ipython",
    "version": 3
   },
   "file_extension": ".py",
   "mimetype": "text/x-python",
   "name": "python",
   "nbconvert_exporter": "python",
   "pygments_lexer": "ipython3",
   "version": "3.8.5"
  }
 },
 "nbformat": 4,
 "nbformat_minor": 4
}
